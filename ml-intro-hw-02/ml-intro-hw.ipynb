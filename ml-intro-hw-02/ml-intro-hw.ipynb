{
 "cells": [
  {
   "cell_type": "markdown",
   "metadata": {},
   "source": [
    "# SkillFactory\n",
    "## Введение в ML, введение в sklearn"
   ]
  },
  {
   "cell_type": "markdown",
   "metadata": {},
   "source": [
    "В этом задании мы с вами рассмотрим данные с конкурса [Задача предсказания отклика клиентов ОТП Банка](http://www.machinelearning.ru/wiki/index.php?title=%D0%97%D0%B0%D0%B4%D0%B0%D1%87%D0%B0_%D0%BF%D1%80%D0%B5%D0%B4%D1%81%D0%BA%D0%B0%D0%B7%D0%B0%D0%BD%D0%B8%D1%8F_%D0%BE%D1%82%D0%BA%D0%BB%D0%B8%D0%BA%D0%B0_%D0%BA%D0%BB%D0%B8%D0%B5%D0%BD%D1%82%D0%BE%D0%B2_%D0%9E%D0%A2%D0%9F_%D0%91%D0%B0%D0%BD%D0%BA%D0%B0_%28%D0%BA%D0%BE%D0%BD%D0%BA%D1%83%D1%80%D1%81%29)"
   ]
  },
  {
   "cell_type": "code",
   "execution_count": 858,
   "metadata": {},
   "outputs": [],
   "source": [
    "import pandas as pd\n",
    "import numpy as np\n",
    "import matplotlib.pyplot as plt\n",
    "\n",
    "%matplotlib inline\n",
    "\n",
    "plt.style.use('ggplot')\n",
    "plt.rcParams['figure.figsize'] = (12,5)"
   ]
  },
  {
   "cell_type": "markdown",
   "metadata": {},
   "source": [
    "### Грузим данные"
   ]
  },
  {
   "cell_type": "markdown",
   "metadata": {},
   "source": [
    "Считаем описание данных"
   ]
  },
  {
   "cell_type": "code",
   "execution_count": 859,
   "metadata": {},
   "outputs": [],
   "source": [
    "\n",
    "df_descr = pd.read_csv('data/otp_description.csv', sep='\\t', encoding='utf8')"
   ]
  },
  {
   "cell_type": "code",
   "execution_count": 860,
   "metadata": {},
   "outputs": [
    {
     "data": {
      "text/html": [
       "<div>\n",
       "<style scoped>\n",
       "    .dataframe tbody tr th:only-of-type {\n",
       "        vertical-align: middle;\n",
       "    }\n",
       "\n",
       "    .dataframe tbody tr th {\n",
       "        vertical-align: top;\n",
       "    }\n",
       "\n",
       "    .dataframe thead th {\n",
       "        text-align: right;\n",
       "    }\n",
       "</style>\n",
       "<table border=\"1\" class=\"dataframe\">\n",
       "  <thead>\n",
       "    <tr style=\"text-align: right;\">\n",
       "      <th></th>\n",
       "      <th>ПОЛЕ</th>\n",
       "      <th>ОПИСАНИЕ</th>\n",
       "    </tr>\n",
       "  </thead>\n",
       "  <tbody>\n",
       "    <tr>\n",
       "      <th>0</th>\n",
       "      <td>AGREEMENT_RK</td>\n",
       "      <td>уникальный идентификатор объекта в выборке</td>\n",
       "    </tr>\n",
       "    <tr>\n",
       "      <th>1</th>\n",
       "      <td>AGE</td>\n",
       "      <td>возраст клиента</td>\n",
       "    </tr>\n",
       "    <tr>\n",
       "      <th>2</th>\n",
       "      <td>SOCSTATUS_WORK_FL</td>\n",
       "      <td>социальный статус клиента относительно работы ...</td>\n",
       "    </tr>\n",
       "    <tr>\n",
       "      <th>3</th>\n",
       "      <td>SOCSTATUS_PENS_FL</td>\n",
       "      <td>социальный статус клиента относительно пенсии ...</td>\n",
       "    </tr>\n",
       "    <tr>\n",
       "      <th>4</th>\n",
       "      <td>GENDER</td>\n",
       "      <td>пол клиента (1- женщины, 0-мужчины)</td>\n",
       "    </tr>\n",
       "    <tr>\n",
       "      <th>5</th>\n",
       "      <td>CHILD_TOTAL</td>\n",
       "      <td>количество детей клиента</td>\n",
       "    </tr>\n",
       "    <tr>\n",
       "      <th>6</th>\n",
       "      <td>DEPENDANTS</td>\n",
       "      <td>количество иждивенцев клиента</td>\n",
       "    </tr>\n",
       "    <tr>\n",
       "      <th>7</th>\n",
       "      <td>EDUCATION</td>\n",
       "      <td>образование</td>\n",
       "    </tr>\n",
       "    <tr>\n",
       "      <th>8</th>\n",
       "      <td>MARITAL_STATUS</td>\n",
       "      <td>семейное положение</td>\n",
       "    </tr>\n",
       "    <tr>\n",
       "      <th>9</th>\n",
       "      <td>GEN_INDUSTRY</td>\n",
       "      <td>отрасль работы клиента</td>\n",
       "    </tr>\n",
       "    <tr>\n",
       "      <th>10</th>\n",
       "      <td>GEN_TITLE</td>\n",
       "      <td>должность</td>\n",
       "    </tr>\n",
       "    <tr>\n",
       "      <th>11</th>\n",
       "      <td>ORG_TP_STATE</td>\n",
       "      <td>форма собственности компании</td>\n",
       "    </tr>\n",
       "    <tr>\n",
       "      <th>12</th>\n",
       "      <td>ORG_TP_FCAPITAL</td>\n",
       "      <td>отношение к иностранному капиталу</td>\n",
       "    </tr>\n",
       "    <tr>\n",
       "      <th>13</th>\n",
       "      <td>JOB_DIR</td>\n",
       "      <td>направление деятельности в нутри компании</td>\n",
       "    </tr>\n",
       "    <tr>\n",
       "      <th>14</th>\n",
       "      <td>FAMILY_INCOME</td>\n",
       "      <td>семейный доход (несколько категорий)</td>\n",
       "    </tr>\n",
       "    <tr>\n",
       "      <th>15</th>\n",
       "      <td>PERSONAL_INCOME</td>\n",
       "      <td>личный доход клиента (в рублях)</td>\n",
       "    </tr>\n",
       "    <tr>\n",
       "      <th>16</th>\n",
       "      <td>REG_ADDRESS_PROVINCE</td>\n",
       "      <td>область регистрации клиента</td>\n",
       "    </tr>\n",
       "    <tr>\n",
       "      <th>17</th>\n",
       "      <td>FACT_ADDRESS_PROVINCE</td>\n",
       "      <td>область фактического пребывания клиента</td>\n",
       "    </tr>\n",
       "    <tr>\n",
       "      <th>18</th>\n",
       "      <td>POSTAL_ADDRESS_PROVINCE</td>\n",
       "      <td>почтовый адрес область</td>\n",
       "    </tr>\n",
       "    <tr>\n",
       "      <th>19</th>\n",
       "      <td>TP_PROVINCE</td>\n",
       "      <td>область торговой точки, где клиент брал послед...</td>\n",
       "    </tr>\n",
       "    <tr>\n",
       "      <th>20</th>\n",
       "      <td>REGION_NM</td>\n",
       "      <td>регион РФ</td>\n",
       "    </tr>\n",
       "    <tr>\n",
       "      <th>21</th>\n",
       "      <td>REG_FACT_FL</td>\n",
       "      <td>адрес регистрации и адрес фактического пребыва...</td>\n",
       "    </tr>\n",
       "    <tr>\n",
       "      <th>22</th>\n",
       "      <td>FACT_POST_FL</td>\n",
       "      <td>адрес фактического пребывания клиента и его по...</td>\n",
       "    </tr>\n",
       "    <tr>\n",
       "      <th>23</th>\n",
       "      <td>REG_POST_FL</td>\n",
       "      <td>адрес регистрации клиента и его почтовый адрес...</td>\n",
       "    </tr>\n",
       "    <tr>\n",
       "      <th>24</th>\n",
       "      <td>REG_FACT_POST_FL</td>\n",
       "      <td>почтовый, фактический и адрес регистрации совп...</td>\n",
       "    </tr>\n",
       "    <tr>\n",
       "      <th>25</th>\n",
       "      <td>REG_FACT_POST_TP_FL</td>\n",
       "      <td>область регистрации, фактического пребывания, ...</td>\n",
       "    </tr>\n",
       "    <tr>\n",
       "      <th>26</th>\n",
       "      <td>FL_PRESENCE_FL</td>\n",
       "      <td>наличие в собственности квартиры (1 - есть, 0 ...</td>\n",
       "    </tr>\n",
       "    <tr>\n",
       "      <th>27</th>\n",
       "      <td>OWN_AUTO</td>\n",
       "      <td>кол-во автомобилей в собственности</td>\n",
       "    </tr>\n",
       "    <tr>\n",
       "      <th>28</th>\n",
       "      <td>AUTO_RUS_FL</td>\n",
       "      <td>наличие в собственности автомобиля российского...</td>\n",
       "    </tr>\n",
       "    <tr>\n",
       "      <th>29</th>\n",
       "      <td>HS_PRESENCE_FL</td>\n",
       "      <td>наличие в собственности загородного дома (1 - ...</td>\n",
       "    </tr>\n",
       "    <tr>\n",
       "      <th>30</th>\n",
       "      <td>COT_PRESENCE_FL</td>\n",
       "      <td>наличие в собственности котеджа (1 - есть, 0 -...</td>\n",
       "    </tr>\n",
       "    <tr>\n",
       "      <th>31</th>\n",
       "      <td>GAR_PRESENCE_FL</td>\n",
       "      <td>наличие в собственности гаража (1 - есть, 0 - ...</td>\n",
       "    </tr>\n",
       "    <tr>\n",
       "      <th>32</th>\n",
       "      <td>LAND_PRESENCE_FL</td>\n",
       "      <td>наличие в собственности земельного участка (1 ...</td>\n",
       "    </tr>\n",
       "    <tr>\n",
       "      <th>33</th>\n",
       "      <td>CREDIT</td>\n",
       "      <td>сумма последнего кредита клиента (в рублях)</td>\n",
       "    </tr>\n",
       "    <tr>\n",
       "      <th>34</th>\n",
       "      <td>TERM</td>\n",
       "      <td>срок кредита</td>\n",
       "    </tr>\n",
       "    <tr>\n",
       "      <th>35</th>\n",
       "      <td>FST_PAYMENT</td>\n",
       "      <td>первоначальный взнос (в рублях)</td>\n",
       "    </tr>\n",
       "    <tr>\n",
       "      <th>36</th>\n",
       "      <td>DL_DOCUMENT_FL</td>\n",
       "      <td>в анкете клиент указал водительское удостовере...</td>\n",
       "    </tr>\n",
       "    <tr>\n",
       "      <th>37</th>\n",
       "      <td>GPF_DOCUMENT_FL</td>\n",
       "      <td>в анкете клиен указал ГПФ (1 - указал, 0 - не ...</td>\n",
       "    </tr>\n",
       "    <tr>\n",
       "      <th>38</th>\n",
       "      <td>FACT_LIVING_TERM</td>\n",
       "      <td>количество месяцев проживания по месту фактиче...</td>\n",
       "    </tr>\n",
       "    <tr>\n",
       "      <th>39</th>\n",
       "      <td>WORK_TIME</td>\n",
       "      <td>время работы на текущем месте (в месяцах)</td>\n",
       "    </tr>\n",
       "    <tr>\n",
       "      <th>40</th>\n",
       "      <td>FACT_PHONE_FL</td>\n",
       "      <td>наличие в заявке телефона по фактическому мест...</td>\n",
       "    </tr>\n",
       "    <tr>\n",
       "      <th>41</th>\n",
       "      <td>REG_PHONE_FL</td>\n",
       "      <td>наличие в заявке телефона по месту регистрации</td>\n",
       "    </tr>\n",
       "    <tr>\n",
       "      <th>42</th>\n",
       "      <td>GEN_PHONE_FL</td>\n",
       "      <td>наличие в заявке рабочего телефона</td>\n",
       "    </tr>\n",
       "    <tr>\n",
       "      <th>43</th>\n",
       "      <td>LOAN_NUM_TOTAL</td>\n",
       "      <td>количество ссуд клиента</td>\n",
       "    </tr>\n",
       "    <tr>\n",
       "      <th>44</th>\n",
       "      <td>LOAN_NUM_CLOSED</td>\n",
       "      <td>количество погашенных ссуд клиента</td>\n",
       "    </tr>\n",
       "    <tr>\n",
       "      <th>45</th>\n",
       "      <td>LOAN_NUM_PAYM</td>\n",
       "      <td>количество платежей, которые сделал клиент</td>\n",
       "    </tr>\n",
       "    <tr>\n",
       "      <th>46</th>\n",
       "      <td>LOAN_DLQ_NUM</td>\n",
       "      <td>количество просрочек, допущенных клиентом</td>\n",
       "    </tr>\n",
       "    <tr>\n",
       "      <th>47</th>\n",
       "      <td>LOAN_MAX_DLQ</td>\n",
       "      <td>номер максимальной просрочки, допущенной клиентом</td>\n",
       "    </tr>\n",
       "    <tr>\n",
       "      <th>48</th>\n",
       "      <td>LOAN_AVG_DLQ_AMT</td>\n",
       "      <td>средняя сумма просрочки (в рублях)</td>\n",
       "    </tr>\n",
       "    <tr>\n",
       "      <th>49</th>\n",
       "      <td>LOAN_MAX_DLQ_AMT</td>\n",
       "      <td>максимальная сумма просрочки (в рублях)</td>\n",
       "    </tr>\n",
       "    <tr>\n",
       "      <th>50</th>\n",
       "      <td>PREVIOUS_CARD_NUM_UTILIZED</td>\n",
       "      <td>количество уже утилизированных карт ( если пус...</td>\n",
       "    </tr>\n",
       "  </tbody>\n",
       "</table>\n",
       "</div>"
      ],
      "text/plain": [
       "                          ПОЛЕ  \\\n",
       "0                 AGREEMENT_RK   \n",
       "1                          AGE   \n",
       "2            SOCSTATUS_WORK_FL   \n",
       "3            SOCSTATUS_PENS_FL   \n",
       "4                       GENDER   \n",
       "5                  CHILD_TOTAL   \n",
       "6                   DEPENDANTS   \n",
       "7                    EDUCATION   \n",
       "8               MARITAL_STATUS   \n",
       "9                 GEN_INDUSTRY   \n",
       "10                   GEN_TITLE   \n",
       "11                ORG_TP_STATE   \n",
       "12             ORG_TP_FCAPITAL   \n",
       "13                     JOB_DIR   \n",
       "14               FAMILY_INCOME   \n",
       "15             PERSONAL_INCOME   \n",
       "16        REG_ADDRESS_PROVINCE   \n",
       "17       FACT_ADDRESS_PROVINCE   \n",
       "18     POSTAL_ADDRESS_PROVINCE   \n",
       "19                 TP_PROVINCE   \n",
       "20                   REGION_NM   \n",
       "21                 REG_FACT_FL   \n",
       "22                FACT_POST_FL   \n",
       "23                 REG_POST_FL   \n",
       "24            REG_FACT_POST_FL   \n",
       "25         REG_FACT_POST_TP_FL   \n",
       "26              FL_PRESENCE_FL   \n",
       "27                    OWN_AUTO   \n",
       "28                 AUTO_RUS_FL   \n",
       "29              HS_PRESENCE_FL   \n",
       "30             COT_PRESENCE_FL   \n",
       "31             GAR_PRESENCE_FL   \n",
       "32            LAND_PRESENCE_FL   \n",
       "33                      CREDIT   \n",
       "34                        TERM   \n",
       "35                 FST_PAYMENT   \n",
       "36              DL_DOCUMENT_FL   \n",
       "37             GPF_DOCUMENT_FL   \n",
       "38            FACT_LIVING_TERM   \n",
       "39                   WORK_TIME   \n",
       "40               FACT_PHONE_FL   \n",
       "41                REG_PHONE_FL   \n",
       "42                GEN_PHONE_FL   \n",
       "43              LOAN_NUM_TOTAL   \n",
       "44             LOAN_NUM_CLOSED   \n",
       "45               LOAN_NUM_PAYM   \n",
       "46                LOAN_DLQ_NUM   \n",
       "47                LOAN_MAX_DLQ   \n",
       "48            LOAN_AVG_DLQ_AMT   \n",
       "49            LOAN_MAX_DLQ_AMT   \n",
       "50  PREVIOUS_CARD_NUM_UTILIZED   \n",
       "\n",
       "                                             ОПИСАНИЕ  \n",
       "0          уникальный идентификатор объекта в выборке  \n",
       "1                                     возраст клиента  \n",
       "2   социальный статус клиента относительно работы ...  \n",
       "3   социальный статус клиента относительно пенсии ...  \n",
       "4                 пол клиента (1- женщины, 0-мужчины)  \n",
       "5                            количество детей клиента  \n",
       "6                       количество иждивенцев клиента  \n",
       "7                                         образование  \n",
       "8                                  семейное положение  \n",
       "9                              отрасль работы клиента  \n",
       "10                                          должность  \n",
       "11                       форма собственности компании  \n",
       "12                  отношение к иностранному капиталу  \n",
       "13          направление деятельности в нутри компании  \n",
       "14               семейный доход (несколько категорий)  \n",
       "15                    личный доход клиента (в рублях)  \n",
       "16                        область регистрации клиента  \n",
       "17            область фактического пребывания клиента  \n",
       "18                             почтовый адрес область  \n",
       "19  область торговой точки, где клиент брал послед...  \n",
       "20                                          регион РФ  \n",
       "21  адрес регистрации и адрес фактического пребыва...  \n",
       "22  адрес фактического пребывания клиента и его по...  \n",
       "23  адрес регистрации клиента и его почтовый адрес...  \n",
       "24  почтовый, фактический и адрес регистрации совп...  \n",
       "25  область регистрации, фактического пребывания, ...  \n",
       "26  наличие в собственности квартиры (1 - есть, 0 ...  \n",
       "27                кол-во автомобилей в собственности   \n",
       "28  наличие в собственности автомобиля российского...  \n",
       "29  наличие в собственности загородного дома (1 - ...  \n",
       "30  наличие в собственности котеджа (1 - есть, 0 -...  \n",
       "31  наличие в собственности гаража (1 - есть, 0 - ...  \n",
       "32  наличие в собственности земельного участка (1 ...  \n",
       "33        сумма последнего кредита клиента (в рублях)  \n",
       "34                                       срок кредита  \n",
       "35                    первоначальный взнос (в рублях)  \n",
       "36  в анкете клиент указал водительское удостовере...  \n",
       "37  в анкете клиен указал ГПФ (1 - указал, 0 - не ...  \n",
       "38  количество месяцев проживания по месту фактиче...  \n",
       "39          время работы на текущем месте (в месяцах)  \n",
       "40  наличие в заявке телефона по фактическому мест...  \n",
       "41     наличие в заявке телефона по месту регистрации  \n",
       "42                 наличие в заявке рабочего телефона  \n",
       "43                            количество ссуд клиента  \n",
       "44                 количество погашенных ссуд клиента  \n",
       "45         количество платежей, которые сделал клиент  \n",
       "46          количество просрочек, допущенных клиентом  \n",
       "47  номер максимальной просрочки, допущенной клиентом  \n",
       "48                 средняя сумма просрочки (в рублях)  \n",
       "49            максимальная сумма просрочки (в рублях)  \n",
       "50  количество уже утилизированных карт ( если пус...  "
      ]
     },
     "execution_count": 860,
     "metadata": {},
     "output_type": "execute_result"
    }
   ],
   "source": [
    "df_descr"
   ]
  },
  {
   "cell_type": "markdown",
   "metadata": {},
   "source": [
    "Считаем обучающую выборки и тестовую (которую мы как бы не видим)"
   ]
  },
  {
   "cell_type": "code",
   "execution_count": 861,
   "metadata": {},
   "outputs": [],
   "source": [
    "df_train = pd.read_csv('data/otp_train.csv', sep='\\t', encoding='utf8')"
   ]
  },
  {
   "cell_type": "code",
   "execution_count": 862,
   "metadata": {},
   "outputs": [
    {
     "data": {
      "text/plain": [
       "(15223, 52)"
      ]
     },
     "execution_count": 862,
     "metadata": {},
     "output_type": "execute_result"
    }
   ],
   "source": [
    "df_train.shape"
   ]
  },
  {
   "cell_type": "code",
   "execution_count": 863,
   "metadata": {},
   "outputs": [],
   "source": [
    "df_test = pd.read_csv('data/otp_test.csv', sep='\\t', encoding='utf8')"
   ]
  },
  {
   "cell_type": "code",
   "execution_count": 864,
   "metadata": {},
   "outputs": [
    {
     "data": {
      "text/plain": [
       "(14910, 52)"
      ]
     },
     "execution_count": 864,
     "metadata": {},
     "output_type": "execute_result"
    }
   ],
   "source": [
    "df_test.shape"
   ]
  },
  {
   "cell_type": "code",
   "execution_count": 865,
   "metadata": {},
   "outputs": [
    {
     "data": {
      "text/plain": [
       "<matplotlib.axes._subplots.AxesSubplot at 0x22ae2903588>"
      ]
     },
     "execution_count": 865,
     "metadata": {},
     "output_type": "execute_result"
    },
    {
     "data": {
      "image/png": "[encoded data removed]",
      "text/plain": [
       "<matplotlib.figure.Figure at 0x22ad793deb8>"
      ]
     },
     "metadata": {},
     "output_type": "display_data"
    }
   ],
   "source": [
    "df_test['TARGET'].hist()"
   ]
  },
  {
   "cell_type": "markdown",
   "metadata": {},
   "source": [
    "## Объединим две выборки\n",
    "\n",
    "Так как пока мы пока не умеем работать sklearn  Pipeline, то для того, чтобы после предобработки столбцы в двух выборках находились на своих местах.\n",
    "\n",
    "Для того, чтобы в дальнейшем отделить их введем новый столбец \"sample\""
   ]
  },
  {
   "cell_type": "code",
   "execution_count": 866,
   "metadata": {},
   "outputs": [],
   "source": [
    "df_train.loc[:, 'sample'] = 'train'\n",
    "df_test.loc[:, 'sample'] = 'test'"
   ]
  },
  {
   "cell_type": "code",
   "execution_count": 867,
   "metadata": {},
   "outputs": [],
   "source": [
    "df = df_test.append(df_train).reset_index(drop=True)"
   ]
  },
  {
   "cell_type": "code",
   "execution_count": 868,
   "metadata": {},
   "outputs": [
    {
     "data": {
      "text/plain": [
       "(30133, 53)"
      ]
     },
     "execution_count": 868,
     "metadata": {},
     "output_type": "execute_result"
    }
   ],
   "source": [
    "df.shape"
   ]
  },
  {
   "cell_type": "markdown",
   "metadata": {},
   "source": [
    "### Чуть-чуть посмотрим на данные"
   ]
  },
  {
   "cell_type": "markdown",
   "metadata": {
    "collapsed": true
   },
   "source": [
    "Посмотрим типы данных и их заполняемость"
   ]
  },
  {
   "cell_type": "code",
   "execution_count": 869,
   "metadata": {
    "scrolled": false
   },
   "outputs": [
    {
     "name": "stdout",
     "output_type": "stream",
     "text": [
      "<class 'pandas.core.frame.DataFrame'>\n",
      "RangeIndex: 30133 entries, 0 to 30132\n",
      "Data columns (total 53 columns):\n",
      "AGREEMENT_RK                  30133 non-null int64\n",
      "TARGET                        30133 non-null int64\n",
      "AGE                           30133 non-null int64\n",
      "SOCSTATUS_WORK_FL             30133 non-null int64\n",
      "SOCSTATUS_PENS_FL             30133 non-null int64\n",
      "GENDER                        30133 non-null int64\n",
      "CHILD_TOTAL                   30133 non-null int64\n",
      "DEPENDANTS                    30133 non-null int64\n",
      "EDUCATION                     30133 non-null object\n",
      "MARITAL_STATUS                30133 non-null object\n",
      "GEN_INDUSTRY                  27420 non-null object\n",
      "GEN_TITLE                     27420 non-null object\n",
      "ORG_TP_STATE                  27420 non-null object\n",
      "ORG_TP_FCAPITAL               27425 non-null object\n",
      "JOB_DIR                       27420 non-null object\n",
      "FAMILY_INCOME                 30133 non-null object\n",
      "PERSONAL_INCOME               30133 non-null object\n",
      "REG_ADDRESS_PROVINCE          30133 non-null object\n",
      "FACT_ADDRESS_PROVINCE         30133 non-null object\n",
      "POSTAL_ADDRESS_PROVINCE       30133 non-null object\n",
      "TP_PROVINCE                   29543 non-null object\n",
      "REGION_NM                     30131 non-null object\n",
      "REG_FACT_FL                   30133 non-null int64\n",
      "FACT_POST_FL                  30133 non-null int64\n",
      "REG_POST_FL                   30133 non-null int64\n",
      "REG_FACT_POST_FL              30133 non-null int64\n",
      "REG_FACT_POST_TP_FL           30133 non-null int64\n",
      "FL_PRESENCE_FL                30133 non-null int64\n",
      "OWN_AUTO                      30133 non-null int64\n",
      "AUTO_RUS_FL                   30133 non-null int64\n",
      "HS_PRESENCE_FL                30133 non-null int64\n",
      "COT_PRESENCE_FL               30133 non-null int64\n",
      "GAR_PRESENCE_FL               30133 non-null int64\n",
      "LAND_PRESENCE_FL              30133 non-null int64\n",
      "CREDIT                        30133 non-null object\n",
      "TERM                          30133 non-null int64\n",
      "FST_PAYMENT                   30133 non-null object\n",
      "DL_DOCUMENT_FL                30133 non-null int64\n",
      "GPF_DOCUMENT_FL               30133 non-null int64\n",
      "FACT_LIVING_TERM              30133 non-null int64\n",
      "WORK_TIME                     27416 non-null float64\n",
      "FACT_PHONE_FL                 30133 non-null int64\n",
      "REG_PHONE_FL                  30133 non-null int64\n",
      "GEN_PHONE_FL                  30133 non-null int64\n",
      "LOAN_NUM_TOTAL                30133 non-null int64\n",
      "LOAN_NUM_CLOSED               30133 non-null int64\n",
      "LOAN_NUM_PAYM                 30133 non-null int64\n",
      "LOAN_DLQ_NUM                  30133 non-null int64\n",
      "LOAN_MAX_DLQ                  30133 non-null int64\n",
      "LOAN_AVG_DLQ_AMT              30133 non-null object\n",
      "LOAN_MAX_DLQ_AMT              30133 non-null object\n",
      "PREVIOUS_CARD_NUM_UTILIZED    600 non-null float64\n",
      "sample                        30133 non-null object\n",
      "dtypes: float64(2), int64(32), object(19)\n",
      "memory usage: 12.2+ MB\n"
     ]
    }
   ],
   "source": [
    "df.info()"
   ]
  },
  {
   "cell_type": "markdown",
   "metadata": {
    "collapsed": true
   },
   "source": [
    "Видим, что часть данных - object, скорее всего стоки.\n",
    "\n",
    "\n",
    "Давайте выведем эти значения для каждого столбца"
   ]
  },
  {
   "cell_type": "code",
   "execution_count": 870,
   "metadata": {},
   "outputs": [
    {
     "name": "stdout",
     "output_type": "stream",
     "text": [
      "==========\n",
      "EDUCATION\n",
      "{'Неоконченное высшее', 'Неполное среднее', 'Высшее', 'Среднее специальное', 'Среднее', 'Два и более высших образования', 'Ученая степень'}\n",
      "\n",
      "\n",
      "==========\n",
      "MARITAL_STATUS\n",
      "{'Разведен(а)', 'Вдовец/Вдова', 'Состою в браке', 'Гражданский брак', 'Не состоял в браке'}\n",
      "\n",
      "\n",
      "==========\n",
      "GEN_INDUSTRY\n",
      "{nan, 'Нефтегазовая промышленность', 'Ресторанный бизнес/Общественное питание', 'Здравоохранение', 'Химия/Парфюмерия/Фармацевтика', 'ЧОП/Детективная д-ть', 'СМИ/Реклама/PR-агенства', 'Развлечения/Искусство', 'Информационные технологии', 'Подбор персонала', 'Сельское хозяйство', 'Энергетика', 'Образование', 'Туризм', 'Недвижимость', 'Маркетинг', 'Металлургия/Промышленность/Машиностроение', 'Управляющая компания', 'Салоны красоты и здоровья', 'Государственная служба', 'Коммунальное хоз-во/Дорожные службы', 'Страхование', 'Другие сферы', 'Юридические услуги/нотариальные услуги', 'Наука', 'Сборочные производства', 'Торговля', 'Информационные услуги', 'Транспорт', 'Банк/Финансы', 'Строительство', 'Логистика'}\n",
      "\n",
      "\n",
      "==========\n",
      "GEN_TITLE\n",
      "{nan, 'Руководитель среднего звена', 'Высококвалифиц. специалист', 'Руководитель низшего звена', 'Руководитель высшего звена', 'Работник сферы услуг', 'Рабочий', 'Индивидуальный предприниматель', 'Партнер', 'Служащий', 'Военнослужащий по контракту', 'Другое', 'Специалист'}\n",
      "\n",
      "\n",
      "==========\n",
      "ORG_TP_STATE\n",
      "{nan, 'Частная ком. с инос. капиталом', 'Индивидуальный предприниматель', 'Частная компания', 'Некоммерческая организация', 'Государственная комп./учреж.'}\n",
      "\n",
      "\n",
      "==========\n",
      "ORG_TP_FCAPITAL\n",
      "{nan, 'С участием', 'Без участия'}\n",
      "\n",
      "\n",
      "==========\n",
      "JOB_DIR\n",
      "{nan, 'Реклама и маркетинг', 'Адм-хоз. и трансп. службы', 'Служба безопасности', 'Вспомогательный техперсонал', 'Бухгалтерия, финансы, планир.', 'Кадровая служба и секретариат', 'Снабжение и сбыт', 'Юридическая служба', 'Пр-техн. обесп. и телеком.', 'Участие в основ. деятельности'}\n",
      "\n",
      "\n",
      "==========\n",
      "FAMILY_INCOME\n",
      "{'от 5000 до 10000 руб.', 'до 5000 руб.', 'свыше 50000 руб.', 'от 10000 до 20000 руб.', 'от 20000 до 50000 руб.'}\n",
      "\n",
      "\n",
      "==========\n",
      "PERSONAL_INCOME\n",
      "{'7251', '12900', '11200', '17800', '2000', '7650', '10700', '12600', '16800', '9400', '13150', '12700', '6200', '5800', '7250', '32640', '24', '4400', '4360', '7101', '22500', '7220', '14358', '18200', '5680', '5790', '24800', '7050', '15000', '5500', '7600', '11900', '24500', '14800', '13450', '22000', '18600', '14000', '3000', '9000', '50000', '7800', '9330', '220000', '10100', '6900', '1950', '4950', '5100', '8250', '150000', '5460', '9628', '10400', '11300', '43000', '70000', '9700', '8600', '4515', '40000', '41000', '13700', '19800', '46000', '44000', '30000', '38000', '7300', '12800', '12400', '9500', '48000', '6400', '8400', '7700', '11700', '19600', '23000', '6300', '9600', '23100', '3300', '53000', '52000', '5230', '10500', '6100', '9800', '11400', '14300', '7550', '3100', '18500', '5350', '3600', '4590', '7900', '21000', '35000', '19700', '9900', '25000', '9300', '16100', '26500', '3900', '170000', '37000', '4330', '36000', '5582', '18700', '6608', '10900', '23800', '5200', '4300', '41900', '39000', '80000', '8350', '13900', '10600', '11500', '8000', '19500', '15300', '8800', '5360', '8300', '15600', '15200', '21500', '14700', '3500', '8100', '4900', '15500', '3200', '20646,16', '7850', '6359', '17500', '67700', '23500', '17600', '55000', '6299,19', '10000', '2300', '21800', '28300', '15380', '42500', '2100', '8500', '10300', '10800', '4100', '19000', '12100', '18000', '7400', '75000', '3800', '5300', '16050', '16500', '45000', '16700', '42000', '65000', '16900', '13500', '51000', '2800', '12650', '4500', '11600', '13200', '5900', '5050', '27300', '4200', '5446', '6800', '68000', '47000', '26000', '8700', '5700', '32000', '6600', '22955', '8200', '5400', '11800', '7000', '5088', '3400', '7100', '56000', '7200', '12000', '13000', '54000', '6670', '6180', '34000', '19300', '4800', '24000', '5425', '4000', '33000', '13300', '20000', '29000', '29800', '17900', '29500', '77000', '60000', '28000', '17200', '15560', '11640', '4700', '13160', '5000', '17404', '13400', '25800', '92000', '7500', '49000', '5339', '9100', '6700', '67000', '16000', '31000', '27000', '160000', '12500', '6000', '4600', '17000', '7830', '100000', '14500', '9200', '7640', '110000', '8726', '9240', '6500', '16200', '13800', '17700', '13600', '3700', '10200', '9340', '12300', '11000', '8066', '15400', '8900', '5600', '20500', '250000', '4340'}\n",
      "\n",
      "\n",
      "==========\n",
      "REG_ADDRESS_PROVINCE\n",
      "{'Костромская область', 'Воронежская область', 'Новгородская область', 'Тверская область', 'Ивановская область', 'Москва', 'Курская область', 'Марийская республика', 'Липецкая область', 'Кировская область', 'Рязанская область', 'Астраханская область', 'Коми', 'Оренбургская область', 'Горный Алтай', 'Ставропольский край', 'Новосибирская область', 'Ханты-Мансийский АО', 'Мурманская область', 'Чувашия', 'Хабаровский край', 'Иркутская область', 'Ярославская область', 'Усть-Ордынский Бурятский АО', 'Саратовская область', 'Самарская область', 'Калмыкия', 'Кабардино-Балкария', 'Магаданская область', 'Пермская область', 'Санкт-Петербург', 'Агинский Бурятский АО', 'Архангельская область', 'Тульская область', 'Красноярский край', 'Сахалинская область', 'Свердловская область', 'Амурская область', 'Мордовская республика', 'Владимирская область', 'Пензенская область', 'Брянская область', 'Кемеровская область', 'Еврейская АО', 'Псковская область', 'Якутия', 'Белгородская область', 'Краснодарский край', 'Приморский край', 'Смоленская область', 'Хакасия', 'Бурятия', 'Ямало-Ненецкий АО', 'Карелия', 'Алтайский край', 'Ленинградская область', 'Эвенкийский АО', 'Тамбовская область', 'Вологодская область', 'Ростовская область', 'Карачаево-Черкесия', 'Нижегородская область', 'Адыгея', 'Башкирия', 'Томская область', 'Волгоградская область', 'Тюменская область', 'Читинская область', 'Орловская область', 'Омская область', 'Ульяновская область', 'Калужская область', 'Камчатская область', 'Курганская область', 'Челябинская область', 'Татарстан', 'Московская область', 'Калининградская область', 'Дагестан', 'Северная Осетия', 'Удмуртия'}\n",
      "\n",
      "\n",
      "==========\n",
      "FACT_ADDRESS_PROVINCE\n",
      "{'Костромская область', 'Воронежская область', 'Новгородская область', 'Тверская область', 'Ивановская область', 'Москва', 'Курская область', 'Марийская республика', 'Липецкая область', 'Кировская область', 'Рязанская область', 'Астраханская область', 'Коми', 'Оренбургская область', 'Горный Алтай', 'Ставропольский край', 'Новосибирская область', 'Ханты-Мансийский АО', 'Мурманская область', 'Чувашия', 'Хабаровский край', 'Иркутская область', 'Ярославская область', 'Усть-Ордынский Бурятский АО', 'Саратовская область', 'Самарская область', 'Калмыкия', 'Кабардино-Балкария', 'Магаданская область', 'Пермская область', 'Санкт-Петербург', 'Агинский Бурятский АО', 'Архангельская область', 'Тульская область', 'Красноярский край', 'Сахалинская область', 'Свердловская область', 'Амурская область', 'Мордовская республика', 'Владимирская область', 'Пензенская область', 'Брянская область', 'Кемеровская область', 'Еврейская АО', 'Псковская область', 'Якутия', 'Белгородская область', 'Краснодарский край', 'Приморский край', 'Смоленская область', 'Хакасия', 'Бурятия', 'Ямало-Ненецкий АО', 'Карелия', 'Алтайский край', 'Ленинградская область', 'Эвенкийский АО', 'Тамбовская область', 'Вологодская область', 'Ростовская область', 'Карачаево-Черкесия', 'Нижегородская область', 'Адыгея', 'Башкирия', 'Томская область', 'Волгоградская область', 'Тюменская область', 'Читинская область', 'Орловская область', 'Омская область', 'Ульяновская область', 'Калужская область', 'Камчатская область', 'Московская область', 'Челябинская область', 'Татарстан', 'Курганская область', 'Калининградская область', 'Северная Осетия', 'Дагестан', 'Удмуртия'}\n",
      "\n",
      "\n",
      "==========\n",
      "POSTAL_ADDRESS_PROVINCE\n",
      "{'Костромская область', 'Воронежская область', 'Новгородская область', 'Тверская область', 'Ивановская область', 'Москва', 'Курская область', 'Марийская республика', 'Липецкая область', 'Кировская область', 'Рязанская область', 'Астраханская область', 'Коми', 'Оренбургская область', 'Горный Алтай', 'Ставропольский край', 'Новосибирская область', 'Ханты-Мансийский АО', 'Мурманская область', 'Чувашия', 'Хабаровский край', 'Иркутская область', 'Ярославская область', 'Усть-Ордынский Бурятский АО', 'Саратовская область', 'Самарская область', 'Калмыкия', 'Кабардино-Балкария', 'Магаданская область', 'Пермская область', 'Санкт-Петербург', 'Агинский Бурятский АО', 'Архангельская область', 'Тульская область', 'Красноярский край', 'Сахалинская область', 'Свердловская область', 'Амурская область', 'Мордовская республика', 'Владимирская область', 'Пензенская область', 'Брянская область', 'Кемеровская область', 'Еврейская АО', 'Псковская область', 'Якутия', 'Белгородская область', 'Краснодарский край', 'Приморский край', 'Смоленская область', 'Хакасия', 'Бурятия', 'Ямало-Ненецкий АО', 'Карелия', 'Алтайский край', 'Ленинградская область', 'Эвенкийский АО', 'Тамбовская область', 'Вологодская область', 'Ростовская область', 'Карачаево-Черкесия', 'Нижегородская область', 'Адыгея', 'Башкирия', 'Томская область', 'Волгоградская область', 'Тюменская область', 'Читинская область', 'Орловская область', 'Омская область', 'Ульяновская область', 'Калужская область', 'Камчатская область', 'Московская область', 'Челябинская область', 'Татарстан', 'Курганская область', 'Калининградская область', 'Северная Осетия', 'Удмуртия'}\n",
      "\n",
      "\n",
      "==========\n",
      "TP_PROVINCE\n",
      "{nan, 'Костромская область', 'Воронежская область', 'Новгородская область', 'Тверская область', 'Ивановская область', 'Москва', 'Курская область', 'Марийская республика', 'Липецкая область', 'Кировская область', 'Рязанская область', 'Астраханская область', 'Коми', 'Оренбургская область', 'Горный Алтай', 'Ставропольский край', 'Новосибирская область', 'Ханты-Мансийский АО', 'Мурманская область', 'Чувашия', 'Хабаровский край', 'Иркутская область', 'Ярославская область', 'Саратовская область', 'Самарская область', 'Магаданская область', 'Кабардино-Балкария', 'Пермская область', 'Санкт-Петербург', 'Архангельская область', 'Тульская область', 'Красноярский край', 'Сахалинская область', 'Свердловская область', 'Амурская область', 'Мордовская республика', 'Владимирская область', 'Пензенская область', 'Брянская область', 'Кемеровская область', 'Еврейская АО', 'Псковская область', 'Якутия', 'Белгородская область', 'Краснодарский край', 'Приморский край', 'Смоленская область', 'Бурятия', 'Карелия', 'Алтайский край', 'Тамбовская область', 'Вологодская область', 'Ростовская область', 'Нижегородская область', 'Адыгея', 'Башкирия', 'Томская область', 'Волгоградская область', 'Тюменская область', 'Читинская область', 'Орловская область', 'Омская область', 'Ульяновская область', 'Калужская область', 'Камчатская область', 'Курганская область', 'Челябинская область', 'Татарстан', 'Калининградская область', 'Удмуртия'}\n",
      "\n",
      "\n",
      "==========\n",
      "REGION_NM\n",
      "{nan, 'ЦЕНТРАЛЬНЫЙ ОФИС', 'ЦЕНТРАЛЬНЫЙ 1', 'ЦЕНТРАЛЬНЫЙ 2', 'ВОСТОЧНО-СИБИРСКИЙ', 'УРАЛЬСКИЙ', 'ДАЛЬНЕВОСТОЧНЫЙ', 'ЮЖНЫЙ', 'ПОВОЛЖСКИЙ', 'СЕВЕРО-ЗАПАДНЫЙ', 'ЗАПАДНО-СИБИРСКИЙ', 'ПРИВОЛЖСКИЙ'}\n",
      "\n",
      "\n",
      "==========\n",
      "CREDIT\n",
      "{'6504', '19805', '7988', '5818,5', '5259', '12425', '10435', '11725', '17215', '10225', '2299', '23437', '15704', '4970', '10169', '35326', '9998', '13889', '10972', '14047', '12412', '11968', '28509', '12810,94', '12972', '29590', '21042', '9061', '6146', '8785', '7362', '8240', '27250', '10523', '9586', '16379', '22530', '20488', '7820', '3510', '2955', '28790', '19602', '20561', '9074', '13248', '39780', '70360', '11536', '22400', '6311', '4130', '6605', '32293', '8880', '10492', '13841', '11899', '9176', '9971,89', '8377', '8410', '14990', '9880', '5043', '7797,6', '27673', '31790', '19491', '26774', '27149', '24017', '13287', '18972', '10769', '4230', '10800', '13491', '12889', '16214', '28640', '15610', '20063', '21238', '21865', '18710', '3410', '14397', '12325', '4140,2', '12290,94', '33760', '12996', '12029', '6539', '56899', '24970', '28039', '18074', '34000', '18054', '14646', '17615', '30150', '27905', '14611', '24301', '15120', '18530', '11297', '17050', '5720', '13641,3', '12310,91', '6440', '3128', '4560', '19983', '11280', '4963', '21771', '18209', '5806', '6081', '29788', '8806', '11748', '6071', '16732', '11900', '21128', '57593', '16198', '27599', '46960', '14848', '16362', '9470', '14770', '22269', '27900', '15840', '3731', '8346', '22140', '4252', '7107', '9461,5', '21920', '22977', '65400', '51370', '6397', '10185', '35943', '5928,1', '15121', '17750', '11749', '21015', '8285', '35250', '15760', '10938', '25538', '21214', '5005,8', '27062', '18990', '5936,81', '20753', '6197', '30799', '99540', '22090', '25641', '4389', '4608', '5300,9', '27990', '2957', '8416', '21984,55', '10672', '20200', '11399', '4998', '17885', '14321', '17300', '7747', '88555', '3730', '11650', '12360', '19205', '9879', '30224', '49500', '13740', '6299,72', '61915', '2447', '29526,12', '15948', '9351', '29742', '8380', '27347', '87570', '38120', '16501', '47195,92', '8811', '8754', '6479', '6086', '6712', '11804', '17346', '10446', '4650', '8940', '3717', '4930,95', '6567', '17702', '6919', '4589', '31491', '11723,2', '20790', '19959', '13275', '20630', '6340', '36260', '6336', '19924', '42940', '19497', '23040', '48572', '18566', '3385,92', '10422', '19200', '25940', '15315', '74700', '8235', '30920', '5450', '20680', '24459', '12860', '4490', '10034', '39240', '37480', '3245', '12454', '12330', '3497', '12789', '4035,2', '20250', '12810', '17760', '21808', '12173', '22072', '16547,3', '7975', '17895', '10910,6', '18280', '84000', '21615', '50098', '5847', '3784', '14747,1', '23780', '16185', '26820', '18962', '19375', '11498', '23478', '15887', '30656', '36267', '18440', '12092', '5490', '12919', '19500', '12057', '98996', '13926', '22102', '9917', '40581', '9908', '24370', '26430', '5760', '6323,33', '23060', '25315', '45034', '4986', '18790', '21845', '12393', '5300', '9689', '3645', '9990,91', '4284', '55846', '12559', '11871', '13388', '13200', '10910', '6809', '8341', '23989', '19809', '7302', '17450', '6876', '5755', '17704', '15360', '28000', '15560', '4250', '14119', '10490', '16551', '6960', '25800', '17150', '14947', '20249', '19850', '3906', '5120', '21950', '31895,48', '2947', '6863', '10105', '13800', '4726', '19008', '30190', '12900', '4801', '6834', '12581,89', '32700', '3028', '22488', '20720', '10734', '14927,83', '2559', '9748', '22100', '5715', '25829,1', '22589', '10767', '9468', '30826', '8419', '20091', '10640', '12999', '5499', '19781', '4885', '13290', '3061,45', '35610', '4720', '2310', '24480', '6820', '18698', '74482', '11227', '13410', '14487', '7285', '5906', '14880', '7509', '7679', '9375', '9150', '12640', '4040,1', '43573', '21688', '7541', '17888', '3270', '27820', '16799,4', '13421', '5198', '5746', '24420', '20980', '26910', '4462', '79959', '10671', '6182', '8723', '3725', '10295', '8198', '8171', '15280', '30050', '17720', '6599', '3480', '20046', '29478', '2680,4', '10989', '7490', '4139', '25271', '7373', '17560', '4996,8', '7017', '17546', '21355', '5942', '30390', '15920', '16320', '33920', '2341', '18206', '8741', '99313', '15670', '86618', '8550', '4745', '13952,73', '10134', '76300', '19210', '8532', '28932', '14520', '5950', '9801', '16389', '6967', '33598', '6530', '9290', '3377', '29294', '14215', '19622', '24300', '6756', '9280', '27498', '10804', '19050', '9360', '24552', '18410', '13447', '16989,92', '6070', '5977', '52561', '25625', '12199', '27736', '15580', '22015', '13599', '5405', '7391', '6552', '2580', '5430', '2690', '17800', '9550,82', '20767', '5800', '58500', '23840', '7910', '14620', '24800', '2720', '42320', '2620', '12537', '32790,9', '2268', '17496', '10860', '16080', '78800', '9301', '48000', '19340', '15292', '29612', '11323', '19439', '21740', '31091', '11266', '6546', '26988', '70245', '93947', '6596', '17049', '3060', '7070', '39800', '9072', '30590', '13254', '30197', '20750', '80000', '27744', '28983', '27472', '18330', '8292', '10084', '8753', '2255,4', '18413', '5632', '26538', '5247', '62240', '19860', '5865', '24771', '25100', '10617', '3877', '13320', '24835', '4329', '17952', '2119', '19290', '17850', '28238', '5399', '13975', '17366', '11778', '6210', '17550', '16128', '13310', '4888', '7876', '16765', '12950', '7498', '3798,9', '4592', '41397', '39900', '13216', '14925', '6281', '5505', '5404', '30422', '24741', '10021,5', '5580', '4380', '9127', '15639', '21328', '26490', '13438,3', '12508,2', '60720', '29700', '9920', '3542', '14005', '12700', '2400', '19790', '6875', '63271', '11410', '58541', '29677', '5370', '16985', '28041', '9097', '6189,92', '25020', '9534', '10969', '27922', '13439', '3769', '28059,81', '12800', '9889', '13965', '27645', '4675', '9793', '47529,91', '17043', '4366', '15199', '21480', '18881', '10591', '5350', '18113', '4980', '3850,85', '6089', '11927', '16908', '19998', '8508', '15127,38', '30686', '11754', '13155', '15390', '11789', '20320', '12597,3', '24059', '32800', '10250', '37560', '12850', '13507', '31250', '12435', '7870', '12959', '31990', '23251', '19230', '4039', '8140', '9235', '17599', '20960', '10233', '6056', '39720', '22330', '5921', '6193', '23382', '22233', '4200', '23758', '7132', '5949', '2241', '3358', '6920', '83194', '6260', '10194', '4120', '4297', '4869', '26085', '5170', '31404', '8270', '10496', '11489', '10780', '19857', '17854', '20317', '9340', '13734', '26600', '12170', '10841', '11958', '44500', '27810', '28220', '26410', '20910', '94720', '16776', '9576', '21479', '32500', '3150', '23990', '30735', '4470', '16227', '5568', '21989', '12631', '8775', '51300', '19889,92', '15820', '9452,97', '18361', '14387', '7416', '6400', '5480', '16561', '9546', '7020,9', '3989', '30681', '5230', '3780', '15160', '74690', '14380', '9983', '23020', '2975', '15067', '31792', '3269', '7084', '5931,8', '9060', '17106', '25898', '4293', '3545', '5607', '15246', '3860', '2190', '2065,5', '16420', '7090', '17117', '9690', '7917', '40490,91', '7618', '15450', '13332', '11389', '5994', '3553', '3861', '6283', '3530', '18724', '18515,03', '16272', '17605', '12650', '5860', '29205', '12549,07', '62100', '2511,82', '13383', '5870', '16189,4', '26219', '7229', '10021', '6560', '4525', '20770', '85270', '14590', '5169', '24690', '24195', '12914', '19475', '10580', '17424', '19710', '27372', '5253', '9169', '27070', '60888', '8396', '14365', '20370', '28890', '16030', '35787', '20500', '24047', '8445', '40499', '22550', '20636,91', '35332', '3580', '13005', '12989', '2151', '9956', '94300', '5250', '11970', '20856', '18067', '6350', '19045', '73306', '20229', '20706', '5852', '11322', '10071', '86041', '5683', '20495', '34195', '7197', '19991', '45110', '3515', '44697', '5745,12', '13815', '8788', '5162', '18649', '38058', '8440', '40480', '4752', '15914', '4850', '26150', '7163', '3076', '16395', '13120', '24778', '21381,12', '3762', '4840', '10020', '6181', '5472', '6330', '45820', '14044', '14636', '6202', '19464', '10029,92', '4505', '10778', '6781', '2730', '4320', '21877', '13698', '26650', '21800', '3159', '26140', '18012', '14065', '9504', '12599,9', '3682', '8110', '6279', '9577,8', '14406', '21030', '16440', '28421', '13899', '5900', '47600', '13302,83', '32970', '37517', '13420', '9810', '9664,5', '22955', '7687', '14530', '12645', '3789', '5799,2', '4191', '42928', '12411', '41100', '24330', '5337', '2282', '6088', '30837', '11296', '17998,2', '4910', '14094', '24475', '37531', '7280', '8846', '5180', '14245', '10508', '50678', '11935', '3033,9', '2928', '12790', '26054', '2950', '9862', '13344', '16748,1', '24030', '27248', '12012', '46600', '15700', '7431', '4870', '19772', '24100,83', '25480', '5510', '6245', '4546', '8603', '9574', '6396', '22320', '23186', '8441', '4899', '11748,2', '16005', '29905', '31278', '50330', '44000', '5424', '71500', '25167', '24519', '3205', '8184', '23370', '13563', '32828', '22469', '18528', '4070', '18049', '11430', '32822', '6650', '14243', '28042', '19470', '10046', '27795', '15165', '18220', '11390', '15832', '20356', '2679', '33340', '5270', '26817', '9840,6', '21936', '11099', '5312', '22482', '20310', '8680', '18840', '12070', '53499', '12405', '6892', '59224', '11409', '13916', '26524', '4221', '6597', '3429', '20562,2', '16175', '6947', '21901', '12833', '5930', '26950', '10690', '11450', '21597', '2671,2', '17082', '14199', '5135', '7349', '13090', '9450', '5797', '6435', '17561,8', '17820', '5589', '17251', '35940', '62468', '11642,3', '7755', '13520', '16392', '4326', '5239', '7443', '12210', '3399', '38553', '5482', '97026', '16833', '9680', '40756', '27449', '7990', '10528,3', '3311', '11495', '15770', '3538', '32100', '14550', '7299', '11692', '3509', '28417', '19626', '6950,7', '6209', '34916', '12511', '53169', '6370', '14355', '3929', '4131', '50400', '25290', '10795', '37780', '17609', '12424', '30980', '20609', '2238', '4169', '12628,91', '11398', '31596,92', '6116', '4239', '2990,92', '22011', '4743,68', '10512', '4398', '21802', '29470', '11690', '33725', '22139', '7940', '18471', '3418,5', '5612', '15340', '32907,5', '10210', '9438', '6979', '38200', '27617,1', '21974', '30825', '7614', '28600', '11750,31', '3238', '40410', '4540', '16170', '17399,1', '53162', '14718', '18825', '29336,4', '61487', '11489,91', '25350', '6024', '5360', '10854', '3039', '7848', '18198', '25390,94', '35142', '10737', '21410', '7655', '20943', '3434', '9950', '17556', '23865', '4690', '14207,1', '13366', '2350', '8858,8', '39638', '31060', '23706', '8185', '31680', '75000', '18251', '8651', '3744', '81743,87', '17240', '25570', '17875', '5898', '9774', '24980', '4315', '10540', '2990', '18913', '8275', '8489', '14020', '30340', '20294', '3339', '11236', '8150', '25406', '6787,8', '7632', '6561', '9629', '28580', '8102,08', '6165', '8056', '18022', '10230', '6691', '9970', '30455', '12262', '15788', '10773', '44900', '3703', '8718,1', '9420', '18390', '13122', '9031', '30813', '4042', '22588', '38725', '20698', '3711', '27110', '15870', '28820', '16798,2', '29640', '12784', '27560', '20550', '21717', '27690', '5410', '16979', '63000', '6108', '45672', '8421', '11488', '11490', '21420', '7450', '20113', '24085', '16598', '9287', '2183', '29980', '7040', '4403', '7336', '11194,06', '11063', '34720', '78400', '49653', '4729', '17330', '18730', '8849', '10735', '16141', '11081,52', '7083,05', '92951', '3599', '24233', '22781', '22672', '15084', '18050', '3865', '10205,5', '28775', '11990,95', '14688', '34120', '12061', '16596', '30510', '8669', '16450', '18270', '2428,2', '2095', '6747', '46540', '22244', '2831,97', '22711,21', '18553', '28059', '9295', '7063', '6550', '23202', '13455', '17838', '8700', '26000', '23358', '7342', '22230', '33126', '11519,1', '3048', '20505', '12265', '38406', '10646', '29500', '5955', '26330', '8990,9', '10855', '16324', '7991', '26400', '12493', '6246', '16879', '76000', '19615', '16635', '20648', '17998', '11243', '29285', '17099', '8941', '25897', '22047', '32391', '9326', '11000', '5600', '18750', '12260', '8689', '17499', '18598', '26750', '14758', '2457', '17091', '8792', '7040,92', '23930', '6624', '8098', '18749', '4103', '32175', '13324', '10803,84', '18115', '26547,1', '11700', '13949', '24881', '15498', '22640', '34740', '7580', '7170', '21810', '10019', '9972', '10655', '24889', '25587', '5516', '8879', '20480', '29949,7', '9350', '4641', '3894', '13709', '10904', '17039,91', '15389', '29880', '16250', '29580', '17997', '39000', '16740', '9342', '2844', '11302', '9021', '4504', '28800', '8438', '11540', '17999', '3987', '15230', '14857', '17190', '13130', '27456', '3764', '36800', '8920', '16011', '7667', '19770', '6750', '2435', '24502', '17896', '7859', '14388,3', '10130', '7247', '35750', '10090', '14678,63', '13402', '7849', '4640', '23890', '6399', '18686', '33978,63', '25990', '24210', '88300', '24239', '17134', '7035', '56000', '3990', '20989', '31875,3', '18398', '60000', '42408', '16039', '30800', '2412', '31224', '6944', '11429', '3119', '9160', '5736,6', '19177', '28971', '10048', '19886', '3876', '17700', '13465', '18458', '21704', '28172', '10618', '2421,9', '22497', '6309', '11225', '12797', '7250', '7730', '21588', '22264', '16629', '9596', '24400', '38070', '8517', '15078', '12884', '8250', '21750', '12342', '12908', '14100', '2160', '4869,66', '14669', '15685', '3023,58', '28247', '25881', '28294', '16820', '17775', '22830', '19498', '10890', '37710', '3600', '8735', '6273', '9900', '2039', '28666', '18269', '31263', '15975', '27934', '7680', '6938', '6799', '33700', '21470', '11250', '5830', '28090', '2489,4', '29653', '27446', '5023', '16540', '15403,02', '16447', '4915', '7340', '5496', '6163', '31560', '12799', '9814', '29461,34', '11580', '28955', '7166', '13680', '17610', '21861', '27096', '12597', '19660', '10791', '22520', '7729', '4683', '23713', '4312', '14890', '18001,28', '18096', '59009', '6639', '78150', '5676', '24399', '23575', '28684', '12389', '13325', '23792', '14229', '8095', '20826', '71740', '17432', '9398', '20009', '27962', '20900', '12580', '6959', '83407', '10279', '21216', '21690', '8547', '6540', '25936', '3560', '15000', '26170', '14361', '12451', '7228,2', '6495', '14900', '18100', '22050', '13134', '7191', '25700', '11196', '58490', '46000', '5419', '18648', '3646', '27470', '11817', '6630', '17592', '39980', '20295', '26082', '19890', '7985', '13733', '7357', '15990', '20169', '9198', '8918', '25627', '12829', '5077', '11724', '9300', '15830', '19750', '34806', '32850', '4212,8', '7313', '10410', '14725', '5131', '18230', '2979', '17906', '11655', '14338', '25727', '15625', '20620', '28350', '11499', '32770', '11116', '20242', '2421', '5807', '11786,85', '17795', '8606', '32900', '13792', '19419', '4898', '5232', '6027', '23390', '7493', '16436', '6007', '10128,8', '6220', '12745', '67795', '6537', '4896', '4644', '4057', '4500', '15034', '14446,3', '17073', '7638', '21630', '16999,82', '7595', '21390', '11779', '11660,93', '24200', '21880', '26529', '5840', '20400', '9980', '7279', '27541', '4210', '12560,01', '9432', '6191', '10140', '12899', '4350', '3490,91', '5478', '31020', '28310', '12206', '29250', '15927', '15859', '13670', '7611', '5799', '20882', '9219', '10990,2', '9282', '17622', '5525', '38810', '15904', '23498', '28490', '2900', '4620', '24408', '10352', '12450', '15115', '22760', '28879', '26260', '16220', '9594', '14360', '16312', '17466', '24700', '22427', '25298', '43732,8', '4107', '10315', '2781', '2870', '63657', '17980', '18250', '14891,92', '11304', '17361,76', '18707,1', '14356', '5040', '11305', '3195,9', '30879,55', '4892', '31850', '22490,91', '28162', '18030', '18187', '26990', '4370', '37640,77', '9430', '8694', '19751', '4990', '4735', '24630', '32975,3', '40050', '23659', '17714', '12953', '82800', '16480', '10340', '8300', '15200', '12490', '6161', '4476', '31716', '18225', '22105', '3651', '28930', '46695', '5548', '24867', '12695', '23797', '4480', '32525', '12100', '14140', '4375', '7790', '6477', '24290', '3690', '39160', '14169,1', '8221', '27816', '3474', '16063', '13780', '5189', '7030', '16449', '31990,6', '11303', '19799', '6692', '15435', '4190', '38340', '23166', '34479', '9440', '8244', '52200', '6700', '47900', '12421', '34140', '10097', '16824', '32810', '9870', '18550', '9130', '14661', '13748', '23351', '19610', '11646', '16298', '14950', '34630', '4196', '41994', '13921,36', '34499,2', '7473', '5570', '6789', '16507', '9230,9', '5775', '10497', '2263', '6782', '24962', '34280', '4319', '14348', '18040', '43631', '12050', '75500', '6503', '26970,6', '10456', '19540', '2619', '10599', '24570', '19254', '9120', '17780', '39020', '10350', '31900', '4858,1', '20088', '36805', '7448', '19522', '18880', '32415', '11776', '18610', '12053', '8355', '19627', '6469', '13165', '38570', '8049', '7194,72', '10548', '11978', '23393', '12782', '16840', '26875', '3630', '2600', '12898', '3752', '4010', '29990', '34154', '29663', '17600', '3375', '15730', '24833', '21717,92', '4703', '3895', '8690', '74466', '3240', '16050', '18140', '18185', '19925', '6347', '82162', '2599,2', '23516,84', '9648', '4088', '15147', '8308,35', '16040', '4099', '18782,2', '9396', '21340', '10790', '18711,05', '10274', '9009', '19051', '2610', '3046', '5298,1', '25683', '49000', '11940', '31000', '9341,5', '12478', '28945', '13294', '24112', '26800', '9069', '31498', '16848', '8253', '9054', '13872', '4463', '12350', '2879', '13227,7', '26930', '3792,92', '23410', '3919', '11842', '6379', '15363', '17476', '30615', '10330', '2158', '20640', '20992,78', '27898', '31466', '51700,5', '17415', '7089', '12593,7', '7300', '35035,2', '10220', '16940', '15570', '5218', '6115', '18392,91', '35000', '5721', '18144', '13539,2', '15440', '24777', '16100', '7281,94', '20381', '4207', '11955', '5573', '7609,5', '30300', '27598', '31490', '18615', '8278', '19286', '18906', '34150', '18578', '28280', '26695,8', '15843', '23912', '23900', '23737', '7348', '20297', '4743', '27706', '11293', '8790', '13678', '6192', '8750', '18895', '24711', '4579', '23025', '5867', '24550', '16245', '4826', '20644', '14030', '16605', '35991', '13776', '4018', '3660', '6050', '15524', '6672', '11480', '6492', '29630', '26580', '14257,91', '21721,1', '48700', '79679', '23355', '12434', '4645', '10394', '11289', '19324', '7500', '22881', '4904', '25105,1', '22213', '24281', '24840', '23240', '9525', '3484', '15216,06', '25662', '4290,91', '6247,8', '11690,91', '38700', '15240', '11470', '8398', '19184', '9973', '5749', '16600', '22323', '22495', '34650', '14860', '17880', '13989', '5790', '21814', '16590', '33680', '16899', '10189', '16634,5', '12410', '43200', '21578', '24949,09', '2333', '79770', '5695', '4994', '21347', '15336', '16145', '5397', '6570', '4945', '32370', '11190', '8400', '24990', '29933,4', '23647', '13793', '37880', '5611', '21827', '4999', '11551', '16512', '13848', '17649', '12290', '18085', '3886', '24647', '8717', '11890', '21000', '3360', '9030', '32938', '9650', '16579', '7249', '96860', '20592', '5222', '4328,1', '28308', '15192', '6118', '15890', '16398', '5789', '2250', '4756,5', '18491', '29789,91', '23822', '13392', '4658', '4941', '3490', '29650', '30603', '17660', '9651', '17789,2', '9250', '7400', '14328', '16882', '23530', '17960', '3370', '3786', '6698,3', '31300', '8118', '7060', '12470', '21654', '6101', '4765', '11518', '10695,13', '10390', '9550', '3307', '7336,3', '8590', '8777,1', '3337', '22236', '10505,5', '4911', '23320', '6269', '19316', '10585', '4031', '18654', '28900', '3670', '5550', '8041', '37752', '21160', '8290', '27060', '5489', '19989', '30520', '21494', '5347', '31588', '9412', '23790', '9246', '12734', '5937', '20850', '21220', '17640', '5936', '13235', '6040', '32650', '11440', '16222', '11223', '3173', '4918', '5773', '19760', '34200', '10506,76', '21673', '17648', '5415', '22450', '12840', '34618', '15695', '39025', '13441', '5427', '16160', '10022', '7700', '12699', '18898', '7639', '18414', '17010', '28845', '25989', '3490,92', '5796', '2200', '9497', '27200', '14480', '24760', '26379', '4208', '3540,2', '32508,2', '12872', '11391', '25980', '41500', '6373', '10432', '6997', '24897', '7713', '94358', '22599', '15960', '25490', '5025', '10520', '18340', '26339', '7307', '26395', '35744', '12331', '9960', '6647', '8883', '6415', '7187', '4008', '13846', '28208', '12737', '29300', '19736', '4048', '10052', '19590', '16687', '5544', '7157', '26780', '28641', '88440', '23715', '23104', '5634', '16489,9', '8360', '4983', '7875', '18468', '13400', '7787', '18304', '10998', '70410', '9427', '4185', '15221', '4310', '12822', '14651', '20670', '24190', '3498', '3639', '21170', '9042', '10150', '29600', '21550', '13488', '5220', '2650', '4257', '7632,92', '6510', '19966', '16800', '18669,2', '22490', '10158', '5748', '15100', '26346', '6170', '25491', '14645', '38032', '27342,5', '12945', '26658,9', '32935', '14130', '6319', '37400', '18048', '8170', '5330', '6715,2', '34900', '2514', '6675', '11466', '9260', '5178', '33830', '22962', '5103', '8984', '4522', '8598', '47789', '5090', '41132', '7337', '24599', '10499', '28221', '18643', '24145', '8289', '3900', '10040', '11034', '24357', '5724,2', '14004', '22098', '9655', '14942', '41730', '5708', '30925', '6578', '13382', '11204', '24506', '27620', '20600', '21650', '2224,8', '11199', '8386', '12599', '4377', '6985', '7513', '7559', '8730', '20205', '11954', '30170', '7439', '11598', '5329', '13280', '24721', '20587', '21150', '7422', '8957', '35669', '7459', '16263', '7144', '45952', '5320', '14456', '48900', '16704', '19795', '3548', '14781', '23882', '3070', '14031', '14201', '24174', '18849', '12077', '5940', '2878', '4689', '11180', '17316', '23140', '28594', '14690', '30597', '7999', '19080', '21938', '10463', '6200', '7745', '15016', '20710', '9510', '20570', '4679', '22959', '3045', '21279', '12159', '7112', '41990', '12598,1', '9902', '8228', '5295', '19800', '20443', '5436', '18820', '9085', '10339', '5221', '18170', '23000', '2490', '4095', '13288', '22428', '10290', '28215', '7478,2', '10268', '15030', '34100', '35097,66', '29450', '22560', '17230', '6103', '5740', '21595', '22750', '23128', '10428', '39590', '31474', '26055', '21450', '2088', '28050', '31070', '14658', '13300,91', '3659,5', '27880', '31415', '7011', '13623', '26138', '23971', '42669', '6105', '16438', '27190', '21498', '20715', '12380', '22864', '23204', '19079', '9733', '4050', '7452,4', '27939', '13570', '24923', '4827', '4408', '10450', '29948', '39254', '5207', '3014', '21349', '18960', '15210', '2030', '9405', '3316', '11288', '15327', '2165,16', '5051', '10880', '20650', '10785', '9345', '10699', '28728', '10670', '28242', '33510', '20079', '4572', '4629', '6839', '6780,95', '3329', '33280', '5575', '29475', '27260', '22410', '24263', '20536,1', '35775', '6129', '13021', '12608', '87673', '13785', '10991', '4390', '9425', '16698', '32955', '21866', '13920', '23037', '5018', '19854', '4968', '4555', '5827', '21510', '6345', '20645', '3768', '25720', '19460', '2050', '26510', '6033', '16571', '64670', '32076', '79380', '5980', '6679', '2676', '7394', '17851', '39830', '37000', '8295', '98042', '12651', '11830', '14370', '16730', '19740', '17162', '17501', '16390', '17112', '28210', '20768', '5560', '5650', '19880', '10635', '26084', '10837', '16530', '25278,14', '21840', '29697', '16700', '11286', '24983', '11217', '14755', '17388', '6519', '7693', '14510', '22645', '6793', '6181,09', '5088', '9669', '46649', '8955', '5335', '4452,91', '3591', '21200', '30960', '7381', '4170', '32980', '16789,98', '44879', '30756', '33678,2', '19593', '2520', '13257', '2060', '20646', '16322', '6969', '14461', '4949', '11113', '19734', '21805', '15017', '3059', '11850', '19572,1', '27005', '81423', '12639', '18760,75', '7610', '8902', '16996', '4488', '13890', '6850', '8195', '26461', '4030', '10551', '13321', '26543', '17250', '22987', '21600', '14999', '10846', '15540', '4653', '19798', '4841', '5197', '45160', '11400', '9000', '50000', '6561,9', '3801', '22515', '23094', '16910', '6585', '6491', '4809', '17247', '6354', '19945,35', '9498', '22674', '11395', '10706', '28160', '8762', '11753', '8581', '5060', '26280', '69000', '5445', '7370', '19503', '26200', '2270', '18500', '23689', '16107', '16317', '31520', '25000', '3898', '25263', '8833', '22662', '17398,1', '28970', '16662', '13720', '27895', '3870', '4602', '14680', '16880', '6757', '15040', '7593', '17531', '10373', '8456', '11999', '23259', '23268', '70705,96', '7857', '29875', '8340', '4047', '14766', '2048', '11799', '20300', '12347', '9670', '11138', '22293', '14875', '14637', '11986', '20272', '11586', '2595', '17826', '10256,1', '10992', '25385', '97220', '23109', '7140', '6217', '20129', '14866', '12099,1', '5888', '36980', '4299', '9080', '11529,91', '9630', '18900', '19719', '8204', '14450', '3220', '24199', '3827', '28500', '34148', '8429', '19189', '15653', '7898', '4089', '13950', '14670', '3700', '8580', '5824', '7433', '4781', '5219', '55500', '9464', '26034', '21980', '4117,5', '21940', '13527', '17540', '19280', '26928', '27995', '50568', '17946,2', '23396', '15100,82', '27714', '5877', '6377', '17459', '17631', '27800', '7151', '37818', '27600', '12213', '31885', '4890', '2372', '13820', '22324', '33500', '11755', '7289', '7863', '7420', '23696', '35992', '35100', '15658', '7470', '6899', '4177', '15237,1', '14443', '5155', '18358', '17630', '11219', '21597,8', '4056', '3955', '9754', '15806,5', '17995', '26865', '12542', '28472', '21097', '7291,85', '6445', '31255', '5897', '19810', '7160', '58900', '4534', '30220', '26091', '7452', '10124', '10114', '12140', '4005', '5390', '72000', '27550', '12209,5', '61540', '10088', '16280', '10930,52', '13198', '65000', '14798', '14110', '3770', '2390', '5857', '9995', '6454,8', '2223', '20698,2', '4160', '35580,91', '22803', '11558', '22455', '6180', '17308', '76550', '41400', '23711', '20440', '6867', '5232,2', '9529', '25785', '4966', '4624', '20143', '28055', '5922', '3889', '7830', '4548', '6940', '26080', '11550', '6278', '12760', '6247', '6721', '3875', '3093', '13750', '8641', '26999', '16865', '5636', '20179', '11394', '17789', '18490,91', '32090', '8912', '21280', '4360', '17567', '16591', '5678', '17090', '16064', '18689', '80973', '15482', '17991', '5960', '31610', '3137', '25632', '10248', '33862', '13948,2', '27780', '25820', '70000', '14796', '7598', '35522', '12318', '25960', '9090', '10262,2', '9600', '27570', '7516', '3168', '9395', '10960', '9173,88', '7604', '19700', '5085', '4922', '16257', '3547', '28745', '15470', '6470,9', '17020', '6099', '8260', '15272', '24929', '7511', '25623', '15600', '14316', '8006,1', '7578', '3170', '23216', '8999', '20296', '17901', '12710', '15520', '3950', '26547', '27750', '3152', '19745', '8068', '17460', '44700', '19977', '5083', '5190', '29065', '13199', '41620', '11898', '7648', '16519', '19650', '12095', '22225', '18121', '12390', '10381,5', '15468', '4936', '7262', '12463', '15844', '21948', '15033', '8650', '16830', '30011', '3798', '23400', '22635', '12251', '25631', '9189', '81000', '21050', '13498', '14489,2', '7499', '19420', '3996,9', '10057', '6831', '11370', '9789', '20209', '5064', '11623', '42135', '21475', '6201', '33476', '7319', '3405', '24423', '15575', '8097', '14930', '21580', '3035', '21620', '9839', '13905', '4952', '3894,2', '38850', '16781', '22394', '7739', '23783', '11335', '10361', '9985', '2555', '98136', '51750', '24466', '2936', '18334', '14177', '19099', '39600', '10100', '14000', '18667', '21218', '36701', '31050', '9538,9', '14580', '4060', '13193', '24103', '41000', '2889', '15293', '3063', '32670,79', '24120', '19269', '9241', '5032', '13592', '6035', '2745', '4807', '19600', '8108', '15096', '5426', '8770', '14574', '13138', '6594', '4934', '19377', '33120', '9994', '7888', '7574', '6828', '5748,3', '41907', '6039', '5929,95', '12315', '11687', '18630', '13880', '26379,91', '34821', '29460', '37415', '22747,4', '5200', '4725', '3010', '26164', '12097', '16690', '10359', '13389', '6073', '12189', '2569', '8320', '10466', '28340', '23577', '6289', '17379', '25500', '5772', '12366', '8381', '8906', '17815', '8905', '7599', '4979', '5355', '11317', '19170', '13050', '21069,8', '7880', '10419', '18990,5', '15250', '37437,66', '20196', '66578', '8020', '29490', '3387', '14978', '17091,9', '28460', '3231', '15998', '9237', '5268', '10630', '35091', '24035,5', '17173', '6758', '29997,24', '8286', '23745', '2792', '3674', '15727', '20086', '8099', '17541', '14441', '4510', '13489', '15201', '6390', '11460', '33821', '9820', '9248', '5723', '16965', '41170', '10430', '17273', '6785', '7116', '17310', '12848', '13351', '10968', '5037', '61000', '4244', '12138', '5175', '29380', '3970', '7455', '10480', '18319', '12598,2', '19591,36', '29199', '5500', '6375', '21726', '5530', '24070', '12228', '12490,9', '21724', '16720', '20375', '56310', '7752', '4810', '60080', '7713,42', '11136', '2389', '12849', '22458', '19728', '41936', '18370', '11769', '2009', '30545', '22121,1', '12749', '4845', '3300', '13699', '5011', '15003', '22700', '20691', '15739', '6348', '16715', '6652', '25840', '26595', '30590,92', '15480', '2099', '23750', '19106', '7454', '21990', '17422', '34699', '19797', '6393', '42300', '4115', '23108', '12530', '22147', '3392', '16993', '74650', '4401', '17231', '6838', '25280', '12672', '4647', '14660', '20519', '15857', '10075', '38800', '15745', '31730,91', '7766', '3575', '30918', '36527', '23057', '13263', '26889', '64660', '4633', '4986,5', '23944', '15325', '21570', '3943', '20397', '18470', '27501', '4428', '19128,41', '22195', '8910', '6256,8', '3383', '2629,8', '5184', '23795', '15190,5', '21195', '19343', '4000', '7515', '6467', '56700', '3493', '3910', '13020', '20060', '19840', '14133', '22656', '4202', '14497', '15838', '10611', '18861', '4746', '30729', '22600', '6411,72', '6696', '5208', '27350', '9240', '10656', '14060', '30196', '9158', '19611', '6461', '16479', '20498,1', '22761', '16052', '27971', '9858', '17428', '22290', '17089,9', '3815', '4240', '14856', '5193', '19990', '6513', '43880', '14205', '5494', '23395', '30820', '3616', '3868', '11637', '34891', '29975', '11795', '8994', '9010', '9845', '7240,5', '8025', '24280', '9251', '6730', '4995', '28116', '6365', '8498', '11098,8', '7181', '22570', '31882', '22558', '9422', '19789', '8904', '8699', '44660', '18590', '11477', '9310', '37857,2', '10319', '32846', '27580', '14910', '21187', '10000', '49750', '5745', '15380', '25313', '6228', '4122', '10987', '4744', '5871', '49490', '33996', '12998', '8071', '12947', '25983', '21481', '5780', '8666', '21473', '31090', '6800', '14097', '37016', '11855', '3537', '11100', '18797', '10628', '31587', '14498', '13476', '15907', '6494', '29266', '14196', '15725', '12636', '12678', '21943', '6660', '21496', '17453', '5265', '15313', '5225', '4450', '30361', '8070', '2500', '22345', '22945', '13355', '21746', '10200', '16114', '22522', '21380', '40080', '9606', '26710', '6790', '4880', '18239', '35960', '69282', '4652', '7220', '5751', '4114', '28755', '4336,2', '19897,1', '28070', '27356', '7800', '32387', '22361', '15496', '40000', '20277', '33097', '3095', '5849', '3160', '4228', '19240', '23975', '13918', '19899', '3930', '2910', '22329,67', '9496', '8199', '5243', '32041', '7588', '18460', '24900', '34396', '70936,32', '7996', '17203', '11150', '10113', '6881', '13315', '13930', '3110', '4671', '4186', '31014', '13941', '8835', '25260', '8856', '28700', '8180', '18885', '28440', '6935', '29445', '18246', '23399', '83000', '2691', '14750', '14052', '3874', '15512', '6904', '8037', '9876', '16194', '26499', '6538', '19665', '16860', '10300', '2259,9', '10374', '46500', '5487', '19839', '59590', '15910', '35640', '3067', '24465', '33192', '31726', '14331', '31696', '40970', '15822', '20132', '50879,83', '13448', '27012', '14279', '18197', '24000', '13891,5', '31499', '12670', '3663', '6470', '15245', '26740', '29037,12', '12427,1', '8970', '10964', '7068', '11230', '5687', '52930', '35400', '5913', '7590', '19950', '4760', '13888', '5850', '3722', '17329,92', '22872', '3130', '22627', '19143', '4110', '6219', '11496', '17263', '13591', '5610', '7497', '9290,91', '17040', '23352', '12518,5', '3933', '49743', '14780', '24640', '9406', '41498', '30031', '5625', '24871', '22800', '33320', '17400', '13998', '9341', '22150', '7540', '3750,91', '14949', '24362', '13768', '18068', '10170', '6455', '22848', '5835', '4499', '11996', '29001', '21838', '3280', '18882', '9652', '3590', '16669,84', '15300', '2489', '8549,9', '18949', '13259', '17500', '17688', '16400', '55000', '31933', '13221', '19905', '14390,92', '13289', '7335', '10445', '51140', '20424', '9996', '23130', '32348', '10990,94', '24220', '44440', '11189', '10668', '10576', '4420', '27950', '13727', '77860', '7977', '8948', '5754', '7677', '12384', '10542', '6021', '18540', '13140', '17279,2', '87880', '7770', '13978', '4165', '22970', '10852', '6865', '4489', '56130', '4535', '23660', '23667', '5099', '4281', '23825', '37305', '7207', '8420', '36177', '15824', '2724', '17962', '10693', '21009', '5279', '13999', '47704', '19490', '18490', '13847', '16630', '13386', '14891', '5770', '18517,1', '7204', '2245', '7430', '8595', '58567', '16890', '13566', '22369', '11938', '9800', '4930', '54738', '12284', '16150', '18602', '11877', '11042', '7660,42', '8720', '7795', '11989', '56964,6', '12232', '6139', '15372', '5699', '84630', '23920', '33030', '13992', '6250', '11601', '25227', '6475', '26450', '12019', '4872', '11325', '25301', '14610', '27860', '4661', '31810', '3604', '10801', '12150', '8100', '7558', '15085', '17146', '6640', '21850,94', '16197', '35600', '7788', '18819', '17379,99', '11760', '3305', '25146', '8241', '80440', '16859', '30198', '8829', '29782', '29493', '8797', '12060', '9913', '12455', '23625', '10073', '19341,2', '10448', '10539', '13456', '7019', '26489', '2190,2', '4500,95', '87786', '10648', '34695', '3550', '25240', '9850', '19020', '9823', '17697', '83106', '15547', '11560', '44030', '20852', '11025', '15810', '13960', '20290', '5602', '18099', '6522', '8047', '18890', '14083', '16766', '10354', '6733', '6125', '10439', '24600', '8432', '17380', '7492', '24945', '10925', '97000', '11697,1', '4860', '19125', '5694', '5759', '23490', '4617', '18696', '5299', '22944', '12843', '22212', '16092', '12575', '24198,2', '18510', '14570', '17595', '16450,71', '7858', '4182', '11910', '6575', '45900', '6665', '23999', '27970', '52250', '18180', '12304', '20871', '38408', '3540', '6739', '6680', '20069,33', '41490', '7098', '7507', '10779', '2007', '17290', '8620', '7088', '11977', '6186,7', '9296', '18700', '18425', '11876', '6732', '18143', '3883', '10163', '9790', '50970', '3069,9', '8010', '84500', '3619', '22498', '24260', '23552', '6854', '11456', '23095', '25887', '2572', '10442', '12236', '116360', '6625', '13469', '22398', '21487', '21400', '23459', '13922', '25211', '16948', '12655', '17350', '2635', '21536', '6792', '22275', '10447', '74319', '19520', '17810,82', '15442', '3187', '15214', '9988', '25225', '8564', '96000', '24328', '9760', '5282', '3561', '26120', '24283', '6880', '11949', '10874', '6364', '26550', '23377', '19680', '4314', '27010', '32819', '49860', '45500', '6616', '36194', '30110', '29376', '4628', '12600', '10467,1', '10529', '21038', '9955', '28060', '5389', '18934', '23365', '11259', '6093', '22000', '27510', '3000', '21881', '5015', '27500', '18799', '12090', '7715', '8399', '28750', '11648', '75535,08', '17949', '5309', '14391', '7020', '6119', '5364', '23793', '6481,8', '79910', '9899,1', '10870', '41700', '4097', '14885', '11590,92', '27480', '16760', '12570', '28842', '5670', '29390', '40180', '7690', '9999', '16090', '7920', '5438', '5119', '11030', '6741', '3614', '16190', '14330', '12755', '4021', '7327,8', '3940', '5533', '22460', '5351', '9520', '18020', '14230', '12136', '30325', '20140', '44495', '29799', '7850', '17765', '7189,6', '22498,2', '12385', '27369', '18632', '18693', '12742', '29388', '19129', '89018', '6610', '34162', '3617', '24495', '16900', '90000', '5742', '10760', '5895', '30324', '11264,25', '6127', '17955', '26049', '8638', '6489', '16544', '25145,79', '4195', '25299', '88312', '17199', '26700', '26355', '6658', '5988,46', '11405', '17865', '2881', '3840', '13650', '2028,56', '13318', '16823', '24850', '62000', '13326,5', '15290,7', '7317', '4379', '6301', '14820', '21080', '51685', '4189', '13232,88', '27589', '5640', '29592', '13490', '19547', '37466', '14998', '5869', '11600,6', '3255', '7749', '11528', '5669', '5768', '27790', '10830', '21847', '8480', '16460', '8889', '11920', '28850', '27040', '35825', '20433', '14219', '19567', '9892', '5280', '21062', '22419', '33570', '35530', '21083', '23009', '9034', '14629', '32580', '40521', '6925', '13665', '18450,8', '20305', '7022,7', '7547,2', '16455', '27846', '9268', '5448', '6236', '22214,69', '8648,5', '21589,9', '5594', '15430', '27886', '11396', '28990,91', '8560', '16680', '7769', '8370', '4767', '15784', '7514', '7180,9', '7123', '6386', '5199', '11595', '2248', '35360', '25140', '13240', '22650', '26380', '15393', '26790', '8960', '11698', '13390', '11270', '35900', '3715', '11819', '3735', '13590', '28420', '23230', '6999,3', '23985', '10995', '44100', '6323', '23450', '16500', '19218', '2290,7', '10990,91', '8943', '23539', '5690', '5794', '13302', '36570', '18240,91', '10191', '30420', '31991', '20393', '21265', '4887', '5400', '7100', '10431', '8268', '6255,15', '29970', '10151', '7208', '9349', '36086', '8169,55', '53091', '25713', '21312', '63306', '4710', '7189', '12616', '9647', '21060', '4982,4', '8487', '23950', '8979', '37508', '4570', '7710', '17130', '25200', '69188', '21770', '21075', '3353', '10850', '30428', '23550', '14295', '27298', '18984', '14800', '15750', '20180', '21685', '56673', '10898', '18130', '4148', '13356', '15599', '19489,91', '19095', '27180', '20330', '26300', '9846', '18740,5', '25050', '6678', '8361', '5152', '3681', '9924', '13205', '9227', '19047', '7180', '22430', '5750', '9308', '20499', '16992', '5149', '11310', '16045,2', '27313', '16399', '17325', '12610', '14438', '16893', '18360', '90200', '18660', '6835', '40824', '8311,29', '15950', '25080', '4701,6', '20575', '19440', '2322', '7486,1', '30200', '9891', '25896', '18535', '6918,34', '25765', '21499', '20874', '6496,1', '15270', '23029', '14200', '16615', '23137', '7629', '7199', '86071', '15875', '8870', '24752', '40084', '18450', '22210', '31538', '2860', '7980', '22110', '23684', '5761,9', '29430', '19060', '12948', '15897,92', '35320', '64500', '41929', '30430', '26590', '10550', '10483', '20690', '14046', '8619', '27986', '11911', '27196,1', '10844', '7890', '14648', '9588', '4789,92', '12741', '15036', '14089', '12499', '11085', '3930,81', '20802', '31460', '26315', '14678', '4430', '14760', '19116', '6746', '7703,1', '87600', '8499', '9590', '14917', '14730', '61600', '6500', '17100', '5997', '36290', '19260', '28224', '4660', '4919', '9729', '20987', '21736,2', '20179,3', '14980', '9215', '29760', '7182', '7597', '29599', '75581', '6889', '6280', '20540', '28530', '10999', '7600', '49100', '19358', '25855', '25749', '15070', '5837', '6502', '16875', '12716', '86900', '16785', '3501', '8360,92', '21985', '13860', '15895', '8491,82', '17778', '12520', '15856', '9963', '10646,2', '4820', '6698', '8549', '14528', '4413', '13850', '12687', '33330', '10836', '13995', '14481', '3051', '29177', '4867', '6419,78', '22390', '6313', '39500', '5606', '5592', '8490,92', '5143', '5076', '5579', '25498', '31509', '3628', '18800', '18374', '15045', '18603', '9610', '6058,1', '2089', '8568', '8850', '6449', '3391', '14854', '7984', '9991', '3322', '6295', '19110', '3800', '11295', '4311', '4290,95', '36136', '18027', '16490', '13999,2', '16998', '23677', '10188', '9019', '9045', '18481', '16065', '31580', '8459', '32280', '32000', '3340', '6916', '33300', '14600', '25588', '7902', '10147', '22124', '9009,91', '14006', '2748', '7810', '5091', '28258', '13829', '4109', '31317', '26370', '23992', '10775', '47247', '46156', '21809', '32450', '4125', '36900', '4199', '24682', '7581', '7735', '9200', '100000', '5456', '23103', '20280', '2855', '7460', '5016', '4220', '20792', '17575', '11308', '28410', '15367', '15503', '11260', '16745', '13278', '11298', '16048', '13098', '13115', '13016', '27381', '10423', '3760', '22920', '30360', '30673', '23170', '16278', '27781', '15186', '8998', '2797', '4365', '8262', '20040', '6237,03', '27228', '5817', '32914,31', '51900', '23954', '19350', '9567', '7899', '6080', '5889', '22960', '12960', '11751', '17298', '16418', '3185', '7150', '17198', '16780', '19130', '12465', '7590,31', '9116', '14847', '17193', '10058,5', '20100', '6893', '23453', '11115', '7498,9', '12512', '7892', '26321', '27370', '7510', '7380', '14288', '6703', '41837', '3200', '26642', '12249', '6822', '7570', '29070', '16002', '5130', '7642', '17804', '20660', '5238', '24768', '11450,9', '28861', '14420', '16660', '2380', '7425', '25179', '4947', '6264', '9755', '4542', '3310', '13139', '8917', '6299', '24858', '2751', '19415', '6600', '4830', '15889', '13063', '19689', '4280', '29400', '5328', '3999', '25937', '19278', '19746', '26390', '25492', '17769', '4984', '37440', '15897', '7847', '20977', '9117', '29345', '11428', '9050', '7839', '8230', '11192', '3284', '5109', '4180', '40700', '4962', '3849', '17573', '3959', '2070', '3050', '11950', '19315', '7404', '14340', '3448', '10840', '8648', '26890', '5616,15', '14991', '14618', '11159', '7619', '19830', '2499', '7210', '25340', '13010,94', '3430', '6300', '2165,4', '13630', '25639', '25992', '34804', '11434', '30580', '3117', '7334', '6856', '10298', '15110', '5535', '5287', '13480', '6556', '2150', '19085', '18725', '25158', '6745', '15598', '30350', '12904', '20431', '6090', '5778', '17397', '14396', '5832', '21398', '14398', '24405,4', '13100', '5449', '5058', '25870', '24223', '84570', '35990', '18224', '4390,91', '17470', '20928', '4891', '17503', '50652,94', '2790', '8515,7', '29280', '8901', '21484', '5097', '8698', '14632', '6529', '51000', '20237', '34557,1', '6407,5', '19920', '10495', '20779', '7000', '4399', '11565', '65250', '5010', '4775', '11651', '8980', '6699', '28016', '21105', '67950', '2699', '6990', '36308', '3103,2', '3983', '4533', '38250', '4842', '24450', '4598,6', '4168,8', '26886', '4843', '6291', '25250', '6199', '16060', '11188,14', '15370', '25180', '9443', '19289', '7954', '14035', '16850', '4400', '38832', '11635', '14383', '22905', '30738', '6995', '46921', '16657', '14081', '5020', '22618', '16838', '13700', '29950', '3570', '14453', '3690,92', '13040', '6870', '16191', '17261', '9720', '21590', '31646', '19082,3', '5128', '12398', '7908', '5369', '34990', '4590', '8322,77', '11416', '21240', '39690', '5110', '7645', '21190', '4150,95', '4816', '23800', '20883', '14349', '9390', '17538', '10600', '47691', '18176', '26770', '9621', '8929', '22395', '10950', '17990', '26920', '13326', '4889', '15696', '22180', '26020', '22799', '9397', '4072', '90590', '27428', '33660', '17670', '4140', '21778', '4973', '16218', '2745,9', '30230', '24003', '7092', '4041', '30391', '7230', '21490', '24389', '12290,9', '27637', '27854', '35060', '17509', '4729,72', '34190', '12708', '14787', '5285', '3779', '25730', '3880', '3710', '12541', '19417', '14469', '32490', '22040', '3250', '12572', '15319', '26337,6', '9919', '9554', '8977', '17320', '5735,7', '26479', '7105', '15740', '14350', '21999', '3690,82', '83871', '17790', '17911', '23584', '26690', '49798,1', '4118', '20155', '5825', '23688', '5357', '23148', '5730', '8088', '12472', '28517', '4964', '27890', '11154', '23980', '40500', '6100', '13496', '11943', '18896', '15170', '12944', '18668', '23185', '14598', '22980', '20390', '5276', '13567', '15523', '12024', '18650', '15079,91', '5231', '26365,6', '17111', '10231', '22789', '20979', '2090', '8000', '29471', '21500', '14625', '17025', '21300', '14310', '33255', '26560', '22692,96', '5432', '12730', '16169', '2999', '3799', '13620', '7796', '13006', '16990', '10647', '9681,5', '21270', '17430', '6622', '18784', '4080', '31910', '3520,8', '26837', '30100', '5005', '9997', '7740', '6069', '5710', '7376', '15940', '7621', '33000', '6381', '29075', '13769,2', '26329', '8995', '10198', '11529', '6097,5', '7174,6', '23595', '30630', '19457', '75424', '3920', '6993', '17006', '22670', '15518', '13366,2', '17439', '9989', '14593', '59629', '61290', '24520', '5890', '20510', '24605', '56277', '7760', '14996', '5345', '4212', '32576,5', '4392', '10616', '29780', '16669', '5970', '3230', '9526', '16070,5', '25783', '6096,13', '38778,01', '19390', '23440', '14148', '20007', '3647', '3290', '6984', '5488', '51570', '95441', '8233,95', '8600', '6150', '30060', '8698,1', '5261', '16199,2', '31833', '9536', '18970', '8129', '9500', '42740', '10238', '21900', '39422', '4785', '13598', '3565', '24772', '11526', '4493', '11080', '16849', '5384', '25168', '5179', '21930', '16733', '16407', '8639', '14773', '3107,7', '21890', '5144', '119700', '18318', '21619', '27850', '29006', '4300', '89196', '17950', '25640', '22880', '9560', '6999,9', '20477', '12340', '42930', '27150', '30418', '13010', '39276', '6559', '7556', '4738', '10971', '13921,52', '18964', '19040', '4590,2', '10675', '13492', '4788', '3239', '11093', '9573', '11926', '12240', '22898', '12280', '7999,1', '12591', '5409', '3031', '6120', '11520', '3460', '70500', '23690,91', '6004', '3006', '25150', '12417', '2399', '12250', '3745', '77210', '6584', '14994', '4458', '27450', '84558', '33990', '12000', '13000', '54000', '3354', '17170', '14260', '4768', '32335', '6429', '4276', '21960', '4248', '73230', '24740', '19044', '12835', '29691', '4935', '18119', '13550', '40574', '11897', '14168', '10479', '15720,91', '42228', '15565,5', '18592', '9400', '7047', '10755', '7776', '11020', '89640', '9365', '5310', '7050', '2689', '21919', '3199', '8128', '18600', '16999', '22860', '29877,3', '4454', '16620', '24844', '4292', '6060', '23998', '20263', '22999', '11669', '7201', '14571', '12400', '3699', '52469,87', '9580', '23154', '7395', '6142', '21624', '10659', '3520', '3114', '6740', '4440', '22097', '14204', '3990,92', '23390,91', '6525', '19011', '35700', '35369,4', '8950', '8610', '17520', '3396', '10704', '15602,5', '3275', '11571', '3289', '84800', '13463', '12995', '9620', '8800', '3854', '9040', '16627', '11720', '6748', '4900', '15500', '10920', '13770', '18105', '10347', '33450', '14385', '6653', '15890,9', '2873', '12120', '54700', '9140', '8453', '5700', '5176,8', '21197', '60829', '13350', '9979', '8951', '6507', '6374,78', '10712', '11148', '5000', '7794', '17966', '27130', '17140', '3808', '32706', '4596', '6420', '26199', '13671', '7290', '21592', '20053', '24795', '12500', '17863', '4349', '6430', '2871', '2075', '34466,4', '17920', '8935', '18329', '8900', '7551', '29858', '13060', '18296', '37800', '18399', '7478', '7949', '5605', '16199', '24717', '5859', '27759', '8188', '19250', '6958,92', '9338', '15900', '9599', '16485', '11677', '24470', '12345', '9890', '16814', '4460', '21586', '10216', '4610', '9276', '21899,94', '8389,91', '17613', '7310', '13298', '13110', '10500', '20880', '8990', '8878', '6361', '37500', '41211', '26440', '2360', '42746', '13179', '4882', '12896', '23160', '26060', '6543', '8350', '5681', '3190', '21124', '15309', '7651', '20409', '22091', '19430', '7711', '7885', '4479', '15640', '26999,2', '9842', '8874', '6860', '23485', '4754', '13166', '10010', '50940', '13686', '6030', '9597', '3140', '15748', '8529', '13728', '13265', '3385,83', '12160', '15354', '35955', '8869', '9769', '17970', '18338', '4800', '3385', '25454', '23146', '11321', '21482', '14644', '28590', '7549,89', '9557,1', '35767,4', '5185', '30500', '53673', '10939', '13644', '27065', '13580', '8057', '7410', '15790', '6136', '8299', '2420', '12991,82', '21646', '10149', '33190', '10417', '4132,5', '7905', '12906', '4642', '8050', '7878', '4858', '33475', '21505', '18200', '2578', '3167', '15398', '17399,2', '27686,2', '12509,9', '13790', '10530', '6830', '19895', '6490,5', '22307', '9730', '26051', '6517', '10609,2', '5240', '10980', '28469', '19245', '10697', '21598', '18549', '22598,1', '11665', '52000', '28565', '13039', '6049', '29707', '19220', '13615', '89200', '4013', '3123', '14849', '10349', '32765', '24830', '11385', '15490', '13137', '6053', '13897', '9053', '16265', '5966,7', '13730', '24160', '4779', '17510', '7198', '8755', '4410', '12935', '25360', '12780', '14845', '16883', '5482,3', '26708', '4291', '73300', '6719', '7709', '14150', '5030', '4799', '5614', '18940', '6910', '11796', '5805', '6651', '13399', '3984', '17099,1', '6230', '23347', '4674', '4428,1', '5540', '12803,4', '19120', '38880', '11333', '47000', '27448', '3979', '10912', '61920', '6970', '15912', '12080', '28170', '19769', '3440', '25695', '18910', '12219', '29661', '42436', '3389', '58670', '18573', '8389', '46729', '15750,91', '9100', '5353,5', '7937', '22660', '11130', '26660,2', '4595', '7441', '9595', '7995', '16649', '33459', '8369', '2930', '41451', '11211', '21298', '6906', '14850', '8830', '3898,1', '16975', '16350', '21850', '23397', '3180', '7399', '15763', '10953', '25506,19', '23425', '6873', '9826', '5912', '2872', '9144', '13180', '5100', '3419', '7002', '11576', '39110', '22167,6', '24270', '8090', '72890', '16098', '29198', '10085,9', '5228', '4387', '17347', '7720', '50700', '26872', '60500', '2599', '10260', '30974', '16310', '17712', '4455', '13689', '18777', '3499', '10990,92', '12474', '11170', '9813', '13195', '4487,4', '7147', '7950', '8148', '23940', '4730', '20789', '9515', '13830', '28991', '11445', '23297', '6710', '20343', '8675', '28999', '3720', '16491', '12132', '20820,2', '39028', '22082', '24295', '19187', '3179', '16470', '9278', '20800', '38300', '10001', '12443', '21464', '6783', '21728', '4750', '22798', '26555', '36730', '23608', '6457', '12711', '8890', '29200', '10570', '11808', '4077', '19342', '16653', '14960', '19224', '31672', '29384', '10799', '15150', '15850', '12713', '2440', '10438', '16284', '14540,04', '69500', '5968', '3749', '11175', '5268,47', '16786', '19674', '32499', '6890', '6562', '12428,7', '18472', '8149', '10740,64', '20786', '39865', '6900', '14165', '22413', '19877', '3961', '9809', '7209', '13170', '29040', '16897', '18575,2', '61250', '12211', '22300', '10935', '22162', '7173', '6941', '6282', '23990,83', '38244', '24344', '9728', '89344', '21520', '4576,5', '29120', '13267', '2495', '9971,3', '3138', '5965', '3128,2', '10060', '18560', '15552', '13959', '4209,2', '16105', '17270', '2120', '28674', '6885', '6020', '24490', '18891', '6978', '21246', '7872', '9931', '3199,2', '13229', '7649', '12059,1', '7390', '27493', '11487', '5839', '17770', '5210', '9199', '20464', '9555', '5665', '42000', '27769', '33183,4', '13500', '39627', '3222', '16240', '6662', '20583', '4270', '6948', '50177', '14189', '3215', '11853', '3271,5', '12590', '10471', '7350', '20160', '12197', '7386,75', '9837', '16783', '24314', '15314', '3980', '17650', '25897,4', '23945', '14521', '5339', '3650', '33111', '25999', '13990,92', '10320', '12680', '13495', '12148', '15865,65', '13018,1', '15999', '28428', '9460', '20925', '43376', '7968', '23226', '4769', '16300', '6075', '11200', '23749,76', '3276', '3949,92', '32844', '24479', '11426', '9738', '21860', '5680', '4939', '42180', '21388', '5531,8', '9107', '7998', '31096', '17752', '3892', '42335', '5294', '39388', '19840,5', '5380', '12606', '96200', '5820', '30697', '23760', '6544', '10310', '28899', '18162', '8225', '3470', '13993', '17956', '21350', '10112,8', '63776', '3033', '37200', '9949', '6490', '9490', '7169', '22252', '4362', '3892,2', '26848', '19819', '16977', '5542', '23411', '35165', '18720', '28715', '28230', '13250', '20268', '45000', '10708', '2995', '15427', '2800', '5504', '11980', '7682', '4040', '2638', '26461,91', '24587', '10174', '14250', '19046', '14185', '25508', '14921', '2072,7', '2031', '38830', '29790', '19608', '18286', '27020', '66504', '23650', '43353', '15320', '17045', '16367', '14320', '20931', '46800', '6000', '14993', '44415', '18719', '26241,6', '3882', '50020', '3717,9', '14948', '5105,7', '13030', '19765', '19404', '16448', '7798', '11916', '9349,92', '25122', '15027', '16519,02', '13360', '17690', '6342', '30344', '14522', '9448', '4188', '15629', '14292', '6480', '16364', '6290', '40200', '10245', '30990', '10536', '30370', '5408', '34999', '9573,1', '10429', '10025', '25991', '11672', '16189', '24458', '24950', '15800', '5297', '6964', '3294', '16949', '20338', '16010', '5941', '14494', '6776', '10714', '19400', '12239', '8793', '13456,82', '9759', '7867', '37360', '19900', '81612', '41470', '21665', '21100', '20313', '3928', '14513', '4851,81', '4082', '11502', '2998', '8055', '19446', '3040', '11630', '39090', '18497', '11600', '2880', '8381,5', '23700', '11740', '6297', '2907', '7997', '18090', '5765', '25520', '21120', '26022', '4339', '3348', '13080', '17200', '19720', '19976', '15680', '4135', '16000', '26989', '9798', '16691', '23126', '28557', '10240', '28450', '2704', '18004', '12310', '31400', '21910', '13985', '6590', '13745', '2700', '6190', '3188', '10061', '8160', '10566', '18350', '27680', '10584', '18240', '8625', '10700', '7032', '13882,92', '4852', '8398,1', '22240', '4550', '9430,38', '11666', '37017', '36400', '2450', '15020', '18150', '33344', '5995', '9710', '4212,9', '3149', '7908,1', '2104', '5398', '31294', '35450', '33881', '21243', '17297,6', '25459,3', '6018,39', '21506', '5465,26', '7845', '21207', '22057', '4386', '8860', '2934', '5078', '14872', '30720', '5577', '9230', '16498', '14460', '2430', '50929,82', '9855', '10575', '32292', '20999', '7080', '9025', '30131', '27990,91', '15255', '6452', '21440', '3752,9', '9940', '21640', '8500', '15269', '18810', '17483', '11810', '35500', '18260', '10990', '13190', '31221', '15466', '52509', '91536', '7236', '8200', '13148', '11691', '4961', '15299,9', '29386', '15291', '12480', '37150', '20877', '32750', '9393', '3450', '6770', '10884', '23830', '37656', '14284', '7812', '11315', '16285', '3816', '22194', '16371', '8530', '26896', '8630', '2961', '13157', '10286', '24675,85', '71243', '11674', '17530', '25081,98', '6749', '13462', '4790', '3743', '5599', '31450', '21999,2', '20751', '4758', '35520', '65747', '10879', '6138', '13184', '11590', '26720', '6930', '22770', '22969', '6380', '4853', '33900', '7039', '27340', '9927', '15616', '6109', '19570', '11620', '14938', '7523', '7620', '9622,77', '82700,9', '7480', '37790', '23735', '17490', '5301', '16428', '37456', '15647', '11160', '24346', '4175', '13489,91', '14090', '16621', '36000', '17098,2', '12110', '9278,1', '5879', '11290', '13191', '3998', '21858', '55174', '6367', '3500', '11960', '21286', '18789', '98644', '8390', '11269', '14916', '12598', '2100', '8725', '4020', '14698', '4920', '19730', '4059', '14976', '11670', '9791', '10526', '23511', '5829', '8132', '10936', '10665', '32990', '19320', '8038', '18780', '22188', '16701', '4770', '56518', '5359', '29750', '7200', '18547', '16796', '10115', '14744', '23315', '15041', '12447', '13887,68', '25343', '19797,1', '4670', '6205', '28402', '3222,9', '23470', '7348,52', '6928', '25182,4', '20985,62', '18538', '16870', '4581,87', '10116', '19037,2', '4405', '22480', '4835', '9325', '6545', '7407', '6266', '4777', '13433', '8120', '13387', '22927', '20820,44', '38520', '3750', '11589', '22440', '5260', '31500', '35950', '15638', '14080', '4630', '28341', '25584', '17981,9', '4780', '8745', '22950', '22528', '9180', '5517', '3390', '13440', '2909', '14940', '13688', '57581', '5508', '5738', '10525', '9417', '27360', '7183', '7750', '7440', '20699', '18702', '6903', '15279', '20450', '27925', '19820', '76360', '5938', '11077', '18426', '5290', '4330', '16950', '13173', '54105', '17890', '5242,3', '7488', '30696', '3541', '23772,27', '9718', '14700', '20326', '27124', '11240', '7799', '14337', '8373', '32444', '8210', '29220', '19005', '10478', '6527', '8840', '3740', '43010', '11787', '14795', '18175', '3636,9', '25068,94', '16180', '23050', '76738', '23480', '31200', '3850', '8515', '11247', '3771', '34390', '6023,7', '9545', '4436', '4268', '19300', '19960', '13719', '10752', '29900', '9759,4', '13300', '30299', '44290', '11060', '22356', '27518', '12868', '20939', '7676', '3555', '24132', '12348', '3072', '19083', '8492', '25780', '17448', '3195', '9928', '3301', '8448', '14290', '9830', '27980', '4727', '9866', '11639', '13150', '6130', '29944', '17558', '6939', '7695', '26596', '6240', '33800', '9910', '25740', '26997', '2305,8', '23280', '10440', '16063,29', '32310', '6620', '13690', '5908', '15615', '7965', '34990,8', '25515', '38625', '88000', '23774', '13260', '24810', '4469', '14013', '10193', '16991', '7874', '23300', '57209', '19597', '4580', '15880', '28551', '31040', '23850', '10900', '3492', '3308', '11500', '28502', '4274', '14160', '18855', '48600', '3001', '8280', '21648', '5920', '4435', '4905', '16670', '26099', '5296', '9212', '59398,2', '19410', '12460', '6990,92', '20748', '5880', '3335', '18599', '5987', '20700', '24650', '21405', '8033', '16868', '11930', '6190,92', '16692', '4673', '7539', '12690', '29000', '11345', '6327', '29694', '17276', '12044', '12397', '14399', '5989', '6380,91', '20298', '11070', '8685', '23517', '8633,7', '6460', '10720', '12309', '15190', '3145', '20659', '14449', '6498', '24027', '22536', '2000', '13981,8', '9899,92', '5798', '3790', '28810', '2573', '4520', '7838', '15460', '13450', '4345', '18582', '20059', '4064', '23200', '3916', '6580', '10366', '12495', '19145', '9660', '25702', '23680', '14619', '16773', '8076', '12646', '17633', '20520', '12506', '11050', '20225', '10940', '3357', '25540', '20995', '5340', '2470', '13078', '11330', '27740', '32617', '20252', '30599', '8034,2', '3376,8', '6991', '17580', '6950', '6048', '17075', '18850', '18376', '11135', '18138', '17763', '8886', '11021', '17505', '14659,2', '94330', '46385', '25300', '23030', '29094', '13312', '29690', '14696', '8767', '16467', '25199', '12720', '7459,6', '20863', '31333', '26547,3', '4369', '18599,4', '11750', '18580', '16020', '6549,83', '12038', '27234', '22250', '14430', '11363,99', '37450', '6598', '15619', '14965', '33850', '5019', '4477', '12320', '15930', '10757', '15985', '8825', '19021', '34295', '3941', '78120', '17451', '11048', '18463', '4318,2', '26340', '34199', '14197', '22085', '4508', '47309', '23852', '16200', '3935', '16290', '12870', '18060', '13025', '63700', '24110', '13910', '36093', '22160', '26760', '16647', '35683', '9930', '36910', '11892', '37881', '26232', '27796', '11422', '7978', '48580', '27877', '63320', '6726,1', '6982', '12910', '10631', '15128', '58640', '21730', '3547,42', '7235', '46881', '25440', '15035', '8899', '7698', '31800', '8405', '13336', '8011', '6848', '11441', '11880', '13409', '2899', '20601', '24340', '15780', '4879,8', '22302', '20350', '4098', '4485', '15226', '22168', '17842', '16648', '6883', '9907,2', '35793', '13695', '16995', '17367', '11685', '27700', '46671', '23197', '5366', '14050', '90747,9', '5150', '2529,61', '15624', '8406', '53364', '25317', '4812', '5520', '3668', '19133', '8393', '11790', '34555', '6779', '11615,4', '14209', '17398,2', '2243,7', '23488', '4923', '19970', '9551', '20475', '14040', '6514', '13934', '9467', '9457', '13230', '13653', '6966', '6141,75', '11389,2', '10560', '11039', '4804', '8617', '40110', '7947', '18999,2', '13536', '38718', '7625', '4969', '2850', '21460', '12820', '15247', '7077', '27000', '20698,1', '8190', '7240', '7780', '16045', '15650', '5070', '10789', '3489', '4366,8', '9750', '82910', '19360', '15290', '14400', '13435', '8771', '6887', '5689', '9416', '22951', '26100', '3090', '3415', '3109', '22080', '7815', '7120', '17716', '4243', '13679', '24236', '10759', '22940', '14709', '8442', '7366', '6145', '20699,1', '32940', '17756', '4967', '2719,2', '9768', '11126', '22947', '4499,2', '7829', '5855', '18857', '28778,3', '29052', '17940', '25177', '7637,63', '26941', '7900', '4290,9', '21430', '10348', '9059,92', '14990,95', '62700', '93400', '11055', '13284', '25899', '19382', '53400', '9977', '8460', '76730', '22317', '10024', '21209', '9840', '7369,7', '6450', '40313', '32540', '5718', '8067', '12890', '17568,3', '11689', '27540', '24667', '10398', '29206', '24131', '7970', '17593', '2498', '11833', '23820', '10750', '32397', '23600', '39450', '18300', '4004', '3654', '11212', '5272', '31502', '9224', '10248,2', '27398', '22349', '4580,92', '17080', '5712', '3398', '20000', '12191', '10740', '6983', '21895', '8091', '3718', '16988', '2000,51', '11133', '11350', '12498', '9447', '2366', '34641', '19883', '21700', '12816', '3134', '4600', '5031', '7544', '5988', '13600', '20862', '18171', '2691,9', '19940', '23124', '6288', '4773', '33358,84', '20355', '25998', '16616', '21330', '21927', '4741', '10525,01', '11167', '7368', '3320', '45750', '18216', '14170', '8892', '16140', '24933', '3737,6', '5995,46', '13460', '15756', '5545', '7741', '17590', '34700', '14493', '4351', '28338', '3393', '13577', '22692', '22617', '30930', '5840,5', '62550', '10981,82', '25400', '8064', '10770', '11359', '34493', '14300', '24940', '3380', '15481', '5440', '7152', '7560', '18190', '8997', '45438', '2759', '93000', '10687', '8490', '9679', '19580', '12220', '12990', '11966', '4909', '31702', '12396', '9445', '7259', '4879', '5055', '15621', '9532', '25830', '78000', '10265', '3960', '14410', '2152', '2680', '3237', '16613', '4940', '6189,3', '2300', '3729', '27088', '12902', '20679', '4928,96', '4265', '8556', '18980', '6360', '6609', '8640', '9675', '8450', '9719', '25812,5', '9367', '3099', '31190', '23663', '25220', '11710', '3923', '8435', '7860', '37069', '9695', '17802', '27283', '19843', '22990', '17425', '22075', '6999', '13112', '18400', '11446', '13494', '7469', '5304', '10970', '25386', '24750', '5174', '9570', '17528', '5333', '25599', '8991', '22590', '4704', '9315', '13989,4', '32114', '10089', '16244,9', '33292', '11798', '18495', '29942', '13940', '14280', '13710', '41021', '15098', '18670', '34422', '16743', '9429', '15980', '3030', '24272', '19295', '7315', '42689', '22792', '3824', '24015', '11195', '3407', '10864', '24061', '8589', '28722', '13624', '28026', '23661', '2490,92', '13747', '9170', '22509', '7369', '21670', '17254', '9370', '11392', '5588', '6858', '6270', '35596', '9538', '33088,5', '17839,92', '19670', '5129', '23451', '53000', '12166', '2798', '9007', '13640', '13430', '4672', '59760', '17811', '9986', '3640', '35670', '30600', '9347', '12488,25', '14470', '28288', '12246', '26115', '8715', '4978', '48800', '27348', '9530', '19993', '17248', '5706', '9477', '18217', '14560', '23500', '22310', '10917', '5292', '45280', '13009', '34766', '33100', '10738,5', '30946,29', '4575', '21780', '48920', '41210', '5645', '11718,94', '21295', '7115', '7589', '5346', '6520', '11340', '37100', '17900', '20324,92', '6945', '11730', '21112', '10610', '6682', '13499', '16081', '2633', '4938', '16110', '50950', '36350', '19529', '22904', '3411', '28098', '4242', '8697', '12702', '15036,21', '22299', '26900', '6166', '7084,28', '18868', '4740', '7891', '5757', '31015', '6766,4', '23070,6', '15164', '4302', '3528', '14717', '9167', '17988', '35770', '13208', '3141', '9990', '16960', '17060', '10680', '20990', '26183,5', '18328,6', '9898', '3321', '20653', '11212,06', '16961,1', '13178', '21021,9', '10338', '7137', '31817,2', '29622', '10080', '4497', '3143', '3413', '21784', '2590', '15795', '10853', '93890', '11455', '9380', '24119', '13980', '14144', '11768', '42950', '15705', '13530', '29334', '3312', '5707,8', '15690', '7495', '16358', '8543', '3951', '11990', '16070', '30951', '4041,9', '10360', '26961', '26641', '37235', '44560', '8604', '21658', '10190', '23391', '29234', '11997,2', '11510', '30627', '56340', '28110', '25137', '15065', '3602', '18624', '19748', '3196', '26457', '16880,91', '20133', '21250', '9263', '23152', '35201', '18999', '13669', '2125', '21660', '5050', '8303', '17340', '19150', '6697', '11040', '25904', '7824', '13635', '9540', '7472', '21146,4', '15220', '77000', '19980', '26397', '15863', '92000', '10818', '6338', '9533', '21166', '14609', '15299', '29830', '13875', '5630', '19699', '20833', '5757,1', '37350', '5455,8', '6843', '17930', '14440', '13541', '10820', '21290', '40534', '11151', '18690', '99000', '16380', '5195', '4838', '4837', '13990', '29100', '17572,68', '4275', '25460', '14994,6', '17873,75', '6346', '7101', '77762', '71600', '11362', '4527', '13490,2', '11719', '12048', '10418', '20610', '8609,92', '19502', '8658', '8857', '12514', '47223', '16872,3', '30313', '29443', '8763', '12903', '4026,55', '14270', '11995', '14490', '13001', '22145,1', '16330', '20379,5', '3100', '16550', '19550', '3610', '6168', '9480', '15556', '18006', '17545', '27490', '13380,56', '6980', '3549', '14596', '3897', '24275', '23044', '4134,4', '22850', '31694', '8597', '43373', '4619', '14472', '6690', '13689,86', '17372', '18210', '2570', '16099', '16520', '3285', '16576,2', '27945', '13843', '17370', '25966', '16112', '3015,2', '3080', '8117', '4921', '33470', '5990', '9153', '6499', '22616', '23784', '20903,5', '20190', '6975', '26871', '7066', '18631', '3420', '65629,5', '6130,8', '13365', '26462', '17910', '12130', '8330', '14500', '7563', '40900', '12198', '9128', '13825', '15102', '45665', '5211', '12300', '9749', '70300', '2660', '10238,82', '25420', '5590', '19169', '8844', '8832', '9614', '44225', '12510', '8430', '13087', '24500', '11539', '20590', '10978', '26276', '23147', '4950', '10400', '11300', '3314', '23406', '8540', '7110', '4951', '3034', '11765', '15582', '24179', '35145', '22930', '7130', '6263', '19929', '17671,2', '28241', '18080', '4890,2', '19513', '15899', '9095', '27670', '9098', '6424', '7550', '4599', '5017,9', '35563', '26174', '52295', '24250', '16750', '9371', '17324', '24130', '8644', '14096', '41600', '28079,84', '5661', '12339', '34500', '17076,2', '29382', '13141', '31806', '17339', '22756', '21994', '12554', '34020', '7224', '4372,2', '21889,92', '11090', '5306', '15984', '11368', '21760', '19791', '22192', '9004', '17840', '18000', '21237', '20580', '13649', '16260', '13835', '4495', '15771', '10555', '3869', '28950', '3442', '27400', '29295', '7417,5', '15806', '32200', '17110', '15090', '11936', '9825', '21762', '16381', '3330', '19782', '11800', '6462', '17360', '41171', '3909', '14599', '33400', '13443', '98030', '4700', '11514', '91168', '10420', '4262', '18389', '20220', '10457', '18899', '9270', '5639', '3359', '7763', '3748', '9137', '11202,3', '12845', '2819', '6643', '22890', '5555', '10331', '5620', '27080', '4638', '70047', '5931', '7586', '2180', '6744', '9655,2', '20430', '12750', '22561', '14989', '36617', '19140', '5660', '13780,82', '22500', '60300', '4150', '3680', '8470', '4475', '23598', '6893,7', '12289', '39327,2', '11383', '25680', '15755', '26090', '11860', '3942', '9700', '14175', '23220', '21204', '6796', '9298', '10730', '7135', '7258', '8978', '4074', '4290', '26730', '10287', '20490', '7630', '15347', '25760', '9484', '6036', '2890', '32449', '4611', '5080', '19620', '11377', '22621', '15350', '23720', '3899', '8780', '9592', '24580', '5451', '21320', '6898', '10616,4', '14840', '2240', '19100', '19938', '38108', '30796', '7982', '3424', '11349', '78390', '8080', '29699', '17594', '7128', '14190', '10413', '17860', '15883', '3350', '73996', '10280', '5435', '7296', '5793,3', '3675', '11376', '23579', '7660', '6299,2', '21915', '12830', '22896', '25950', '2439', '3890', '10323', '4878', '3032', '15215', '12283', '23121', '12328', '58947', '28273', '23310', '5089', '28781', '5688', '9654', '21123', '18499', '62800', '29680', '3879,17', '17624', '9835', '4563', '41125,88', '3299', '21907', '9217', '7650', '17480', '8652', '10538', '2330', '10490,91', '16920', '11680', '12566', '39741', '24125', '3885', '18204', '15010', '4680', '19482', '79200', '3535', '22280', '19930', '13197', '3825', '13895', '5045', '11583', '15127,4', '10322', '14495,35', '30000', '10389', '20536', '2799', '4648', '10470', '14107', '15099', '16416', '7909', '6619', '13225', '8102', '4021,92', '2940', '12195', '5391', '32481,83', '17869', '7385', '8220', '85100', '20050', '9264,69', '21710', '4607', '9702', '7360', '9799', '7190', '20530', '22499', '8047,1', '3089', '19560', '15602', '23399,2', '31484,1', '5848', '18498', '5160', '20658,2', '18734', '28933', '6518', '4491', '19993,4', '12818', '17549', '20565', '15789', '13558', '8424', '2970', '12200', '8298', '22810', '12725', '6136,58', '3464', '3598', '24380', '10342', '12890,92', '14240', '28431', '8186', '5562', '7471', '15732', '10782', '21154', '25900', '44690', '6840', '22575', '6780', '13479', '4240,91', '5288', '18740', '8156', '23475', '25320', '9444', '7530', '5140', '7327', '12854', '22198,1', '72885,57', '19542', '5684', '16370', '19296', '5984', '8127', '29615', '34335', '10605', '3834', '12550', '3924', '6720', '22221', '5963', '30999', '11727', '13301', '5267', '9899', '7919', '67500', '9804', '2974,15', '14098,1', '66680', '27208', '26960', '25447', '3356', '25732,2', '12940', '28922', '29898', '23499', '17097', '38000', '23290', '18290', '9456', '35550', '18997', '23100', '49838', '21180', '37495,2', '8297', '43950', '12762', '4761', '19999', '7869,61', '8536', '18692', '30940', '49227', '9259', '14092', '4241', '18445', '36490', '13136', '43682', '18045', '22200', '4260', '16980', '17184', '8412', '16736', '19630', '25920', '23389', '3448,8', '9389', '22070', '27166', '4099,9', '9013', '4100', '12696', '12317', '6298,6', '26818', '7505', '2800,85', '5431,2', '26485', '22263', '6797', '7272', '10805', '16499', '6819', '34905', '5999', '2189', '34391', '3400', '32400', '12546', '10650', '4079', '14724', '43996', '7353', '14588', '8078', '12557', '8544', '23110', '19035', '19089', '11279', '3328', '19301', '25330', '8116', '30596', '24864', '30372', '6272', '22900', '7640', '3701', '24059,83', '28186', '20598', '16834', '11619,84', '25600', '24367', '7582', '2540', '6204', '15400', '14765', '25109', '4492', '5095', '30471', '12127', '5377', '17272', '8744', '15759', '21696', '35529', '4908', '11764', '17220', '10424,6', '44760', '5932', '16425', '10660', '19235', '23304,6', '8237', '40037', '3904,3', '17529,91', '15555', '5899', '20755', '8570', '6329', '27170', '28661', '19589', '23331', '26819', '23854', '3848', '6998', '7895', '12980', '24680', '26500', '16650', '99308', '22286', '15097', '18010', '13900', '4498', '6707', '20095', '3516', '3820', '17420', '21086', '21082', '71400', '9499', '14595', '19844', '17390', '14193', '21382', '11049', '32593', '45297', '51200', '21408', '36500', '19000', '12365,2', '11699', '23861', '25574', '22870', '19521', '15359', '14639', '2135,14', '27270', '7981', '35598', '9923', '3296', '22384', '22525', '28400', '29012', '20090', '14527', '14390', '5910', '78550', '5388', '18380', '3879', '11524,79', '17280', '10590', '14570,01', '45863', '4664', '7605', '22338,94', '4090', '4217', '8188,04', '8988', '17000', '96490', '21870', '61832', '14206', '34449', '2219', '43515', '2045'}\n",
      "\n",
      "\n",
      "==========\n",
      "FST_PAYMENT\n",
      "{'1422,6', '2985', '10700', '12600', '9770', '1341', '2879', '2279', '1210', '9955', '1653', '4550', '2852', '631', '2450', '22000', '3000', '10330', '1000', '250', '2324', '3149', '496', '3000,68', '1229', '29590', '7020', '7300', '1132', '6399,9', '14786', '2327', '5722,21', '903', '1279,9', '601', '643,7', '869', '7845', '11924', '7820', '3158', '798', '1197', '6115', '3510', '35000', '971', '2955', '5670', '3159,86', '4434', '2934', '2485', '1143', '16100', '1337', '22400', '1543,5', '1500,95', '2915', '3137,9', '2596', '2430', '2222', '4352,37', '10152', '1267', '1248', '1781,83', '1420', '1392', '9520', '3187,74', '1806', '1949', '1849', '376,21', '2772,13', '770', '7080', '4715', '792', '10460', '229,5', '23900', '4743', '1147', '39487', '573', '912', '8790', '8500', '4230', '10800', '1399', '8750', '13818', '1469', '430', '1771', '4081', '6610', '1482', '1026', '594', '4579', '1608', '4953', '3410', '6127', '4287', '20644', '1522', '323,25', '2405,69', '14220', '705', '4521', '2830', '1610', '8200', '3124', '8734', '13776', '17669', '6995,92', '4018', '777', '34000', '41580', '6050', '3660', '2403', '1392,4', '1584', '488', '3408,8', '32750', '625', '39400', '3840', '3450', '5033', '1036', '413,1', '7500', '746', '925', '276,6', '2729', '279', '13650', '1155', '3087', '4992', '2776', '1595', '1235', '772', '9418', '5667', '929', '8522,2', '1280', '3484', '380', '426', '2335', '1295', '1271,1', '11660', '508,79', '3569', '1075', '863', '9016', '7836', '1999,94', '432', '1498', '1556,8', '1550', '1866,6', '720', '2047', '659', '11528', '6138', '1089', '6534', '8480', '1290', '5790', '11900', '748', '2615', '4567', '2333', '1030', '455', '2244', '2000,92', '4587', '1004', '556,2', '6929', '1376', '1609', '630', '1661', '1121', '2840', '3169', '1759', '2574', '1243', '7480', '8400', '415', '732', '5611', '1385', '10933', '4011', '1279', '2499,8', '7261', '1842', '28257', '21000', '3360', '11890', '757', '5594', '1462', '698', '5036', '582', '2204', '2368', '437', '1870', '62250', '4206,8', '622', '2248', '760', '42518', '2250', '386', '1928', '3500', '355', '9699,69', '1517', '1812', '457,5', '1930', '1572', '2758', '675', '413', '8390', '3490', '2375,68', '663', '1178', '3735', '2100', '320', '1763', '1215', '7747', '388', '2131', '34923', '3730', '9250', '1231', '4020', '669', '7400', '6323', '542', '16500', '49356', '3363', '5690', '940', '1480', '848', '3370', '1256', '3997', '1854', '2857', '10026', '1058', '627', '1730', '893', '4770', '1639', '5400', '1002', '7100', '1956', '949', '7200', '1123', '1168', '10431', '2365', '1399,8', '5461,11', '1591', '2286', '9550', '6712', '1255', '2079,02', '2205', '729,1', '4650', '8940', '3337', '3717', '2980', '1796,94', '10162', '465', '514', '2538', '2000,2', '2398', '16086', '616', '3202', '5521', '309', '3670', '1240', '1008', '213', '1484', '5550', '6340', '2647', '590', '758', '475', '10394,5', '19924', '9325', '850', '3223', '1640', '1599', '409', '490', '3800,2', '3078', '35800', '1138', '8120', '2369', '1244,7', '756', '889', '3750', '5450', '3135', '1424', '6923', '4490', '5260', '54910', '859', '11440', '337,1', '1374', '1530', '3245', '739', '3173', '448,9', '2024', '1000,95', '5517', '40100', '1625', '3390', '2358', '10516', '7124', '14940', '379', '7700', '3995', '1103,85', '2750', '1701', '10525', '16484', '1247', '3605', '811', '3000,91', '709', '7750', '2000,4', '2200', '5750', '779', '5847', '19958', '1936', '29080,92', '1273', '4828', '4275,2', '8688', '1102', '715', '3435', '814,2', '4330', '24500,03', '1251', '377', '3444', '953', '2253', '6835', '574', '1390', '1837', '988', '1300', '2588', '1545', '269', '696', '2197', '2568', '5760', '13126', '1126', '7506', '6010,3', '638,7', '268', '2135', '3740', '3293', '5300', '14200', '9960', '9288', '3194', '2999,6', '5786', '915', '3850', '3524', '1474,3', '13200', '8000,91', '2860', '1885', '4048', '2004', '877', '13203', '363,5', '1560', '339', '1810', '10550', '1434', '783', '13300', '1635', '10015', '973', '11597', '2458', '418', '28000', '1512,1', '539,09', '440', '1219', '6532', '4250', '3126', '13400', '7118', '176', '3108', '1815', '857', '9602', '3555', '1497', '14760', '4430', '5120', '8499', '723', '2121', '4185', '2947', '7519', '2962,1', '1887', '4310', '1305', '6500', '4632', '3829,6', '2754', '4798', '3266', '29032', '3498', '3195', '4660', '4919', '48210', '168', '2650', '247', '2233', '2248,1', '1374,88', '479,8', '258', '4815', '7528', '1477', '479', '1200,2', '3028', '3749,74', '2460', '787', '4980,91', '517', '2559', '7600', '690,95', '3107', '1999', '1524', '1200,8', '2926,4', '1841,91', '1213', '6240', '15939', '9910', '2702', '2937', '847', '4346', '6541', '337', '520', '950,92', '2634', '2046', '2698,93', '12999', '5499', '1660', '1353', '2514', '3677', '12520', '13539', '1092', '1312', '4720', '2310', '2480', '4820', '6820', '1380', '979', '5761', '5245', '2508', '435', '1440', '3136', '747', '1901', '2383', '2778', '449,1', '2630', '2320', '9375', '2916', '7174,87', '1700,92', '1000,89', '5108', '4580', '4138', '4739', '4517', '3900', '644', '7541', '1093,4', '3270', '2000,7', '10900', '5198', '11044', '3492', '5746', '5143', '5708', '11500', '4274', '5398,1', '687', '960', '13395', '2457,9', '1328', '2888', '10000,2', '1306', '5726,3', '18800', '6882', '3480', '868,83', '21648', '559', '9685', '720,2', '4343', '2166', '2892', '34698,2', '1648,5', '10136', '3391', '60245', '9991', '50442', '1717', '3800', '1099,9', '431', '1180', '373', '15670', '788', '6837', '1556', '160', '1445', '20890', '3335', '5950', '3340', '9528', '565', '918', '5246,5', '1823', '1630', '1574,1', '2414', '1566', '3097,8', '10147', '833', '1453', '10467', '1294', '1800', '5320', '485,8', '738', '1892', '1489', '16668,82', '3369', '1509', '598', '3257,04', '2410', '12044', '691', '8328', '1575', '2157', '392', '2062', '5989', '880', '15091', '1671', '4199', '1961', '867', '1818', '1802', '2044', '5940', '9200', '985', '2878', '640', '2855', '4364', '1960', '1015', '1809', '1264', '1272', '9108', '2395', '560', '5244', '399', '2580', '1041', '2442', '1265', '2000', '15886', '2690', '10489,92', '39910', '3760', '6200', '508,5', '5800', '3790', '63219', '4139,36', '1360,92', '445', '3425', '24800', '2620', '2720', '2517', '439', '2651', '2149', '8998', '8923', '3045', '2587', '1254', '1250', '3162,71', '1600', '2797', '55982', '3916', '552', '519', '11548', '2690,92', '2578,8', '2000,79', '999,2', '5817', '4925', '981', '3264', '1010', '1004,2', '4245', '3357', '2954', '2490', '23000', '5340', '4095', '2470', '4536', '8349', '8879,48', '862', '1703', '4000,22', '5000,87', '1962', '1831', '22097,99', '1731', '1570', '1615', '3907', '1864', '596', '6950', '18850', '3060', '9871', '1289', '1999,2', '1084', '6844', '1185', '285', '2348,8', '1694', '2088', '405', '7049', '9964', '1035', '3200', '1786,9', '2966,2', '25300', '2364', '5148', '4983,2', '2419', '2455', '5130', '31350', '5437', '3439', '2380', '695,2', '2316', '7185', '717,2', '1691,6', '5038', '21094', '3310', '1814', '2477', '50500', '393', '1124', '2420,1', '8', '1784,81', '6598', '2751', '16293', '5081', '4050', '2001', '6600', '4830', '1515', '4280', '3999', '834', '1840', '5234', '3014', '9039', '982', '2030', '420', '656', '13519', '3037', '42906', '6481,31', '15140', '943', '3084', '468,1', '695', '655', '3935', '938', '6509', '754', '319', '1690', '5580', '7095', '4629', '6000,95', '3284', '2409', '1320', '249,3', '1508', '2604', '1740', '2170', '6257', '12700', '2400', '7945', '2613', '6875', '2156', '12910', '5631', '549', '969,8', '728', '895', '538', '2686', '808', '2911', '2070', '3050', '3678', '1029,41', '5784', '1895', '1047,82', '2900,5', '1950', '2849', '4390', '9425', '54080', '3448', '1507', '3278,9', '727', '545', '1450', '11221,5', '2899', '13807', '2017', '1055', '530', '4675', '4098', '2499', '9793', '1356', '10981', '6300', '1958', '860', '1373', '680', '9037', '3595', '20645', '3073,8', '1170', '555,2', '2050', '5350', '7270', '2765', '942', '1883', '2459', '2150', '699', '4846,96', '2640', '5366', '5980', '70940', '5150', '6410', '11754', '1176', '451', '3666,2', '2625', '3210', '2132', '1418', '1523', '3620', '11076', '364', '6603', '5560', '1679', '4198', '1340,92', '5650', '8945', '1865', '1700', '13100', '1590', '878', '300', '775', '1120', '1973', '3020', '1597', '2988', '8164', '6554', '2803', '2898', '2027,7', '2287', '2790', '53541', '9096', '5097', '5002', '1528', '395', '615', '9457', '965', '306', '6519', '799,5', '4200', '498,6', '10560', '7000', '1069', '19556', '1860', '2241', '4823', '1897', '4399', '2000,9', '5010', '6160', '4775', '2331', '6699', '2553', '1000,1', '2710', '2520', '13536', '1995', '2060', '3157', '1573', '2237', '1899', '575,2', '858', '3872', '2062,5', '4949', '2850', '464', '6990', '853', '2357', '1379', '5170', '27000', '8190', '2349,6', '7240', '553,6', '425', '469', '3489', '1899,9', '7082', '5703', '911', '9750', '4289', '4030', '1201', '4340', '804,5', '1150', '1338', '1369', '528,5', '1100', '44500', '4400', '849', '4653', '26410', '13526', '1703,2', '2500,8', '1001,7', '4263', '4944', '887', '5075,84', '3150', '1239', '9000', '820', '50000', '3090', '1400,1', '2028', '3415', '2949,7', '16657', '6491', '12335', '2571', '1819', '4809', '1270', '861', '4937', '3975', '13700', '816', '3570', '10759', '400,2', '500', '340', '6400', '3976,32', '4000,5', '9498', '681,2', '845', '10425', '384', '1018', '10706', '824', '1050', '5000,8', '1000,2', '2288', '1393', '7447', '5060', '2655', '3780', '1179,6', '5928', '2270', '3277', '2975', '1165', '4590', '7900', '1847', '2076', '1500', '1725', '2887', '10515', '25000', '5735', '605', '7794,92', '2674', '2811', '3545', '1980', '485', '576', '23800', '3288', '4444', '825', '2190', '238', '3870', '959,3', '2863', '1634', '446,05', '1269', '419', '10950', '1056', '2597', '1933', '2697', '515', '5718', '10696', '3454', '1475', '46300', '11689', '2175', '3086', '885', '1172', '546', '2595', '3000,2', '234', '2832', '410', '4851', '1053', '1368', '1534', '2498', '10750', '1196', '7230', '2845', '742', '4850,8', '421', '827', '1258', '407', '6217', '9445,95', '725', '1287', '2547', '1020', '734', '3398', '20000', '4712', '3779', '18900', '3346', '2490,95', '7553', '9047', '2858', '1841', '687,7', '2472,5', '676', '3880', '1651', '6151', '3220', '1598', '744', '3710', '1978', '1049', '10051', '3134', '2346', '9922', '774', '3250', '4600', '1503', '1845', '2753', '1750', '3216', '3700', '626', '3252', '1860,9', '43359', '2688,69', '7805', '12144,42', '2034', '3298', '2159', '509', '2151', '367', '555', '10', '5250', '3320', '14221', '1789', '755', '7822', '6957', '1297', '5373', '2846', '2515', '947', '894', '2504', '21839', '5744,5', '2482', '54870', '3371', '1828', '3787', '5730', '645', '3658', '44963', '1064,2', '1310,62', '1025', '2564', '3015', '6100', '8064', '25400', '360', '1003', '7953', '772,3', '7811', '619', '4752', '780,3', '2372', '3451', '3380', '2522', '1910', '5440', '1065', '2999,9', '75606', '7420', '2665', '20235', '2220', '4177', '685', '786', '5155', '7259', '9754', '7531', '2653', '5472', '1656', '2090', '8000', '3960', '2152', '1339,9', '512', '251,1', '2680', '955', '51127', '21500', '311', '4708', '1721', '510,9', '1012', '2730', '10527', '4320', '5838', '2300', '3159', '4005', '658', '795', '120', '3212', '1788', '1479', '16515', '1632', '6445,86', '1268', '11292', '706', '2500,4', '65000', '692', '8640', '1343', '8450', '1116', '2390', '810', '1330', '2283', '4080', '5900', '3500,6', '2826', '2294', '3099', '697', '1619', '1717,92', '2223', '8688,09', '813', '4160', '7740', '1805', '1300,92', '5710', '2843', '296,8', '2299,9', '1158', '4197', '1876,25', '2384', '10465', '2293', '1719', '9695', '1959', '3049', '1648', '1340', '25089', '4910', '281', '4593', '6999', '588', '18400', '391,2', '383', '1540,84', '735', '1835', '9570', '4235', '1785', '25599', '3650,1', '2749', '9020', '561', '7882', '515,85', '3795', '6387', '13750', '2950', '1655', '5890', '1874,7', '2092,94', '1685', '1348', '10619', '1430', '3969', '40758', '7883', '12012', '3030', '3230', '457', '4870', '1768', '4360', '2816', '977', '9574', '6396', '30660', '1013', '670', '541', '1990', '3290', '2019', '3165', '1767', '4000,92', '1820,94', '718', '7000,5', '660', '8342,38', '416', '2493', '529', '1808', '3205', '3104', '9500', '7142', '21900', '2345', '891', '9600', '11080', '1313', '6650', '4697', '3403', '9068', '3270,82', '2798', '6398', '1501', '1039', '2632', '1259', '5145', '10270', '6000,1', '0,95', '855', '2698', '1890', '8680', '4300', '1366,05', '443', '558', '15600', '1399,7', '4978', '48800', '9530', '4358', '540', '458', '905', '456', '3170', '868', '7243', '52182', '550', '1225', '4788', '10008', '3950', '1670', '3209', '730', '1098', '6625,16', '711', '3765', '5811', '2130', '712', '950', '1070', '956', '2231', '1455', '400', '2228', '9661,66', '3006', '6317', '26565', '2399', '3745', '4194,3', '899', '359', '2178', '1935', '4393', '1899,1', '12000', '1365', '13000', '1433', '1708', '8650', '6357', '4027', '1975', '2000,22', '9663', '7990', '1050,33', '12251', '280', '6945', '14990,94', '930,91', '516', '3311', '75570', '4768', '3463', '606,2', '3538', '710', '3411', '8082', '1071', '828', '1546', '839', '3214', '390', '2055', '6325', '292,2', '2290', '6326', '5387', '1987', '422,1', '6933', '2016', '49200', '8816', '6370', '4935', '250,6', '332', '3000,92', '989', '56638', '7547,8', '10795', '1737', '18152', '330', '2807', '9400', '5705', '934', '1199', '2238', '2289', '2555', '1969', '7776', '11020', '2689', '3679', '446,88', '290', '39600', '10100', '14000', '5038,1', '4239', '1063', '48052,1', '9898', '375,2', '613', '54929', '4060', '1161', '1417', '41000', '495', '9788', '5999,2', '1937', '10512', '1400', '4398', '3413', '778', '346', '4597', '2590', '1871,75', '14448', '1702', '642', '20595', '2745', '7395', '13613', '3520', '3902', '6820,45', '3114', '299', '544', '2200,05', '1710', '726', '150', '366', '2338', '1495', '1364', '5375', '1515,7', '612', '7495', '1082', '2198', '11990', '16070', '2763', '1281', '8274', '1889', '4348', '531', '1266', '3010', '5200', '3275', '1619,95', '637,4', '8800', '10723', '3039', '2569', '8320', '9040', '6748', '790', '999', '837,91', '4900', '15500', '1080', '2688', '3718,2', '1329', '3602', '3585', '1046', '2192', '1293', '4690', '2271', '1571', '2352', '2350', '14385', '1693', '958', '2356', '1989', '7880', '1705,5', '2323', '1106', '2125', '1045', '3739', '1830', '5050', '8650,48', '5700', '4315', '830', '1813', '1997', '8125', '9979', '2990', '2328', '1115', '1516', '606', '2775', '771', '4225,44', '736', '3198', '463,2', '485,2', '651', '3339', '5000', '2864', '1125', '2528', '4916', '387', '987', '1912', '11425,8', '524', '2506', '1924', '2213', '8099', '1081', '1384', '12500', '2110', '16481', '2920', '4510', '2167', '17930', '14440', '1111', '316', '10230', '2096', '2482,84', '9248', '1181', '6785', '8900', '7116', '677,5', '2805', '1411', '815', '1829,43', '620', '3703', '5001,9', '2444', '5361', '200', '600', '3711', '3970', '1389,8', '797', '1500,92', '1257', '1310', '2549', '5500', '15900', '2373', '33590', '694', '4948', '20550', '1875', '1000,67', '4053', '3482', '371', '217,5', '2084', '1386', '6000,81', '984', '551', '1253,7', '1751', '3609', '272', '2685', '3300', '1486', '4742', '11490', '25405', '353', '10500', '1629', '1747', '1752', '5177', '4353', '1970', '3100', '1920', '745', '3610', '4403', '9480', '2099', '15000,4', '1238', '2347', '3003,3', '3319,7', '1715', '2360', '686', '623', '2518', '6543', '304', '3599', '3392', '4363', '323', '4619', '1866', '1500,5', '1290,6', '880,2', '4647', '10205,5', '1695', '19430', '2570', '1955', '995', '3304', '3830', '1580', '38800', '2025', '1130', '1246', '3575', '586', '2095', '1395', '1799', '3055', '562', '4986,5', '800', '438', '2437,5', '6832', '1704', '22399', '334', '3080', '1549', '8117', '3943', '3140', '1686', '1778', '6550', '649', '1160', '26000', '5990', '10041', '8700', '8263', '1383', '522,4', '1005', '6646', '0', '2703', '5767', '9472', '1050,92', '500,39', '4800', '2700,75', '3385', '4000', '1099', '6975', '1800,1', '2000,6', '2598', '29500', '8751', '3910', '636', '3298,92', '1103', '10557', '404,1', '205', '358,1', '629', '1677', '4817', '764', '677', '4746', '4666', '2173', '13580', '7034', '369', '27350', '14500', '9190', '2420', '2014', '2487', '669,3', '12300', '11000', '2835', '2660', '5600', '3000,95', '19151', '7520', '2179', '344,8', '9664', '10502', '3236', '5192', '2708', '2340', '2265', '1188', '276', '10725', '634,2', '24500', '980', '3815', '336', '873', '12358', '2989', '1650', '4950', '1034', '13790', '5460', '10095', '2796', '1112', '9730', '10400', '2011', '933', '19990', '7110', '8540', '6513', '5240', '2740', '3235', '10980', '2605', '964', '1009', '46832', '436', '567', '18080', '2355', '1460', '1040', '2865', '11024', '1605', '2952', '1557', '9845', '2015', '7170', '618', '210', '2415', '800,82', '7550', '1493', '2433', '1016', '3105', '6730', '4995', '39804', '1470', '2454', '4268,72', '3318,4', '1915', '16750', '6365', '875', '2491', '1048', '759', '16250', '48156,13', '18375', '5532,66', '5814', '1200', '542,2', '1363', '1171', '7913', '4504', '28800', '1042', '365', '1700,95', '527', '3449', '11090', '197', '507', '2535', '460', '2466', '1581', '874', '2077', '4000,9', '10000', '1735', '1670,69', '53530', '6228', '6910', '6750', '998', '974', '2142', '18000', '3984', '3148', '53370', '349', '10090', '10267', '4045', '4155', '58800', '1327', '2136', '1394', '5540', '11320', '4640', '3442', '1444', '2760', '1622', '6800', '17110', '799,92', '3537', '2299,8', '1940', '1638', '3330', '11800', '3538,92', '3990', '2869,9', '1610,4', '1850', '1139', '429', '3333', '13772,82', '3440', '9838', '4700', '1888', '100', '1275', '51929', '1303', '3794', '8389', '40664', '668,71', '3119', '4450', '41774', '9270', '3359', '1107', '1399,3', '389', '3297', '370', '704', '345,3', '2500', '1567', '4498,91', '1510', '2614', '1302', '1351', '1000,92', '2140', '7995', '10200', '1922', '2810', '4091', '7586', '2180', '5985', '2930', '2278', '1834', '608', '1252', '553', '1876', '16350', '7250', '3180', '7623,3', '5660', '740', '7631', '524,85', '646,5', '7464', '2586', '22500', '3680', '7148,1', '1333', '7800', '5979', '6641', '5100', '8250', '1360', '589', '54230', '1299', '503', '21750', '1700,91', '8008', '26090', '11860', '9568', '3364', '2532', '776', '14100', '681', '9700', '2160', '40000', '580', '18735', '1540', '1948,92', '8040', '2500,95', '2413', '9784', '1525', '7238,86', '900', '4387', '2112', '3160', '952', '1175', '3095', '4686', '1094', '2186', '7630', '2910', '3930', '2599', '1760', '25131,59', '449', '4267', '10260', '3600', '60488', '1331', '2890', '4455', '3416', '9900', '2039', '3499', '1141', '9267', '49038', '18589', '5226,9', '7950', '4000,91', '3899', '2935', '10098', '1544', '3110', '749', '2668', '1350', '7669', '8180', '4145', '2240', '1370', '481,8', '754,2', '1458', '3186', '1146', '10695', '383,2', '3874', '10000,1', '260', '3720', '2770', '1309,65', '941', '838', '372', '2041', '5023', '7128', '14190', '1770', '1129', '499', '767', '46500', '1565', '1051', '3846', '2530', '29860', '917', '3822', '1152', '628', '1487', '1060', '1159', '1680,82', '2285', '3350', '1739,69', '1722', '1820', '638', '2901', '269,1', '444,1', '4750', '17610', '2643', '845,5', '3183', '3334', '5352', '3688', '24000', '2716', '927', '7660', '1204', '1410', '855,9', '694,2', '1108', '3763', '799', '1500,2', '2280', '301', '1620', '1260', '15701', '3433', '2861', '11230', '1481', '1431', '4086', '7567', '781', '5902', '1894', '7590', '1400,95', '4335', '832', '19950', '3774', '10000,92', '2440', '5850', '2201', '920', '510', '4318', '2667', '2616', '1563', '3597', '1288', '650,95', '5044', '26802', '3130', '1873', '3299', '2129', '2235', '3669,6', '8820', '4110', '1095', '6174', '870', '610', '2696', '2330', '5610', '6890', '677,3', '583', '5752', '554', '1226', '11762,27', '15000', '1087', '750', '5609', '439,95', '6495', '2098', '3885', '6900', '1898', '4680', '1994', '1514', '1649', '1689', '1996', '674', '5045', '30000', '7670', '299,92', '2260', '10434', '2115', '2567', '508', '1322,9', '12211', '633', '1220', '5844', '3426', '2199,95', '1230', '1872', '688', '1682', '1790', '2940', '1233,2', '1979', '1880', '3249', '19355', '2649', '3043', '4499', '2780', '450', '363', '2495', '283', '9300', '1398', '3064', '930', '352', '3280', '1488', '470', '3138', '7165', '3502', '1110', '567,3', '2200,91', '3590', '3685', '539', '2997', '1765', '9824', '2429', '49582', '2022', '1800,2', '1292', '1939', '11116', '7659,01', '11027', '3414', '7125', '5074', '1914', '3260', '2013', '468', '737', '17500', '2608', '682', '16400', '1491', '1884', '55000', '2370', '2970', '11233', '4898', '489', '1533', '2712', '5210', '6007', '30303', '5000,91', '1318', '1457', '2670', '13500', '9996', '970', '769', '1190', '4500', '1405', '4551', '835', '3245,95', '1207', '962', '1880,2', '4270', '5562', '2437', '793', '6948', '5812', '1535', '5022', '3568', '3215', '4523', '1059', '1596', '3374', '7350', '532', '3534', '1720', '4210', '7633', '1991', '1249,95', '6777', '7707', '3980', '315', '10140', '643', '1779', '2981', '3901', '592', '1291', '4350', '9444', '3650', '5140', '10729', '13140', '2029', '5445,92', '13670', '854', '1245', '1135', '3000,4', '16000,1', '3318', '50642', '1780', '60432', '138', '602', '4546,8', '381', '2247', '2080', '1680', '177', '1355', '2900', '4184', '1182', '326', '2923', '1072', '6075', '1982', '11200', '2500,2', '1153,5', '2584', '648', '639', '10007', '1708,5', '7207', '579', '840', '2040', '1278', '780,1', '5279', '2325', '9254', '1151', '1821', '1957', '7477', '299,1', '900,2', '890', '650', '2010', '10227,2', '2550', '38000', '2053', '2848', '780', '1119', '3100,1', '2870', '635', '2245', '34492', '2114', '1559', '2199', '1726', '3023', '2784', '1093', '9800', '1438', '1091', '5820', '11337', '2259', '1855', '1148', '3470', '7795', '4370', '1555', '2560', '2469', '2698,89', '4990', '1216', '724', '6320', '599', '713', '1442', '9490', '3657', '8300', '4260', '842', '11382', '1319', '667', '50120', '8100', '305,1', '4476', '433', '765', '1284', '2078', '700,83', '1588', '7298', '60360', '1674', '1877', '36330', '5383,85', '3698', '4100', '4480', '350', '12100', '9272', '1490', '8618', '45000', '1090', '375', '2825,5', '1520', '684', '1561', '571', '2800', '5504', '230', '5998', '652', '10177', '8710', '10397', '4040', '1371', '5999', '1829', '223', '7019', '3687,5', '3400', '2230', '256,2', '2155', '6670', '2020', '3550', '10650', '2206', '518', '2031', '2218', '4190', '0,92', '11560', '6196', '368', '2877', '818', '9391', '6700', '3328', '247,2', '1179', '1921', '10097', '6000', '424', '752', '2467', '672', '249', '2052', '5000,1', '18719', '1140', '1745', '511', '9639', '480', '1519', '1361', '2394', '729', '1900', '2540', '990', '7964', '700', '14753', '5095', '3596', '3899,95', '6789', '9411', '10497', '21696', '13360', '2263', '4186,59', '6782', '473', '4319', '159', '1999,8', '240,6', '230,3', '2239', '2958', '3100,3', '6480', '4989,92', '362', '75500', '888', '6290', '2885', '3639,5', '10637,7', '599,95', '5899', '342', '130', '3088', '1011', '10350', '239', '6575', '4395', '3511', '5305', '3469', '525', '14806', '11673', '2000,85', '14935', '341,1', '3265', '50', '921', '7764', '1222', '1869', '2375', '3092', '1568', '4806', '3810', '7507', '2007', '3294', '1992', '459', '1547', '690', '936', '3120', '1504', '14640', '513', '1499', '293', '1326', '868,42', '637,3', '2067', '4498', '140000', '965,92', '5248,91', '2600', '9790', '3516', '3752', '7816', '535', '1198', '33694', '3228', '3619', '1952', '19000', '4082', '564', '2998', '3621,7', '3240', '846', '1381', '653', '1512', '478', '18588', '225', '2572', '19521', '11600', '2880', '23700', '1271', '1261', '1463', '570', '1408', '3495', '1776', '2315', '6297', '1666', '4565', '1899,8', '1195', '2635', '2610', '1077', '557', '15680', '2593', '3172', '1202', '948', '910', '16000', '4014', '31000', '2510', '1824', '10240', '26550', '2387', '17000', '2210', '6599,8', '1786', '54470', '480,9', '1625,2', '1255,41', '2700', '2006', '1452', '2045'}\n",
      "\n",
      "\n",
      "==========\n",
      "LOAN_AVG_DLQ_AMT\n",
      "{'1147,5', '2580', '812,693333333333', '5430', '753', '1430', '2000', '177,34', '2419,9', '1601,63', '1296,4', '553', '3760', '6200', '3230', '3030', '1371,86', '3172,83', '1717,47333333333', '3180', '901,64', '1210', '386,666666666667', '2261,19', '740', '1264,23', '836,79', '1091,2', '4550', '1563,45', '5510', '2720', '1922,69', '2326,81', '2276,54666666667', '631', '777,84', '1088,48', '2450', '673,6825', '670', '7010', '3000', '2237,245', '1250', '1119,27', '1600', '1990', '3037,58', '1359,6', '1000', '1360', '433,306666666667', '1276,66666666667', '1792,71', '1059,47', '3870,25', '1321,68833333333', '1879,28', '660', '986,606666666667', '2160', '1052,63', '580', '1540', '1108,96333333333', '859,84', '1398,58', '1010', '2359,898', '4290', '900', '3160', '4070', '3777,93333333333', '863,68', '755,063333333333', '6080', '2490', '2470', '1094', '437,26', '1776,96666666667', '3127,19', '2910', '6650', '668,53', '1269,82', '1692,49', '1760', '1684,04', '1931,44', '1570', '3600', '1615', '1413,765', '588,9', '2890', '3510', '1344,33', '669,12', '1986,88', '677,474', '3060', '1088,05', '1478,49', '2139,63375', '1179,86', '1386,115', '855', '3659,0625', '879', '865,05', '1890', '2430', '2989,98', '821,45', '3940', '4300', '3110', '3322,7775', '758,95', '2676,2125', '1350', '1420', '3018,275', '1549,18', '3303,2', '918,255', '2782,89', '1033,905', '2816,25', '2409,01', '2240', '1370', '1899,7', '370,77', '63,31', '1152,15', '1939,61', '540', '1098,8', '446,31', '770', '14990', '3200', '1200,99', '5830', '2044,155', '3170', '702,565', '1196,43', '749,82', '550', '2770', '1003,255', '856,64', '1670', '2701,5', '913,4975', '1329,54', '2629,87', '1141,06', '730', '3390', '1770', '3762,5', '2380', '430', '1102,7', '2130', '7340', '3310', '946,49', '950', '2530', '1070', '1258,49', '3460', '1258,69', '62,46', '1304,0625', '820,124', '1060', '400', '3410', '1830,2', '567,51', '1639,99', '4055,03', '1140,2', '778,32', '269,51', '1841,9', '1820', '425,97', '1942,72', '957,46', '1113,74', '4050', '728,49', '1733,88', '2830', '1610', '1007,36', '1516,872', '929,51', '497,62', '2178', '3202,2', '1949,8', '2259,35', '1402,92', '776,59', '605,32', '3660', '3539,82', '1193,9675', '1840', '5076,65', '2315,64857142857', '1410', '1066,005', '1010,55', '846,74', '1139,49', '2957,71', '3237,94', '0,71', '673,89', '2258,3', '2030', '2280', '3840', '3890', '879,74', '651,625', '1620', '1626', '1538,69', '1260', '763,3', '761,866666666667', '1259,71333333333', '710', '872,065', '87,39', '2569,05', '849,91', '830,53', '2059,46', '1833,77', '5698,46', '1029,75', '917,57', '678,2', '3782,39', '6689,82', '1272,72', '3637,43', '2290', '1280', '380', '4760', '2440', '578,06', '2961', '1690', '1259,39', '948,58', '5850', '1288,898', '920', '510', '1817,76', '2269,565', '687,11', '1320', '984,79', '613,21', '457,71', '1740', '2170', '1550', '330', '2031,34333333333', '870', '3283,1', '720', '610', '2400', '2330', '1459,99', '1426,72', '560,86', '3959', '1290', '875,2', '1535,89', '5370', '750', '1002,60333333333', '451,495', '2070', '782,21', '3050', '647,42', '2097,97333333333', '1241,32428571429', '1950', '709,96', '3279,705', '1675,75', '115,65', '4680', '4390', '1230,63', '1030', '726,57', '1373,99333333333', '767,566', '630,49', '1450', '805,86', '2235,225', '224,59', '1296,74', '2779,4', '1085,5', '630', '13920', '367,35', '1400', '7670', '791,56', '2840', '845,55', '2260', '2590', '1636,04', '530', '1182,23', '1663,27', '727,63', '651,16', '3509,22', '966,07', '1220', '975', '2119,77', '1489,13', '3520', '860', '2186,585', '1230', '680', '2293,65', '3651,445', '1710', '1790', '1369,755', '2940', '1749,69', '1170', '1880', '1608,255', '2050', '549,88', '1597,92', '763,185', '1930,595', '740,575', '882,01', '3360', '991,19', '1649,37', '619,4', '450', '2150', '2640', '1120,93', '2202,69', '559,94', '4158,85', '1894,04', '930', '1149,395', '1959,99', '1845,5', '1870', '2858,6', '1110', '2794,22333333333', '2554,005', '3010', '3590', '433,3425', '2960', '3620', '758,82', '760', '796,59', '1070,05', '4729,07', '2699,88', '509,52', '2250', '1171,686', '1492,404', '1740,19', '2163,94', '1829,73', '1095,89', '5160', '5560', '892,95', '2120', '5650', '1683,49', '790', '3500', '1700', '1590', '1259,1', '1080', '3260', '324,16', '1930', '300', '2066,905', '1120', '682', '3490', '3020', '767,7', '1305,97', '1313,33333333333', '4690', '0,04', '2370', '2970', '28012,2', '4884,95', '620,75', '779,415', '533', '1208,09', '1793,66', '2100', '2350', '2368,84', '1215', '918,55', '2790', '1070,52', '1275,785', '4020', '2185', '4920', '802,36', '724,38', '1439,9', '2670', '2503,19', '1093,75', '970', '1751,37', '1190', '940', '1480', '894,29', '1830', '136,76', '2925', '4200', '1095,61', '8020', '5526,72666666667', '1508,79', '1539,13', '1730', '3768,7', '1875,70333333333', '2959', '830', '1789,04', '4376,4', '4770', '2425', '4472,91333333333', '2151,50333333333', '2990', '2157,32', '1860', '981,71', '7100', '1552,325', '670,085', '2263,2', '2365,47', '3860,18', '2464,55', '2739,76', '2710', '1720', '2520', '4210', '2060', '6260', '1176,82', '2349,51', '6133,41', '2518,18', '4115,33333333333', '4120', '2497,09', '438,19', '4650', '4350', '821,93', '849,19', '1697,22', '2850', '2980', '5140', '2524,28', '1878,86', '830,7', '4710', '1731,06', '812,11', '1957,21', '5170', '951', '2110', '2538', '2920', '1135', '7780', '1175,57', '1127,76', '1953,6', '1240', '2701,26', '3670', '3102,49333333333', '216,59', '1113,335', '6390', '2979,31', '5550', '1010,27', '860,505', '1780', '2510,2', '3769,3625', '2080', '1680', '3914,24', '1781,225', '4620', '2900', '827,57', '4030', '1007,8', '887,79', '620', '2269,735', '310,126', '850', '1555,00090909091', '1640', '1150', '1004,225', '1539,2', '3702,8', '490', '1100', '2732,2', '683,9975', '4400', '1319,56', '600', '2013,19', '3970', '598,5', '840', '2040', '3750', '1310', '5500', '824,581428571429', '892,18', '478,13', '1288,7', '3150', '1851,55', '820', '1591,94', '1399,25', '526,563333333333', '1266,34', '3201,95', '4630', '909,424285714286', '1155,02142857143', '1069,6', '4810', '1530', '3315', '908,78', '5410', '1270', '890', '1589,92333333333', '650', '2010', '970,155', '1778,635', '1892,238', '3570', '134,78', '2083', '500', '896,31', '2550', '5428,62', '619,73', '2462,1', '791,98', '1867,66166666667', '1599,9', '1411,31', '780', '965,1', '2101,256', '2273,72', '1582,435', '2009', '2870', '1050', '818,74', '4164,34', '957,59', '2707,25', '1410,53333333333', '3300', '2361,22', '2750', '5040', '776,3', '2547,85', '1108,574', '3780', '3086,66666666667', '599,19', '756,1', '1626,75', '1970', '2270', '674,263333333333', '3100', '1920', '3106,29', '682,56', '2200', '979,63', '3610', '980,42', '535,53', '862,43', '3470', '3691,2675', '4370', '1500', '11310', '2560', '1145,85', '9060', '2441,465', '1831,51333333333', '5110', '2742,25', '4530', '2360', '1283,89', '1980', '798,53', '5075,99', '1459,54666666667', '1077,03', '1288,63', '270', '766,26', '2190', '665,57', '6490', '990,85', '911,793333333333', '1325,63', '1390', '1033', '4260', '510,136666666667', '3190', '5545,0225', '702,23', '673,02', '855,675', '1324,41285714286', '499,69', '1300', '1352,85714285714', '1411,835', '880,2', '1335,47', '1090,8', '2568,45', '684,89', '2158,72', '588,13', '2570', '610,986666666667', '5760', '1433,4', '1580', '2916,18', '1671,7', '2340,06777777778', '543,33', '2154,02', '2429,09', '663,05', '3530', '1490', '1130', '1427,295', '4140', '2910,25', '836,6', '2142,2', '1090', '1520', '752,923076923077', '2509,38', '2379,46', '1053', '800', '2800', '1593,76', '2573,8', '1116,49', '51,8', '5872,64', '3080', '840,7', '3850', '3140', '2860', '1160', '1468,38', '5870', '1724,15333333333', '1309,89', '1883,04', '2201,11', '3400', '0', '2230', '543,17', '1002,22', '1560', '1386,96', '1810', '816,83', '3964,85', '569,121428571429', '2020', '552,57', '1020', '4000', '1412,55', '976,68', '310', '722,59', '2094,3', '2051,5', '1677,48', '4001,34', '3910', '604,43', '4827,666', '600,93', '440', '2112,17', '1529,06', '4250', '2088,86', '4190', '2232,28333333333', '3420', '3880', '1149,495', '2386,505', '2476,77', '3589,09', '2656,68', '862,5', '2372,77', '2239,37', '1844,885', '3428,56', '1283,93', '1848,05', '3250', '554,36', '1498,26', '2796,66', '4600', '648,68', '857,956666666667', '1798,49', '4310', '2441,4', '6500', '407,8', '1750', '5603,82', '1634,81', '2287,02', '1140', '1299,55', '574,21', '480', '1259,43', '1154,34', '957,4', '4660', '966,953333333333', '1716,52', '1900', '2540', '988,85', '1429,99', '2660', '769,43', '990', '1317,06', '700', '3072,475', '2650', '1706,3', '904,08', '1155,125', '1221,92', '1761,03', '59,68', '1286,73', '896,1', '1666,28', '1066,605', '6130', '1713,74', '2340', '367', '762,93', '2265', '1477,37', '1686,92', '6310', '980', '959,955', '1920,9575', '1097,86', '4240', '1215,45777777778', '516,18', '1650', '768,97', '1966,99', '198,88', '532,24', '3971,6', '1810,155', '2128,74', '1134,58', '1391,47', '1292,59', '1409,965', '2740', '1260,55', '642,31', '782,705', '1388,83769230769', '1068,47', '2002,45', '1348,68', '4445,6', '596,29', '1439,815', '1614,36', '1460', '1439,94', '1040', '613,12', '2755,21', '2585', '859,92', '339,83', '2005,15', '2310', '3540', '2480', '327,98', '2466,8625', '1380', '825,10875', '1768,07', '2090,53', '2343,41', '2820', '360', '5397,15', '578,3', '1440', '1418,86', '3209,5', '567,16', '804,32', '1910', '1594,914', '582,386666666667', '1138,2', '3810', '1509,44', '2630', '2320', '2070,52', '1670,18', '444', '5269,78', '1405,53', '1496,3275', '18307,16', '2018,255', '1109,855', '1205,4725', '1470', '3506,07', '837,48', '558,06625', '3501,45', '1077,605', '49,35', '1880,59', '1314,58666666667', '1258,95', '1065,62', '3900', '690', '3120', '517,51', '2220', '1679,2', '2467,33', '1010,43', '605,496', '38,32', '1006,59', '3509,805', '1247,92', '604,353333333333', '366,58', '1200', '2090', '1745,7', '1312,44', '769,915', '2272,5', '3960', '3630', '960', '2184,66', '6041,86', '94,89', '2680', '1374,28', '1179,394', '1387,15', '1040,78666666667', '2600', '750,175', '2702,4', '989,15', '3480', '823,54', '1144,03', '3820', '3716,35', '1107,5', '989,39', '2598,9', '2406,8', '5030', '2647,9', '714', '4320', '4940', '14870', '2300', '472,11', '110,91', '954,65', '3089,155', '315,796666666667', '2084,32', '2751,25', '4508,2', '3024', '1197,38333333333', '1093,22', '3240', '5394,29', '2247,51', '2690,33333333333', '2105', '772,73', '2262,12', '1180', '1512', '1932,5', '1804,9', '3040', '658,42', '3635,77', '3770', '2390', '810', '4640', '5780', '1330', '2240,34', '1570,46', '2549,52', '2880', '2760', '869,26', '957,63', '603,55', '240', '1072,34', '570', '355,04', '3626,91', '1940', '4160', '1630', '3330', '568,7', '875,09', '455,32', '4565', '3119,99', '3990', '699,78', '1314,11', '1300,386', '429,11', '1850', '849,085', '1581,82', '1258,585', '1800', '2477,64', '5320', '809,42', '1605,95', '1889,43', '1222,06', '3440', '502,1', '560,36', '1909,16', '3433,42', '2610', '1985,3', '1424,9175', '4700', '6660', '2492,54', '1340', '2370,01', '100', '1144,98', '846,55', '481,506', '1441,57', '9280', '1056,95', '2410', '2082,47857142857', '910', '518,9', '1639,24571428571', '735', '4450', '5048,19', '3070', '2590,15', '880', '2510', '2127,1', '704,93', '1237,24', '6070', '289,02', '2210', '370', '2500', '1160,96', '586,646666666667', '640', '1742,41', '1510', '1402,43', '806,19', '4220', '1960', '1015', '1199,27', '656,705', '2140', '2950', '2810', '2679,82', '2180', '2700', '789,23', '1164,99666666667', '560', '2930'}\n",
      "\n",
      "\n",
      "==========\n",
      "LOAN_MAX_DLQ_AMT\n",
      "{'2580', '5430', '1430', '2000', '177,34', '4880', '2419,9', '1601,63', '1296,4', '553', '3760', '6200', '3230', '3030', '1371,86', '3172,83', '1387,3', '3180', '901,64', '1210', '2261,19', '740', '836,79', '4550', '1563,45', '1837,31', '2720', '2620', '631', '777,84', '2450', '7010', '670', '3000', '1119,27', '1250', '1930,47', '1600', '1990', '1359,6', '1000', '1360', '2642,83', '1792,71', '1059,47', '3870,25', '18310', '660', '1052,63', '2160', '580', '1540', '1398,58', '1010', '2220,72', '1300,16', '4290', '900', '3160', '4070', '863,68', '6080', '2490', '5340', '2470', '1094', '437,26', '3127,19', '2910', '6650', '668,53', '1692,49', '1760', '1931,44', '1570', '3600', '1615', '2890', '3510', '1344,33', '669,12', '1986,88', '797,16', '3060', '1088,05', '1012,9', '1478,49', '1179,86', '1427,4', '879', '2989,98', '1890', '2430', '3940', '4300', '3110', '2058,71', '758,95', '1350', '3303,2', '1420', '1056,64', '1549,18', '2816,25', '2409,01', '2240', '1370', '370,77', '63,31', '1939,61', '2064,03', '540', '1098,8', '3111,86', '770', '446,31', '14990', '3200', '1450,22', '1200,99', '5830', '3170', '749,82', '1196,43', '550', '2770', '660,86', '856,64', '1670', '490,88', '2629,87', '1141,06', '730', '604,76', '1770', '3762,5', '2380', '430', '1102,7', '2130', '7340', '3310', '946,49', '950', '2530', '1070', '1258,49', '3460', '62,46', '1060', '400', '3410', '567,51', '1639,99', '4055,03', '1140,2', '2782,93', '269,51', '778,32', '790,77', '1820', '1841,9', '1942,72', '4050', '1113,74', '4830', '728,49', '1733,88', '2830', '1610', '497,62', '2178', '3202,2', '1949,8', '2289,89', '2064,08', '776,59', '1365', '605,32', '3660', '3539,82', '1840', '5076,65', '489,13', '1410', '1010,55', '846,74', '1139,49', '2957,71', '3237,94', '0,71', '673,89', '2258,3', '2030', '2280', '2902,89', '3840', '3450', '3890', '879,74', '1620', '4960', '1819,09', '1260', '1538,69', '710', '87,39', '2569,05', '849,91', '830,53', '2059,46', '1833,77', '5698,46', '1029,75', '917,57', '678,2', '3782,39', '6689,82', '1272,72', '3637,43', '2290', '1280', '4760', '2440', '578,06', '1690', '1259,39', '5580', '910,63', '948,58', '5850', '920', '510', '1817,76', '919,88', '687,11', '1320', '613,21', '457,71', '3357,52', '1740', '2170', '1550', '330', '3780,1', '870', '3283,1', '720', '610', '2400', '2330', '1459,99', '1426,72', '3959', '1290', '875,2', '1110,39', '5370', '3560', '750', '1387,47', '2070', '3050', '647,42', '1950', '115,65', '4680', '3285,74', '4390', '1230,63', '1030', '726,57', '630,49', '1450', '961,94', '224,59', '1296,74', '367,35', '2779,4', '1085,5', '630', '13920', '1400', '7670', '791,56', '2840', '2260', '605,59', '2590', '1636,04', '530', '1663,27', '651,16', '966,07', '3509,22', '1220', '975', '2119,77', '1489,13', '3520', '860', '918,83', '1230', '680', '2293,65', '1710', '1790', '2940', '1749,69', '1170', '1880', '2050', '549,88', '1597,92', '3360', '991,19', '1649,37', '450', '2150', '2640', '1120,93', '2202,69', '559,94', '4158,85', '1894,04', '930', '470', '1959,99', '1845,5', '1870', '2858,6', '1110', '3010', '3590', '2960', '3620', '4729,07', '760', '796,59', '1070,05', '2699,88', '2250', '1740,19', '2163,94', '1095,89', '5160', '5560', '892,95', '2589,2', '2120', '5650', '1683,49', '790', '3500', '473,16', '1700', '1590', '1259,1', '1080', '3260', '324,16', '1930', '937,79', '300', '1120', '682', '3490', '3020', '767,7', '4690', '0,04', '2370', '2970', '28012,2', '4884,95', '620,75', '1208,09', '533', '943,56', '2100', '2350', '2368,84', '918,55', '1793,66', '2790', '2281,1', '755,76', '1070,52', '4020', '724,38', '4920', '802,36', '840,4', '1439,9', '2670', '2503,19', '1672,88', '1093,75', '970', '1751,37', '1190', '940', '1480', '4446,3', '894,29', '1830', '136,76', '586,5', '2102,75', '4200', '1095,61', '8020', '1508,79', '1729,66', '1539,13', '1730', '3768,7', '2959', '830', '1789,04', '2425', '4770', '2990', '981,71', '2157,32', '1860', '7100', '2497', '2263,2', '2365,47', '3860,18', '2739,76', '1395,7', '2710', '1720', '2520', '4210', '2060', '6260', '1176,82', '2349,51', '6133,41', '2518,18', '4120', '2497,09', '438,19', '4650', '4350', '821,93', '849,19', '1479,51', '1697,22', '2850', '2980', '5140', '2524,28', '830,7', '4710', '1731,06', '812,11', '1957,21', '5170', '2110', '2398,8', '2920', '1175,57', '1127,76', '1953,6', '1240', '2701,26', '3670', '216,59', '6390', '5550', '1010,27', '1780', '2510,2', '2550', '590', '2080', '1680', '3914,24', '2900', '4620', '827,57', '4030', '1007,8', '887,79', '620', '1539,2', '850', '1640', '1150', '3018,62', '3702,8', '490', '1100', '2732,2', '2979,35', '4400', '1319,56', '826,77', '600', '2013,19', '3970', '598,5', '840', '2040', '3750', '1310', '5500', '892,18', '478,13', '4490', '1288,7', '3150', '1851,55', '820', '1591,94', '1266,34', '3201,95', '1530', '908,78', '5410', '1270', '890', '650', '2010', '3570', '2083', '134,78', '500', '3390', '896,31', '5428,62', '619,73', '2462,1', '791,98', '1828,89', '1090,01', '1411,31', '780', '1599,9', '965,1', '1370,25', '2009', '2870', '1050', '818,74', '4164,34', '957,59', '2707,25', '3300', '724,93', '2361,22', '5980,18', '2750', '5040', '776,3', '2547,85', '3780', '856,3', '599,19', '756,1', '1626,75', '1970', '2270', '3100', '1920', '3106,29', '2200', '979,63', '3610', '980,42', '2858,62', '535,53', '862,43', '3470', '1489,45', '3089,5', '4370', '1500', '11310', '2560', '1145,85', '9060', '1650,53', '5110', '1324,5', '2742,25', '4530', '2360', '1980', '798,53', '5075,99', '1077,03', '1288,63', '270', '766,26', '954,34', '2190', '665,57', '6490', '990,85', '1325,63', '1390', '1033', '4260', '3190', '702,23', '673,02', '499,69', '1300', '880,2', '1335,47', '1090,8', '2568,45', '684,89', '2158,72', '588,13', '2570', '5760', '1433,4', '1580', '2916,18', '1671,7', '2154,02', '543,33', '2429,09', '663,05', '3530', '1490', '1130', '1185,5', '4140', '1351,06', '836,6', '2142,2', '1090', '1520', '2509,38', '2379,46', '1053', '800', '2800', '1593,76', '2573,8', '1116,49', '51,8', '5872,64', '3080', '3850', '3140', '918,28', '2860', '1160', '1468,38', '1840,14', '5870', '1309,89', '2969,75', '1883,04', '2201,11', '3400', '0', '2230', '1783,55', '543,17', '1560', '1002,22', '1810', '816,83', '3964,85', '2020', '783', '1020', '4000', '552,57', '976,68', '310', '722,59', '2094,3', '2051,5', '1677,48', '4001,34', '2375,59', '3910', '7890', '331', '600,93', '604,43', '440', '2112,17', '1529,06', '4250', '2088,86', '1519,64', '4190', '3420', '3880', '1105,07', '3220', '1249,61', '2044,32', '3589,09', '1302,38', '2656,68', '862,5', '2372,77', '2239,37', '3428,56', '1283,93', '1848,05', '3250', '554,36', '1498,26', '2796,66', '4600', '648,68', '1798,49', '4310', '2441,4', '6500', '407,8', '1750', '581,67', '1046,01', '5603,82', '2287,02', '828,51', '1386,14', '1140', '1299,55', '3700', '480', '1259,43', '1154,34', '574,21', '4660', '957,4', '1716,52', '1900', '2540', '988,85', '1429,99', '2660', '769,43', '990', '1317,06', '700', '2650', '997,66', '1706,3', '904,08', '1221,92', '1761,03', '59,68', '1901,3', '896,1', '1666,28', '6130', '2340', '367', '762,93', '2265', '1477,37', '937,6', '6310', '980', '1097,86', '4240', '516,18', '1650', '768,97', '1860,72', '1966,99', '3971,6', '1134,58', '1391,47', '1292,59', '2740', '1260,55', '642,31', '1068,47', '2002,45', '1348,68', '596,29', '1614,36', '1460', '1439,94', '1040', '2755,21', '859,92', '339,83', '2005,15', '2310', '3540', '2480', '327,98', '1380', '1768,07', '2090,53', '2343,41', '2820', '360', '5397,15', '776,6', '1440', '578,3', '1418,86', '567,16', '804,32', '1910', '3810', '1138,2', '1509,44', '2630', '2320', '1670,18', '444', '1686,92', '5269,78', '1405,53', '366,58', '1470', '3506,07', '837,48', '1880,59', '3501,45', '49,35', '481,51', '1154,9', '1065,62', '3900', '690', '3120', '517,51', '2220', '1679,2', '2467,33', '38,32', '849,07', '1006,59', '1247,92', '2618,78', '1200', '2090', '1745,7', '1312,44', '3960', '3630', '960', '2184,66', '6041,86', '94,89', '2680', '1374,28', '1387,15', '989,15', '2600', '2702,4', '3480', '823,54', '1144,03', '3820', '3716,35', '989,39', '2598,9', '2406,8', '5030', '2647,9', '714', '4320', '4940', '14870', '2300', '472,11', '110,91', '954,65', '2084,32', '2751,25', '4508,2', '736,3', '1093,22', '3240', '5394,29', '2247,51', '3040', '2262,12', '772,73', '1804,9', '1180', '658,42', '3635,77', '3770', '2390', '810', '589,45', '4640', '5780', '1330', '2880', '2549,52', '2760', '883,33', '869,26', '609,52', '957,63', '603,55', '1819,26', '240', '570', '355,04', '3626,91', '1940', '4160', '1630', '3330', '568,7', '875,09', '4565', '3990', '699,78', '1581,82', '429,11', '1850', '1408,32', '1800', '2477,64', '5320', '809,42', '1889,43', '1222,06', '3440', '502,1', '560,36', '1909,16', '3433,42', '2610', '1985,3', '4700', '6660', '1144,98', '2492,54', '1340', '100', '846,55', '1069,6', '1056,95', '9280', '2410', '910', '518,9', '5470', '4450', '5048,19', '3070', '2590,15', '880', '2510', '2127,1', '1870,69', '704,93', '6070', '3920', '289,02', '2210', '370', '2500', '1160,96', '620,18', '1086,57', '1066', '640', '1742,41', '1510', '1402,43', '806,19', '4220', '1960', '1015', '572,22', '1199,27', '2140', '2950', '2810', '2679,82', '2180', '2700', '789,23', '1452', '560', '2930'}\n",
      "\n",
      "\n",
      "==========\n",
      "sample\n",
      "{'train'}\n",
      "\n",
      "\n"
     ]
    }
   ],
   "source": [
    "for i in df_train.columns: # перебираем все столбцы\n",
    "    if str(df_train[i].dtype) == 'object': # если тип столбца - object\n",
    "        print('='*10)\n",
    "        print(i) # выводим название столбца\n",
    "        print(set(df_train[i])) # выводим все его значения (но делаем set - чтоб значения не повторялись)\n",
    "        print('\\n') # выводим пустую строку"
   ]
  },
  {
   "cell_type": "markdown",
   "metadata": {
    "collapsed": true
   },
   "source": [
    "Mожно заметить что некоторые переменные, которые обозначены как строки (например PERSONAL_INCOME) на самом деле числа, но по какой-то причине были распознаны как строки\n",
    "\n",
    "Причина же что использовалась запятая для разделения не целой части числа.."
   ]
  },
  {
   "cell_type": "markdown",
   "metadata": {},
   "source": [
    "Перекодировать их можно например так:"
   ]
  },
  {
   "cell_type": "code",
   "execution_count": 871,
   "metadata": {},
   "outputs": [
    {
     "data": {
      "text/plain": [
       "0         7000.0\n",
       "1         4100.0\n",
       "2        40000.0\n",
       "3        20000.0\n",
       "4        17000.0\n",
       "5         7000.0\n",
       "6        10000.0\n",
       "7         7500.0\n",
       "8         9000.0\n",
       "9         4000.0\n",
       "10       15000.0\n",
       "11       12000.0\n",
       "12        8000.0\n",
       "13       20000.0\n",
       "14       18500.0\n",
       "15       14000.0\n",
       "16        6000.0\n",
       "17        9000.0\n",
       "18        5000.0\n",
       "19       15000.0\n",
       "20        6100.0\n",
       "21       22180.0\n",
       "22        9000.0\n",
       "23        8700.0\n",
       "24        7000.0\n",
       "25        6000.0\n",
       "26       15000.0\n",
       "27       12000.0\n",
       "28       11000.0\n",
       "29        8000.0\n",
       "          ...   \n",
       "30103    12000.0\n",
       "30104    10000.0\n",
       "30105    10000.0\n",
       "30106     8000.0\n",
       "30107    11000.0\n",
       "30108     7000.0\n",
       "30109    10000.0\n",
       "30110     8000.0\n",
       "30111    25000.0\n",
       "30112    10000.0\n",
       "30113    12000.0\n",
       "30114     7000.0\n",
       "30115    12000.0\n",
       "30116    14500.0\n",
       "30117    12000.0\n",
       "30118     8000.0\n",
       "30119     7000.0\n",
       "30120    10000.0\n",
       "30121    10000.0\n",
       "30122    10000.0\n",
       "30123    15000.0\n",
       "30124     8100.0\n",
       "30125     9500.0\n",
       "30126    13000.0\n",
       "30127    10000.0\n",
       "30128    12000.0\n",
       "30129    10000.0\n",
       "30130     6000.0\n",
       "30131     4500.0\n",
       "30132    20000.0\n",
       "Name: PERSONAL_INCOME, Length: 30133, dtype: float64"
      ]
     },
     "execution_count": 871,
     "metadata": {},
     "output_type": "execute_result"
    }
   ],
   "source": [
    "df['PERSONAL_INCOME'].map(lambda x: x.replace(',', '.')).astype('float')"
   ]
  },
  {
   "cell_type": "markdown",
   "metadata": {},
   "source": [
    "Такой эффект наблюдается в столбцах `PERSONAL_INCOME`, `CREDIT`, `FST_PAYMENT`, `LOAN_AVG_DLQ_AMT`, `LOAN_MAX_DLQ_AMT`"
   ]
  },
  {
   "cell_type": "markdown",
   "metadata": {},
   "source": [
    "### Теперь ваше небольшое исследование"
   ]
  },
  {
   "cell_type": "markdown",
   "metadata": {
    "collapsed": true
   },
   "source": [
    "#### Задание 1. Есть ли пропуски в данных? Что с ними сделать?\n",
    "\n",
    "(единственного верного ответа нет - аргументируйте)"
   ]
  },
  {
   "cell_type": "markdown",
   "metadata": {},
   "source": [
    "* Всего 2 строки с ПУСТЫМ значением поля \"<span style=\"color:blue\">REGION_NM</span>\", т.е. менее 0,01% <span style=\"color:red\">=></span> удалим эти СТРОКИ, это не должно повлиять на результат\n",
    "* Всего 600 строк с ЗАПОЛНЕННЫМ полем \"<span style=\"color:blue\">PREVIOUS_CARD_NUM_UTILIZED</span>\", т.е. заполнено менее 2% объёма данных <span style=\"color:red\">=></span>  удалим этот СТОЛБЕЦ, этой информации недостаточно, чтобы модель смогла уловить влияние предиктора на результат\n",
    "* Пропущенные значения в полях '<span style=\"color:blue\">WORK_TIME</span>', '<span style=\"color:blue\">GEN_INDUSTRY</span>', '<span style=\"color:blue\">GEN_TITLE</span>', '<span style=\"color:blue\">ORG_TP_STATE</span>', '<span style=\"color:blue\">ORG_TP_FCAPITAL</span>', '<span style=\"color:blue\">JOB_DIR</span>' встречаются вместе (см. две сводные таблицы ниже) + в этих случаях в основном отcутствует номер рабочего телефона '<span style=\"color:blue\">GEN_PHONE_FL</span>' (см. диаграмму ниже) + средний персональный доход клиентов '<span style=\"color:blue\">PERSONAL_INCOME</span>' существенно больше максимального пособия по безработице (см. ниже)  <span style=\"color:red\">=></span> вероятно клиент не работает, и его доход складывается из других источников; закодируем пропуски значений новой категорией '-1'\n",
    "* Пропуски в столбце '<span style=\"color:blue\">TP_PROVINCE</span>' составляют менее 2% данных <span style=\"color:red\">=></span>  закодируем пропуски значений новой категорией '-1'"
   ]
  },
  {
   "cell_type": "code",
   "execution_count": 872,
   "metadata": {},
   "outputs": [
    {
     "data": {
      "text/html": [
       "<div>\n",
       "<style scoped>\n",
       "    .dataframe tbody tr th:only-of-type {\n",
       "        vertical-align: middle;\n",
       "    }\n",
       "\n",
       "    .dataframe tbody tr th {\n",
       "        vertical-align: top;\n",
       "    }\n",
       "\n",
       "    .dataframe thead tr th {\n",
       "        text-align: left;\n",
       "    }\n",
       "\n",
       "    .dataframe thead tr:last-of-type th {\n",
       "        text-align: right;\n",
       "    }\n",
       "</style>\n",
       "<table border=\"1\" class=\"dataframe\">\n",
       "  <thead>\n",
       "    <tr>\n",
       "      <th></th>\n",
       "      <th></th>\n",
       "      <th></th>\n",
       "      <th></th>\n",
       "      <th colspan=\"2\" halign=\"left\">TP_PROVINCE</th>\n",
       "    </tr>\n",
       "    <tr>\n",
       "      <th></th>\n",
       "      <th></th>\n",
       "      <th></th>\n",
       "      <th>JOB_DIR</th>\n",
       "      <th>-1</th>\n",
       "      <th>Участие в основ. деятельности</th>\n",
       "    </tr>\n",
       "    <tr>\n",
       "      <th>GEN_INDUSTRY</th>\n",
       "      <th>GEN_TITLE</th>\n",
       "      <th>ORG_TP_STATE</th>\n",
       "      <th>ORG_TP_FCAPITAL</th>\n",
       "      <th></th>\n",
       "      <th></th>\n",
       "    </tr>\n",
       "  </thead>\n",
       "  <tbody>\n",
       "    <tr>\n",
       "      <th rowspan=\"2\" valign=\"top\">-1</th>\n",
       "      <th rowspan=\"2\" valign=\"top\">-1</th>\n",
       "      <th rowspan=\"2\" valign=\"top\">-1</th>\n",
       "      <th>-1</th>\n",
       "      <td>2707.0</td>\n",
       "      <td>NaN</td>\n",
       "    </tr>\n",
       "    <tr>\n",
       "      <th>Без участия</th>\n",
       "      <td>6.0</td>\n",
       "      <td>NaN</td>\n",
       "    </tr>\n",
       "    <tr>\n",
       "      <th>Коммунальное хоз-во/Дорожные службы</th>\n",
       "      <th>Специалист</th>\n",
       "      <th>Государственная комп./учреж.</th>\n",
       "      <th>Без участия</th>\n",
       "      <td>NaN</td>\n",
       "      <td>1.0</td>\n",
       "    </tr>\n",
       "    <tr>\n",
       "      <th>Наука</th>\n",
       "      <th>Специалист</th>\n",
       "      <th>Государственная комп./учреж.</th>\n",
       "      <th>Без участия</th>\n",
       "      <td>NaN</td>\n",
       "      <td>1.0</td>\n",
       "    </tr>\n",
       "    <tr>\n",
       "      <th>Строительство</th>\n",
       "      <th>Специалист</th>\n",
       "      <th>Государственная комп./учреж.</th>\n",
       "      <th>-1</th>\n",
       "      <td>NaN</td>\n",
       "      <td>1.0</td>\n",
       "    </tr>\n",
       "    <tr>\n",
       "      <th>Торговля</th>\n",
       "      <th>Специалист</th>\n",
       "      <th>Частная компания</th>\n",
       "      <th>Без участия</th>\n",
       "      <td>NaN</td>\n",
       "      <td>1.0</td>\n",
       "    </tr>\n",
       "  </tbody>\n",
       "</table>\n",
       "</div>"
      ],
      "text/plain": [
       "                                                                                            TP_PROVINCE  \\\n",
       "JOB_DIR                                                                                              -1   \n",
       "GEN_INDUSTRY                        GEN_TITLE  ORG_TP_STATE                 ORG_TP_FCAPITAL               \n",
       "-1                                  -1         -1                           -1                   2707.0   \n",
       "                                                                            Без участия             6.0   \n",
       "Коммунальное хоз-во/Дорожные службы Специалист Государственная комп./учреж. Без участия             NaN   \n",
       "Наука                               Специалист Государственная комп./учреж. Без участия             NaN   \n",
       "Строительство                       Специалист Государственная комп./учреж. -1                      NaN   \n",
       "Торговля                            Специалист Частная компания             Без участия             NaN   \n",
       "\n",
       "                                                                                                                           \n",
       "JOB_DIR                                                                                     Участие в основ. деятельности  \n",
       "GEN_INDUSTRY                        GEN_TITLE  ORG_TP_STATE                 ORG_TP_FCAPITAL                                \n",
       "-1                                  -1         -1                           -1                                        NaN  \n",
       "                                                                            Без участия                               NaN  \n",
       "Коммунальное хоз-во/Дорожные службы Специалист Государственная комп./учреж. Без участия                               1.0  \n",
       "Наука                               Специалист Государственная комп./учреж. Без участия                               1.0  \n",
       "Строительство                       Специалист Государственная комп./учреж. -1                                        1.0  \n",
       "Торговля                            Специалист Частная компания             Без участия                               1.0  "
      ]
     },
     "execution_count": 872,
     "metadata": {},
     "output_type": "execute_result"
    }
   ],
   "source": [
    "# Анализ совместной встречаемости пропусков в столбцах 'GEN_INDUSTRY','GEN_TITLE','ORG_TP_STATE','ORG_TP_FCAPITAL',\n",
    "# 'JOB_DIR', 'WORK_TIME'\n",
    "df2 = df[df['WORK_TIME'].isna()][['GEN_INDUSTRY','GEN_TITLE','ORG_TP_STATE','ORG_TP_FCAPITAL','JOB_DIR','TP_PROVINCE']] \n",
    "\n",
    "values = {'GEN_INDUSTRY': '-1', 'GEN_TITLE': '-1', 'ORG_TP_STATE': '-1', 'ORG_TP_FCAPITAL': '-1', 'JOB_DIR': '-1', \\\n",
    "          'TP_PROVINCE': '-1'} \n",
    "\n",
    "df2 = df2.fillna(value=values)\n",
    "\n",
    "df2_2 = df2[['GEN_INDUSTRY','GEN_TITLE','ORG_TP_STATE','ORG_TP_FCAPITAL','JOB_DIR', 'TP_PROVINCE']].pivot_table(index = \\\n",
    "['GEN_INDUSTRY','GEN_TITLE','ORG_TP_STATE','ORG_TP_FCAPITAL'], columns = 'JOB_DIR', aggfunc = np.count_nonzero)\n",
    "\n",
    "df2_2"
   ]
  },
  {
   "cell_type": "code",
   "execution_count": 873,
   "metadata": {},
   "outputs": [
    {
     "data": {
      "text/html": [
       "<div>\n",
       "<style scoped>\n",
       "    .dataframe tbody tr th:only-of-type {\n",
       "        vertical-align: middle;\n",
       "    }\n",
       "\n",
       "    .dataframe tbody tr th {\n",
       "        vertical-align: top;\n",
       "    }\n",
       "\n",
       "    .dataframe thead tr th {\n",
       "        text-align: left;\n",
       "    }\n",
       "\n",
       "    .dataframe thead tr:last-of-type th {\n",
       "        text-align: right;\n",
       "    }\n",
       "</style>\n",
       "<table border=\"1\" class=\"dataframe\">\n",
       "  <thead>\n",
       "    <tr>\n",
       "      <th></th>\n",
       "      <th></th>\n",
       "      <th></th>\n",
       "      <th></th>\n",
       "      <th>TP_PROVINCE</th>\n",
       "    </tr>\n",
       "    <tr>\n",
       "      <th></th>\n",
       "      <th></th>\n",
       "      <th></th>\n",
       "      <th>JOB_DIR</th>\n",
       "      <th>-1</th>\n",
       "    </tr>\n",
       "    <tr>\n",
       "      <th>WORK_TIME</th>\n",
       "      <th>GEN_TITLE</th>\n",
       "      <th>ORG_TP_STATE</th>\n",
       "      <th>ORG_TP_FCAPITAL</th>\n",
       "      <th></th>\n",
       "    </tr>\n",
       "  </thead>\n",
       "  <tbody>\n",
       "    <tr>\n",
       "      <th rowspan=\"2\" valign=\"top\">-1</th>\n",
       "      <th rowspan=\"2\" valign=\"top\">-1</th>\n",
       "      <th rowspan=\"2\" valign=\"top\">-1</th>\n",
       "      <th>-1</th>\n",
       "      <td>2707</td>\n",
       "    </tr>\n",
       "    <tr>\n",
       "      <th>Без участия</th>\n",
       "      <td>6</td>\n",
       "    </tr>\n",
       "  </tbody>\n",
       "</table>\n",
       "</div>"
      ],
      "text/plain": [
       "                                                 TP_PROVINCE\n",
       "JOB_DIR                                                   -1\n",
       "WORK_TIME GEN_TITLE ORG_TP_STATE ORG_TP_FCAPITAL            \n",
       "-1        -1        -1           -1                     2707\n",
       "                                 Без участия               6"
      ]
     },
     "execution_count": 873,
     "metadata": {},
     "output_type": "execute_result"
    }
   ],
   "source": [
    "# Анализ совместной встречаемости пропусков в столбцах 'GEN_INDUSTRY','GEN_TITLE','ORG_TP_STATE','ORG_TP_FCAPITAL',\n",
    "# 'JOB_DIR', 'WORK_TIME'\n",
    "\n",
    "df3 = df[df['GEN_INDUSTRY'].isna()][['WORK_TIME','GEN_TITLE','ORG_TP_STATE','ORG_TP_FCAPITAL','JOB_DIR','TP_PROVINCE']]\n",
    "\n",
    "values2 = {'WORK_TIME': '-1', 'GEN_TITLE': '-1', 'ORG_TP_STATE': '-1', 'ORG_TP_FCAPITAL': '-1', 'JOB_DIR': '-1', \\\n",
    "          'TP_PROVINCE': '-1'} \n",
    "\n",
    "df3 = df3.fillna(value=values2)\n",
    "\n",
    "df3_2 = df3[['WORK_TIME','GEN_TITLE','ORG_TP_STATE','ORG_TP_FCAPITAL','JOB_DIR', 'TP_PROVINCE']].pivot_table(index = \\\n",
    "['WORK_TIME','GEN_TITLE','ORG_TP_STATE','ORG_TP_FCAPITAL'], columns = 'JOB_DIR', aggfunc = np.count_nonzero)\n",
    "df3_2"
   ]
  },
  {
   "cell_type": "code",
   "execution_count": 874,
   "metadata": {},
   "outputs": [
    {
     "data": {
      "text/plain": [
       "<seaborn.axisgrid.PairGrid at 0x22ae2969940>"
      ]
     },
     "execution_count": 874,
     "metadata": {},
     "output_type": "execute_result"
    },
    {
     "data": {
      "image/png": "[encoded data removed]",
      "text/plain": [
       "<matplotlib.figure.Figure at 0x22ae2969eb8>"
      ]
     },
     "metadata": {},
     "output_type": "display_data"
    }
   ],
   "source": [
    "# Гистограммы (по диагонали) указывания номеров телефона: домашнего, по месту регистрации, РАБОЧЕГО. \n",
    "df2 = df[df['WORK_TIME'].isna()][['FACT_PHONE_FL', 'REG_PHONE_FL','GEN_PHONE_FL']] \n",
    "import seaborn as sns\n",
    "sns.pairplot(df2[['FACT_PHONE_FL', 'REG_PHONE_FL','GEN_PHONE_FL']], hue=\"GEN_PHONE_FL\")"
   ]
  },
  {
   "cell_type": "code",
   "execution_count": 875,
   "metadata": {},
   "outputs": [
    {
     "data": {
      "text/html": [
       "<div>\n",
       "<style scoped>\n",
       "    .dataframe tbody tr th:only-of-type {\n",
       "        vertical-align: middle;\n",
       "    }\n",
       "\n",
       "    .dataframe tbody tr th {\n",
       "        vertical-align: top;\n",
       "    }\n",
       "\n",
       "    .dataframe thead th {\n",
       "        text-align: right;\n",
       "    }\n",
       "</style>\n",
       "<table border=\"1\" class=\"dataframe\">\n",
       "  <thead>\n",
       "    <tr style=\"text-align: right;\">\n",
       "      <th></th>\n",
       "      <th>PERSONAL_INCOME</th>\n",
       "    </tr>\n",
       "  </thead>\n",
       "  <tbody>\n",
       "    <tr>\n",
       "      <th>count</th>\n",
       "      <td>2717.000000</td>\n",
       "    </tr>\n",
       "    <tr>\n",
       "      <th>mean</th>\n",
       "      <td>8078.699768</td>\n",
       "    </tr>\n",
       "    <tr>\n",
       "      <th>std</th>\n",
       "      <td>4725.533609</td>\n",
       "    </tr>\n",
       "    <tr>\n",
       "      <th>min</th>\n",
       "      <td>1950.000000</td>\n",
       "    </tr>\n",
       "    <tr>\n",
       "      <th>25%</th>\n",
       "      <td>6000.000000</td>\n",
       "    </tr>\n",
       "    <tr>\n",
       "      <th>50%</th>\n",
       "      <td>7000.000000</td>\n",
       "    </tr>\n",
       "    <tr>\n",
       "      <th>75%</th>\n",
       "      <td>9000.000000</td>\n",
       "    </tr>\n",
       "    <tr>\n",
       "      <th>max</th>\n",
       "      <td>160000.000000</td>\n",
       "    </tr>\n",
       "  </tbody>\n",
       "</table>\n",
       "</div>"
      ],
      "text/plain": [
       "       PERSONAL_INCOME\n",
       "count      2717.000000\n",
       "mean       8078.699768\n",
       "std        4725.533609\n",
       "min        1950.000000\n",
       "25%        6000.000000\n",
       "50%        7000.000000\n",
       "75%        9000.000000\n",
       "max      160000.000000"
      ]
     },
     "execution_count": 875,
     "metadata": {},
     "output_type": "execute_result"
    }
   ],
   "source": [
    "# Расчёт среднего персонального дохода для лиц не указавших информацию о работе\n",
    "def preproc_data(df_input):\n",
    "    df_output = df_input.copy()\n",
    "        \n",
    "    ## Your Code Here\n",
    "    for c in ['PERSONAL_INCOME', 'CREDIT', 'FST_PAYMENT', 'LOAN_AVG_DLQ_AMT', 'LOAN_MAX_DLQ_AMT']:\n",
    "        if str(df_output[c].dtype) == 'object':\n",
    "            df_output[c] = df_output[c].map(lambda x: x.replace(',', '.')).astype('float')\n",
    "    \n",
    "    return df_output\n",
    "\n",
    "df_ = df.pipe(preproc_data)\n",
    "\n",
    "df_[(df_['WORK_TIME'].isna())][['PERSONAL_INCOME']].describe()"
   ]
  },
  {
   "cell_type": "markdown",
   "metadata": {
    "collapsed": true
   },
   "source": [
    "#### Задание 2. Есть ли категориальные признаки? Что с ними делать?\n",
    "Список категориальных признаков и их значений см. ниже. Предлагается \n",
    "* признак 'EDUCATION' перекодировать как порядковый в соответствии с порядком 'Неполное среднее', 'Среднее', 'Среднее специальное', 'Неоконченное высшее', 'Высшее', 'Два и более высших образования', 'Ученая степень'.\n",
    "* значения признака 'FAMILY_INCOME' заменить числовым значением статистики (например средним) соответствующих диапазонов: 'до 5000 руб.', 'от 5000 до 10000 руб.', 'от 10000 до 20000 руб.', 'от 20000 до 50000 руб.', 'свыше 50000 руб.' \n",
    "* остальные категориальные признаки кодировать One Hot Encodingом\n"
   ]
  },
  {
   "cell_type": "code",
   "execution_count": 876,
   "metadata": {},
   "outputs": [
    {
     "name": "stdout",
     "output_type": "stream",
     "text": [
      "EDUCATION\n",
      "['Среднее специальное' 'Среднее' 'Высшее' 'Неполное среднее'\n",
      " 'Неоконченное высшее' 'Два и более высших образования' 'Ученая степень']\n",
      "MARITAL_STATUS\n",
      "['Не состоял в браке' 'Состою в браке' 'Разведен(а)' 'Вдовец/Вдова'\n",
      " 'Гражданский брак']\n",
      "GEN_INDUSTRY\n",
      "['Образование' nan 'Металлургия/Промышленность/Машиностроение'\n",
      " 'Другие сферы' 'Сборочные производства' 'Торговля' 'Строительство'\n",
      " 'Ресторанный бизнес/Общественное питание' 'Нефтегазовая промышленность'\n",
      " 'Транспорт' 'Здравоохранение' 'Государственная служба' 'Наука'\n",
      " 'Развлечения/Искусство' 'ЧОП/Детективная д-ть'\n",
      " 'Коммунальное хоз-во/Дорожные службы' 'Сельское хозяйство' 'Энергетика'\n",
      " 'Информационные технологии' 'Управляющая компания' 'Банк/Финансы'\n",
      " 'Юридические услуги/нотариальные услуги' 'Салоны красоты и здоровья'\n",
      " 'Информационные услуги' 'Химия/Парфюмерия/Фармацевтика' 'Страхование'\n",
      " 'СМИ/Реклама/PR-агенства' 'Недвижимость' 'Логистика' 'Туризм'\n",
      " 'Подбор персонала' 'Маркетинг']\n",
      "GEN_TITLE\n",
      "['Специалист' nan 'Рабочий' 'Руководитель среднего звена'\n",
      " 'Индивидуальный предприниматель' 'Служащий' 'Другое'\n",
      " 'Руководитель высшего звена' 'Руководитель низшего звена'\n",
      " 'Высококвалифиц. специалист' 'Работник сферы услуг'\n",
      " 'Военнослужащий по контракту' 'Партнер']\n",
      "ORG_TP_STATE\n",
      "['Государственная комп./учреж.' nan 'Частная компания'\n",
      " 'Индивидуальный предприниматель' 'Некоммерческая организация'\n",
      " 'Частная ком. с инос. капиталом']\n",
      "ORG_TP_FCAPITAL\n",
      "['Без участия' nan 'С участием']\n",
      "JOB_DIR\n",
      "['Участие в основ. деятельности' nan 'Вспомогательный техперсонал'\n",
      " 'Бухгалтерия, финансы, планир.' 'Служба безопасности'\n",
      " 'Пр-техн. обесп. и телеком.' 'Адм-хоз. и трансп. службы'\n",
      " 'Кадровая служба и секретариат' 'Снабжение и сбыт' 'Юридическая служба'\n",
      " 'Реклама и маркетинг']\n",
      "FAMILY_INCOME\n",
      "['от 10000 до 20000 руб.' 'от 20000 до 50000 руб.' 'от 5000 до 10000 руб.'\n",
      " 'свыше 50000 руб.' 'до 5000 руб.']\n",
      "REG_ADDRESS_PROVINCE\n",
      "['Красноярский край' 'Орловская область' 'Коми' 'Читинская область'\n",
      " 'Хабаровский край' 'Кировская область' 'Курганская область'\n",
      " 'Томская область' 'Омская область' 'Оренбургская область'\n",
      " 'Челябинская область' 'Вологодская область' 'Алтайский край'\n",
      " 'Рязанская область' 'Тюменская область' 'Свердловская область'\n",
      " 'Смоленская область' 'Саратовская область' 'Ростовская область'\n",
      " 'Иркутская область' 'Усть-Ордынский Бурятский АО' 'Еврейская АО'\n",
      " 'Тульская область' 'Ивановская область' 'Ставропольский край'\n",
      " 'Волгоградская область' 'Амурская область' 'Воронежская область'\n",
      " 'Московская область' 'Липецкая область' 'Новгородская область'\n",
      " 'Костромская область' 'Татарстан' 'Хакасия' 'Кабардино-Балкария'\n",
      " 'Ульяновская область' 'Бурятия' 'Владимирская область'\n",
      " 'Краснодарский край' 'Камчатская область' 'Мордовская республика'\n",
      " 'Курская область' 'Якутия' 'Тверская область' 'Марийская республика'\n",
      " 'Тамбовская область' 'Кемеровская область' 'Самарская область'\n",
      " 'Нижегородская область' 'Псковская область' 'Новосибирская область'\n",
      " 'Астраханская область' 'Ярославская область' 'Удмуртия'\n",
      " 'Ленинградская область' 'Калининградская область' 'Пензенская область'\n",
      " 'Сахалинская область' 'Приморский край' 'Мурманская область' 'Карелия'\n",
      " 'Ханты-Мансийский АО' 'Горный Алтай' 'Архангельская область'\n",
      " 'Белгородская область' 'Пермская область' 'Брянская область' 'Чувашия'\n",
      " 'Башкирия' 'Адыгея' 'Санкт-Петербург' 'Калужская область' 'Москва'\n",
      " 'Карачаево-Черкесия' 'Ямало-Ненецкий АО' 'Магаданская область'\n",
      " 'Агинский Бурятский АО' 'Северная Осетия' 'Калмыкия' 'Коми-Пермяцкий АО'\n",
      " 'Дагестан' 'Эвенкийский АО']\n",
      "FACT_ADDRESS_PROVINCE\n",
      "['Красноярский край' 'Орловская область' 'Коми' 'Читинская область'\n",
      " 'Хабаровский край' 'Кировская область' 'Курганская область'\n",
      " 'Томская область' 'Омская область' 'Оренбургская область'\n",
      " 'Челябинская область' 'Вологодская область' 'Алтайский край'\n",
      " 'Рязанская область' 'Тюменская область' 'Свердловская область'\n",
      " 'Смоленская область' 'Саратовская область' 'Ростовская область'\n",
      " 'Иркутская область' 'Усть-Ордынский Бурятский АО' 'Еврейская АО'\n",
      " 'Тульская область' 'Ивановская область' 'Ставропольский край'\n",
      " 'Волгоградская область' 'Амурская область' 'Воронежская область'\n",
      " 'Московская область' 'Липецкая область' 'Новгородская область'\n",
      " 'Костромская область' 'Татарстан' 'Хакасия' 'Кабардино-Балкария'\n",
      " 'Ульяновская область' 'Бурятия' 'Владимирская область'\n",
      " 'Краснодарский край' 'Камчатская область' 'Мордовская республика'\n",
      " 'Курская область' 'Якутия' 'Тверская область' 'Марийская республика'\n",
      " 'Тамбовская область' 'Кемеровская область' 'Самарская область'\n",
      " 'Нижегородская область' 'Псковская область' 'Новосибирская область'\n",
      " 'Астраханская область' 'Ярославская область' 'Удмуртия'\n",
      " 'Ленинградская область' 'Калининградская область' 'Пензенская область'\n",
      " 'Сахалинская область' 'Приморский край' 'Мурманская область' 'Карелия'\n",
      " 'Ханты-Мансийский АО' 'Горный Алтай' 'Архангельская область'\n",
      " 'Белгородская область' 'Пермская область' 'Брянская область' 'Чувашия'\n",
      " 'Башкирия' 'Адыгея' 'Санкт-Петербург' 'Калужская область' 'Москва'\n",
      " 'Ямало-Ненецкий АО' 'Магаданская область' 'Агинский Бурятский АО'\n",
      " 'Карачаево-Черкесия' 'Северная Осетия' 'Калмыкия' 'Коми-Пермяцкий АО'\n",
      " 'Чечня' 'Эвенкийский АО' 'Дагестан']\n",
      "POSTAL_ADDRESS_PROVINCE\n",
      "['Красноярский край' 'Орловская область' 'Коми' 'Читинская область'\n",
      " 'Хабаровский край' 'Кировская область' 'Курганская область'\n",
      " 'Томская область' 'Омская область' 'Оренбургская область'\n",
      " 'Челябинская область' 'Вологодская область' 'Алтайский край'\n",
      " 'Рязанская область' 'Тюменская область' 'Свердловская область'\n",
      " 'Смоленская область' 'Саратовская область' 'Ростовская область'\n",
      " 'Иркутская область' 'Усть-Ордынский Бурятский АО' 'Еврейская АО'\n",
      " 'Тульская область' 'Ивановская область' 'Ставропольский край'\n",
      " 'Волгоградская область' 'Амурская область' 'Воронежская область'\n",
      " 'Московская область' 'Липецкая область' 'Новгородская область'\n",
      " 'Костромская область' 'Татарстан' 'Хакасия' 'Кабардино-Балкария'\n",
      " 'Ульяновская область' 'Бурятия' 'Владимирская область'\n",
      " 'Краснодарский край' 'Камчатская область' 'Мордовская республика'\n",
      " 'Курская область' 'Якутия' 'Тверская область' 'Марийская республика'\n",
      " 'Тамбовская область' 'Кемеровская область' 'Самарская область'\n",
      " 'Нижегородская область' 'Псковская область' 'Новосибирская область'\n",
      " 'Астраханская область' 'Ярославская область' 'Удмуртия'\n",
      " 'Ленинградская область' 'Калининградская область' 'Пензенская область'\n",
      " 'Сахалинская область' 'Приморский край' 'Мурманская область' 'Карелия'\n",
      " 'Ханты-Мансийский АО' 'Горный Алтай' 'Архангельская область'\n",
      " 'Белгородская область' 'Пермская область' 'Брянская область' 'Чувашия'\n",
      " 'Башкирия' 'Адыгея' 'Санкт-Петербург' 'Калужская область' 'Москва'\n",
      " 'Ямало-Ненецкий АО' 'Магаданская область' 'Агинский Бурятский АО'\n",
      " 'Карачаево-Черкесия' 'Северная Осетия' 'Калмыкия' 'Коми-Пермяцкий АО'\n",
      " 'Дагестан' 'Эвенкийский АО']\n",
      "TP_PROVINCE\n",
      "['Красноярский край' 'Орловская область' 'Коми' 'Читинская область'\n",
      " 'Хабаровский край' 'Кировская область' 'Курганская область'\n",
      " 'Томская область' 'Омская область' 'Оренбургская область'\n",
      " 'Челябинская область' 'Вологодская область' 'Алтайский край'\n",
      " 'Рязанская область' 'Ханты-Мансийский АО' 'Свердловская область'\n",
      " 'Смоленская область' 'Саратовская область' 'Ростовская область'\n",
      " 'Иркутская область' 'Еврейская АО' 'Тульская область'\n",
      " 'Ивановская область' 'Ставропольский край' 'Волгоградская область'\n",
      " 'Амурская область' 'Воронежская область' nan 'Липецкая область'\n",
      " 'Новгородская область' 'Костромская область' 'Татарстан'\n",
      " 'Ульяновская область' 'Бурятия' 'Владимирская область'\n",
      " 'Краснодарский край' 'Камчатская область' 'Мордовская республика'\n",
      " 'Курская область' 'Якутия' 'Тверская область' 'Марийская республика'\n",
      " 'Тамбовская область' 'Кемеровская область' 'Самарская область'\n",
      " 'Нижегородская область' 'Псковская область' 'Новосибирская область'\n",
      " 'Астраханская область' 'Ярославская область' 'Удмуртия'\n",
      " 'Тюменская область' 'Санкт-Петербург' 'Калининградская область'\n",
      " 'Пензенская область' 'Сахалинская область' 'Приморский край'\n",
      " 'Мурманская область' 'Карелия' 'Горный Алтай' 'Архангельская область'\n",
      " 'Белгородская область' 'Пермская область' 'Брянская область' 'Чувашия'\n",
      " 'Башкирия' 'Адыгея' 'Калужская область' 'Магаданская область'\n",
      " 'Кабардино-Балкария' 'Москва']\n",
      "REGION_NM\n",
      "['ВОСТОЧНО-СИБИРСКИЙ' 'ЦЕНТРАЛЬНЫЙ 1' 'ЦЕНТРАЛЬНЫЙ 2' 'ДАЛЬНЕВОСТОЧНЫЙ'\n",
      " 'ПРИВОЛЖСКИЙ' 'УРАЛЬСКИЙ' 'ЗАПАДНО-СИБИРСКИЙ' 'ПОВОЛЖСКИЙ' 'ЮЖНЫЙ'\n",
      " 'ЦЕНТРАЛЬНЫЙ ОФИС' 'СЕВЕРО-ЗАПАДНЫЙ' nan]\n",
      "sample\n",
      "['test' 'train']\n",
      "['EDUCATION', 'MARITAL_STATUS', 'GEN_INDUSTRY', 'GEN_TITLE', 'ORG_TP_STATE', 'ORG_TP_FCAPITAL', 'JOB_DIR', 'FAMILY_INCOME', 'REG_ADDRESS_PROVINCE', 'FACT_ADDRESS_PROVINCE', 'POSTAL_ADDRESS_PROVINCE', 'TP_PROVINCE', 'REGION_NM', 'sample']\n"
     ]
    }
   ],
   "source": [
    "# Список категориальных признаков\n",
    "for c in df_.columns:\n",
    "        if str(df_[c].dtype) == 'object':\n",
    "            print(c)            \n",
    "            print(df_[c].unique())\n",
    "            \n",
    "print([c for c in df_.columns if str(df_[c].dtype) == 'object'])"
   ]
  },
  {
   "cell_type": "markdown",
   "metadata": {},
   "source": [
    "#### Задание 3. Фунция предобработки"
   ]
  },
  {
   "cell_type": "markdown",
   "metadata": {},
   "source": [
    "Напишите функцию, которая бы\n",
    "\n",
    "* Удаляло идентификатор `AGREEMENT_RK`\n",
    "* Избавлялась от проблем с '.' и ',' в стобцах PERSONAL_INCOME, CREDIT, FST_PAYMENT, LOAN_AVG_DLQ_AMT, LOAN_MAX_DLQ_AMT\n",
    "* Что-то делала с пропусками\n",
    "* Кодировала категориальные признаки\n",
    "\n",
    "В результате, ваш датафрейм должен содержать только числа и не содержать пропусков!"
   ]
  },
  {
   "cell_type": "code",
   "execution_count": 877,
   "metadata": {},
   "outputs": [],
   "source": [
    "def preproc_data(df_input):\n",
    "    df_output = df_input.copy()    \n",
    "    ## Your Code Here\n",
    "    df_output = df_output.drop(['AGREEMENT_RK'], axis=1)\n",
    "    for c in ['PERSONAL_INCOME', 'CREDIT', 'FST_PAYMENT', 'LOAN_AVG_DLQ_AMT', 'LOAN_MAX_DLQ_AMT']:\n",
    "        if str(df_output[c].dtype) == 'object':\n",
    "            df_output[c] = df_output[c].map(lambda x: x.replace(',', '.')).astype('float')\n",
    "    \n",
    "    df_output = df_output[~(df_output['REGION_NM'].isna())]\n",
    "    df_output = df_output.drop(['PREVIOUS_CARD_NUM_UTILIZED'], axis=1)\n",
    "    values = {'WORK_TIME': -1, 'GEN_INDUSTRY': '-1', 'GEN_TITLE': '-1', 'ORG_TP_STATE': '-1', 'ORG_TP_FCAPITAL': '-1', \\\n",
    "              'JOB_DIR': '-1', 'TP_PROVINCE': '-1'}\n",
    "    df_output = df_output.fillna(value=values) \n",
    "    \n",
    "    # Recoding categorical\n",
    "    df_output['EDUCATION'] = df_output['EDUCATION'].map({'Неполное среднее':1, 'Среднее':2, 'Среднее специальное':3, \\\n",
    "    'Неоконченное высшее':4, 'Высшее':5, 'Два и более высших образования':6, 'Ученая степень':7})\n",
    "    df_output['FAMILY_INCOME'] = df_output['FAMILY_INCOME'].map({'до 5000 руб.': 2500, 'от 5000 до 10000 руб.': 7500, \\\n",
    "    'от 10000 до 20000 руб.': 15000, 'от 20000 до 50000 руб.': 35000, 'свыше 50000 руб.': 55000})\n",
    "    \n",
    "    # OneHotEncoder other categorical\n",
    "    le = preprocessing.LabelEncoder()\n",
    "    # FIT AND TRANSFORM LabelEncoder\n",
    "    X_2 = df_output[['MARITAL_STATUS', 'GEN_INDUSTRY', \\\n",
    "                      'GEN_TITLE', 'ORG_TP_STATE', 'ORG_TP_FCAPITAL', \\\n",
    "                      'JOB_DIR', 'REG_ADDRESS_PROVINCE', \\\n",
    "                      'FACT_ADDRESS_PROVINCE', 'POSTAL_ADDRESS_PROVINCE', \\\n",
    "                      'TP_PROVINCE', 'REGION_NM']].apply(le.fit_transform)\n",
    "    \n",
    "    enc = preprocessing.OneHotEncoder()\n",
    "    # FIT OneHotEncoder\n",
    "    enc.fit(X_2)\n",
    "    # Transform\n",
    "    onehotlabels = enc.transform(X_2).toarray()\n",
    "    \n",
    "    # concat Numerical features and OneHot-Categorical \n",
    "   \n",
    "    X_3 = df_output[[x for x in df_output.columns if x not in ['MARITAL_STATUS', 'GEN_INDUSTRY', \\\n",
    "                                                                 'GEN_TITLE', 'ORG_TP_STATE', 'ORG_TP_FCAPITAL', \\\n",
    "                                                                 'JOB_DIR', 'REG_ADDRESS_PROVINCE', \\\n",
    "                                                                 'FACT_ADDRESS_PROVINCE', 'POSTAL_ADDRESS_PROVINCE', \\\n",
    "                                                                 'TP_PROVINCE', 'REGION_NM']]]\n",
    "    \n",
    "    X_4 = pd.DataFrame(onehotlabels)\n",
    "    #print(X_4[X_4.columns[0]].unique())\n",
    "    #print(X_3.shape)\n",
    "    #print(X_4.shape)\n",
    "    \n",
    "    for c in X_4.columns:\n",
    "        X_3[c] = X_4[c].values #X_3.loc[:,c] = X_4[c].values\n",
    "    \n",
    "    df_output = X_3\n",
    "    #print(df_output[X_4.columns[0]].unique())\n",
    "    #print(df_output.shape)\n",
    "    #print(X_4.columns[0])\n",
    "    return df_output"
   ]
  },
  {
   "cell_type": "code",
   "execution_count": 878,
   "metadata": {},
   "outputs": [
    {
     "name": "stderr",
     "output_type": "stream",
     "text": [
      "C:\\Users\\skulivec\\AppData\\Local\\Continuum\\anaconda3\\lib\\site-packages\\ipykernel_launcher.py:39: SettingWithCopyWarning: \n",
      "A value is trying to be set on a copy of a slice from a DataFrame.\n",
      "Try using .loc[row_indexer,col_indexer] = value instead\n",
      "\n",
      "See the caveats in the documentation: http://pandas.pydata.org/pandas-docs/stable/indexing.html#indexing-view-versus-copy\n"
     ]
    }
   ],
   "source": [
    "df_preproc = df.pipe(preproc_data)\n",
    "\n",
    "df_train_preproc = df_preproc.query('sample == \"train\"').drop(['sample'], axis=1)\n",
    "df_test_preproc = df_preproc.query('sample == \"test\"').drop(['sample'], axis=1)\n"
   ]
  },
  {
   "cell_type": "code",
   "execution_count": 879,
   "metadata": {},
   "outputs": [
    {
     "name": "stdout",
     "output_type": "stream",
     "text": [
      "===============\n",
      "sample\n"
     ]
    },
    {
     "data": {
      "text/html": [
       "<div>\n",
       "<style scoped>\n",
       "    .dataframe tbody tr th:only-of-type {\n",
       "        vertical-align: middle;\n",
       "    }\n",
       "\n",
       "    .dataframe tbody tr th {\n",
       "        vertical-align: top;\n",
       "    }\n",
       "\n",
       "    .dataframe thead th {\n",
       "        text-align: right;\n",
       "    }\n",
       "</style>\n",
       "<table border=\"1\" class=\"dataframe\">\n",
       "  <thead>\n",
       "    <tr style=\"text-align: right;\">\n",
       "      <th></th>\n",
       "      <th>TARGET</th>\n",
       "      <th>AGE</th>\n",
       "      <th>SOCSTATUS_WORK_FL</th>\n",
       "      <th>SOCSTATUS_PENS_FL</th>\n",
       "      <th>GENDER</th>\n",
       "      <th>CHILD_TOTAL</th>\n",
       "      <th>DEPENDANTS</th>\n",
       "      <th>EDUCATION</th>\n",
       "      <th>FAMILY_INCOME</th>\n",
       "      <th>PERSONAL_INCOME</th>\n",
       "      <th>...</th>\n",
       "      <th>389</th>\n",
       "      <th>390</th>\n",
       "      <th>391</th>\n",
       "      <th>392</th>\n",
       "      <th>393</th>\n",
       "      <th>394</th>\n",
       "      <th>395</th>\n",
       "      <th>396</th>\n",
       "      <th>397</th>\n",
       "      <th>398</th>\n",
       "    </tr>\n",
       "  </thead>\n",
       "  <tbody>\n",
       "    <tr>\n",
       "      <th>0</th>\n",
       "      <td>0</td>\n",
       "      <td>30</td>\n",
       "      <td>1</td>\n",
       "      <td>0</td>\n",
       "      <td>1</td>\n",
       "      <td>1</td>\n",
       "      <td>1</td>\n",
       "      <td>3</td>\n",
       "      <td>15000</td>\n",
       "      <td>7000.0</td>\n",
       "      <td>...</td>\n",
       "      <td>0.0</td>\n",
       "      <td>0.0</td>\n",
       "      <td>0.0</td>\n",
       "      <td>0.0</td>\n",
       "      <td>0.0</td>\n",
       "      <td>0.0</td>\n",
       "      <td>0.0</td>\n",
       "      <td>0.0</td>\n",
       "      <td>0.0</td>\n",
       "      <td>0.0</td>\n",
       "    </tr>\n",
       "    <tr>\n",
       "      <th>1</th>\n",
       "      <td>0</td>\n",
       "      <td>48</td>\n",
       "      <td>0</td>\n",
       "      <td>1</td>\n",
       "      <td>1</td>\n",
       "      <td>0</td>\n",
       "      <td>0</td>\n",
       "      <td>2</td>\n",
       "      <td>15000</td>\n",
       "      <td>4100.0</td>\n",
       "      <td>...</td>\n",
       "      <td>0.0</td>\n",
       "      <td>0.0</td>\n",
       "      <td>0.0</td>\n",
       "      <td>0.0</td>\n",
       "      <td>0.0</td>\n",
       "      <td>0.0</td>\n",
       "      <td>1.0</td>\n",
       "      <td>0.0</td>\n",
       "      <td>0.0</td>\n",
       "      <td>0.0</td>\n",
       "    </tr>\n",
       "    <tr>\n",
       "      <th>2</th>\n",
       "      <td>0</td>\n",
       "      <td>35</td>\n",
       "      <td>1</td>\n",
       "      <td>0</td>\n",
       "      <td>0</td>\n",
       "      <td>1</td>\n",
       "      <td>0</td>\n",
       "      <td>2</td>\n",
       "      <td>35000</td>\n",
       "      <td>40000.0</td>\n",
       "      <td>...</td>\n",
       "      <td>0.0</td>\n",
       "      <td>0.0</td>\n",
       "      <td>0.0</td>\n",
       "      <td>0.0</td>\n",
       "      <td>0.0</td>\n",
       "      <td>0.0</td>\n",
       "      <td>0.0</td>\n",
       "      <td>1.0</td>\n",
       "      <td>0.0</td>\n",
       "      <td>0.0</td>\n",
       "    </tr>\n",
       "    <tr>\n",
       "      <th>3</th>\n",
       "      <td>0</td>\n",
       "      <td>22</td>\n",
       "      <td>1</td>\n",
       "      <td>0</td>\n",
       "      <td>0</td>\n",
       "      <td>0</td>\n",
       "      <td>0</td>\n",
       "      <td>2</td>\n",
       "      <td>35000</td>\n",
       "      <td>20000.0</td>\n",
       "      <td>...</td>\n",
       "      <td>0.0</td>\n",
       "      <td>0.0</td>\n",
       "      <td>0.0</td>\n",
       "      <td>0.0</td>\n",
       "      <td>0.0</td>\n",
       "      <td>0.0</td>\n",
       "      <td>0.0</td>\n",
       "      <td>0.0</td>\n",
       "      <td>0.0</td>\n",
       "      <td>0.0</td>\n",
       "    </tr>\n",
       "    <tr>\n",
       "      <th>4</th>\n",
       "      <td>0</td>\n",
       "      <td>27</td>\n",
       "      <td>1</td>\n",
       "      <td>0</td>\n",
       "      <td>1</td>\n",
       "      <td>2</td>\n",
       "      <td>2</td>\n",
       "      <td>5</td>\n",
       "      <td>35000</td>\n",
       "      <td>17000.0</td>\n",
       "      <td>...</td>\n",
       "      <td>1.0</td>\n",
       "      <td>0.0</td>\n",
       "      <td>0.0</td>\n",
       "      <td>0.0</td>\n",
       "      <td>0.0</td>\n",
       "      <td>0.0</td>\n",
       "      <td>0.0</td>\n",
       "      <td>0.0</td>\n",
       "      <td>0.0</td>\n",
       "      <td>0.0</td>\n",
       "    </tr>\n",
       "  </tbody>\n",
       "</table>\n",
       "<p>5 rows × 439 columns</p>\n",
       "</div>"
      ],
      "text/plain": [
       "   TARGET  AGE  SOCSTATUS_WORK_FL  SOCSTATUS_PENS_FL  GENDER  CHILD_TOTAL  \\\n",
       "0       0   30                  1                  0       1            1   \n",
       "1       0   48                  0                  1       1            0   \n",
       "2       0   35                  1                  0       0            1   \n",
       "3       0   22                  1                  0       0            0   \n",
       "4       0   27                  1                  0       1            2   \n",
       "\n",
       "   DEPENDANTS  EDUCATION  FAMILY_INCOME  PERSONAL_INCOME ...   389  390  391  \\\n",
       "0           1          3          15000           7000.0 ...   0.0  0.0  0.0   \n",
       "1           0          2          15000           4100.0 ...   0.0  0.0  0.0   \n",
       "2           0          2          35000          40000.0 ...   0.0  0.0  0.0   \n",
       "3           0          2          35000          20000.0 ...   0.0  0.0  0.0   \n",
       "4           2          5          35000          17000.0 ...   1.0  0.0  0.0   \n",
       "\n",
       "   392  393  394  395  396  397  398  \n",
       "0  0.0  0.0  0.0  0.0  0.0  0.0  0.0  \n",
       "1  0.0  0.0  0.0  1.0  0.0  0.0  0.0  \n",
       "2  0.0  0.0  0.0  0.0  1.0  0.0  0.0  \n",
       "3  0.0  0.0  0.0  0.0  0.0  0.0  0.0  \n",
       "4  0.0  0.0  0.0  0.0  0.0  0.0  0.0  \n",
       "\n",
       "[5 rows x 439 columns]"
      ]
     },
     "execution_count": 879,
     "metadata": {},
     "output_type": "execute_result"
    }
   ],
   "source": [
    "# Проверка не осталось ли NaN или категориальных переменных\n",
    "for c in df_preproc.columns:\n",
    "    if sum(1*df_preproc[c].isna())>0:\n",
    "        print(c)\n",
    "print('===============')\n",
    "for c in df_preproc.columns:\n",
    "    if str(df_preproc[c].dtype) == 'object':\n",
    "        print(c)\n",
    "df_preproc.head()"
   ]
  },
  {
   "cell_type": "markdown",
   "metadata": {},
   "source": [
    "#### Задание 4. Отделите целевую переменную и остальные признаки\n",
    "\n",
    "Должно получится:\n",
    "* 2 матрицы: X и X_test\n",
    "* 2 вектора: y и y_test"
   ]
  },
  {
   "cell_type": "code",
   "execution_count": 880,
   "metadata": {},
   "outputs": [],
   "source": [
    "X, y = df_train_preproc.iloc[:, 1:].values, df_train_preproc.iloc[:, 0].values\n",
    "X_check, y_check = df_test_preproc.iloc[:, 1:].values, df_test_preproc.iloc[:, 0].values\n",
    "X_, y_ = X, y # сохраняем для обучения модели в конце"
   ]
  },
  {
   "cell_type": "markdown",
   "metadata": {},
   "source": [
    "#### Задание 5. Обучение и оценка качества разных моделей"
   ]
  },
  {
   "cell_type": "code",
   "execution_count": 881,
   "metadata": {},
   "outputs": [],
   "source": [
    "random_state=42\n",
    "test_size=0.3\n",
    "\n",
    "from sklearn.model_selection import train_test_split\n",
    "X, X_test, y, y_test = train_test_split(X, y, test_size=test_size, random_state=random_state)\n",
    "\n"
   ]
  },
  {
   "cell_type": "code",
   "execution_count": 882,
   "metadata": {},
   "outputs": [],
   "source": [
    "# Попробовать следующие \"черные ящики\": интерфейс одинаковый \n",
    "#     fit, \n",
    "#     predict, \n",
    "#     predict_proba\n",
    "\n",
    "from sklearn.tree import DecisionTreeClassifier\n",
    "from sklearn.ensemble import RandomForestClassifier\n",
    "from sklearn.linear_model import LogisticRegression\n",
    "\n",
    "from sklearn.model_selection import train_test_split\n",
    "from sklearn.metrics import roc_auc_score\n",
    "from sklearn.pipeline import Pipeline\n",
    "from sklearn.preprocessing import StandardScaler\n",
    "\n",
    "from scipy.stats import randint as randint\n",
    "from scipy.stats import uniform\n",
    "\n",
    "try:\n",
    "    from sklearn.model_selection import GridSearchCV\n",
    "    from sklearn.model_selection import RandomizedSearchCV\n",
    "    from sklearn.model_selection import StratifiedKFold\n",
    "except ImportError:\n",
    "    from sklearn.cross_validation import GridSearchCV\n",
    "    from sklearn.cross_validation import RandomizedSearchCV\n",
    "    from sklearn.cross_validation import StratifiedKFold\n",
    "\n",
    "try:\n",
    "    from sklearn.model_selection import validation_curve\n",
    "except ImportError:\n",
    "    from sklearn.learning_curve import validation_curve\n",
    "    \n",
    "    \n",
    "try:\n",
    "    from sklearn.model_selection import StratifiedKFold\n",
    "except ImportError:\n",
    "    from sklearn.cross_validation import StratifiedKFold\n",
    "    \n",
    "from sklearn.cross_validation import cross_val_score\n",
    "\n",
    "from sklearn.metrics import accuracy_score, precision_score, recall_score"
   ]
  },
  {
   "cell_type": "markdown",
   "metadata": {},
   "source": [
    "# DecisionTreeClassifier (подбор параметров и кросс-валидация)"
   ]
  },
  {
   "cell_type": "code",
   "execution_count": 883,
   "metadata": {},
   "outputs": [
    {
     "name": "stdout",
     "output_type": "stream",
     "text": [
      "DecisionTreeClassifier (Acc, Prec, Recall):\n",
      "0.8701554631048829 0.2 0.00865051903114187\n"
     ]
    }
   ],
   "source": [
    "## DecisionTreeClassifier с лучшими параметрами на основе RandomizedSearchCV (ниже)\n",
    "depth = 7\n",
    "model = Pipeline([\n",
    "    ('scaler', StandardScaler()),\n",
    "    ('DTC', DecisionTreeClassifier(random_state=random_state, class_weight=None, criterion='entropy', max_depth=7, min_samples_leaf=5))\n",
    "    #('DTC', DecisionTreeClassifier(criterion='entropy', max_depth=depth, random_state=random_state))\n",
    "])\n",
    "model.fit(X,y)\n",
    "print('DecisionTreeClassifier (Acc, Prec, Recall):')\n",
    "print(accuracy_score(y_test, model.predict(X_test)), precision_score(y_test, model.predict(X_test)), recall_score(y_test, model.predict(X_test)))\n",
    "y_dt_proba = model.predict_proba(X_test)\n",
    "y_dt = model.predict(X_test)"
   ]
  },
  {
   "cell_type": "raw",
   "metadata": {},
   "source": [
    "# Подбор оптимальных параметров модели на кросс-валидации (\"закоментирован\", т.к. долго выполняется при запуске). На основе его были подобраны параметры DF модели\n",
    "\n",
    "param_grid = {\n",
    "    'criterion': ['gini', 'entropy'],\n",
    "    'max_depth': randint(4, 8),\n",
    "    'min_samples_leaf': randint(4, 8),\n",
    "    'class_weight': [None, 'balanced']}\n",
    "\n",
    "# Некоторые параметры мы задали не простым перечислением значений, а \n",
    "# с помощью распределений.\n",
    "\n",
    "# Будем делать 200 запусков поиска\n",
    "cv = StratifiedKFold(n_splits=5, random_state=random_state, shuffle=True)\n",
    "\n",
    "model = DecisionTreeClassifier(random_state=random_state)\n",
    "random_search = RandomizedSearchCV(model, param_distributions=param_grid, n_iter=200, n_jobs=-1,\n",
    "                                   cv=cv, scoring='roc_auc', random_state=random_state)\n",
    "# А дальше, просто .fit()\n",
    "random_search.fit(X, y)"
   ]
  },
  {
   "cell_type": "raw",
   "metadata": {},
   "source": [
    "random_search.best_params_, random_search.best_score_"
   ]
  },
  {
   "cell_type": "code",
   "execution_count": 884,
   "metadata": {},
   "outputs": [
    {
     "data": {
      "text/plain": [
       "Text(0,0.5,'ROC AUC')"
      ]
     },
     "execution_count": 884,
     "metadata": {},
     "output_type": "execute_result"
    },
    {
     "data": {
      "image/png": "[encoded data removed]",
      "text/plain": [
       "<matplotlib.figure.Figure at 0x22adf493d68>"
      ]
     },
     "metadata": {},
     "output_type": "display_data"
    }
   ],
   "source": [
    "# определение оптимальной глубины дерева на основе кросс-валидации\n",
    "model = DecisionTreeClassifier(criterion='entropy', random_state=random_state, \\\n",
    "                               class_weight=None, max_depth=7, min_samples_leaf=5)\n",
    "\n",
    "cv = StratifiedKFold(n_splits=10, shuffle=True, random_state=random_state)\n",
    "\n",
    "train_scores, valid_scores = validation_curve(model, X, y, \n",
    "                                              'max_depth', range(1, 10),\n",
    "                                              cv=cv, scoring='roc_auc')\n",
    "\n",
    "train_score_mean = train_scores.mean(axis=1)\n",
    "train_score_std = train_scores.std(axis=1)\n",
    "valid_scores_mean = valid_scores.mean(axis=1)\n",
    "valid_scores_std = valid_scores.std(axis=1)\n",
    "\n",
    "plt.fill_between(range(1,10), train_score_mean-train_score_std, train_score_mean+train_score_std, color='b',\n",
    "                 interpolate=True, alpha=0.5,)\n",
    "plt.fill_between(range(1,10), valid_scores_mean-valid_scores_std, valid_scores_mean+valid_scores_std, color='r', \n",
    "                 interpolate=True, alpha=0.5)\n",
    "\n",
    "plt.plot(range(1,10), train_score_mean, c='b', lw=2)\n",
    "plt.plot(range(1,10), valid_scores_mean, c='r', lw=2)\n",
    "\n",
    "plt.xlabel('max depth')\n",
    "plt.ylabel('ROC AUC')"
   ]
  },
  {
   "cell_type": "markdown",
   "metadata": {},
   "source": [
    "# RandomForestClassifier (подбор параметров и кросс-валидация)"
   ]
  },
  {
   "cell_type": "code",
   "execution_count": 885,
   "metadata": {},
   "outputs": [
    {
     "name": "stdout",
     "output_type": "stream",
     "text": [
      "RandomForestClassifier (Acc, Prec, Recall):\n",
      "0.8712502737026494 0.1875 0.005190311418685121\n"
     ]
    }
   ],
   "source": [
    "# RandomForestClassifier\n",
    "\n",
    "depth = 7\n",
    "model = Pipeline([\n",
    "    ('scaler', StandardScaler()),\n",
    "    ('RFC', RandomForestClassifier(n_jobs=-1, random_state=random_state))\n",
    "])\n",
    "model.fit(X,y)\n",
    "print('RandomForestClassifier (Acc, Prec, Recall):')\n",
    "print(accuracy_score(y_test, model.predict(X_test)), precision_score(y_test, model.predict(X_test)), recall_score(y_test, model.predict(X_test)))\n",
    "#y_dt_proba = model.predict(X_test)\n",
    "y_rf_proba = model.predict_proba(X_test)\n",
    "y_rf = model.predict(X_test)"
   ]
  },
  {
   "cell_type": "markdown",
   "metadata": {},
   "source": [
    "# LogisticRegression (подбор параметров и кросс-валидация)"
   ]
  },
  {
   "cell_type": "code",
   "execution_count": 886,
   "metadata": {},
   "outputs": [
    {
     "name": "stdout",
     "output_type": "stream",
     "text": [
      "LogisticRegression (Acc, Prec, Recall):\n",
      "0.8725640464199693 0.3 0.005190311418685121\n"
     ]
    },
    {
     "name": "stderr",
     "output_type": "stream",
     "text": [
      "C:\\Users\\skulivec\\AppData\\Local\\Continuum\\anaconda3\\lib\\site-packages\\sklearn\\linear_model\\base.py:340: RuntimeWarning: overflow encountered in exp\n",
      "  np.exp(prob, prob)\n"
     ]
    }
   ],
   "source": [
    "c_range = np.logspace(-3, 3, 10) # from 10^(-3)...10^3 with only 10 values\n",
    "C=0.001\n",
    "\n",
    "model = Pipeline([\n",
    "       ('scaler', StandardScaler()),\n",
    "       ('clf', LogisticRegression(penalty='l2', fit_intercept=True, C=C))\n",
    "   ])\n",
    "model.fit(X, y)\n",
    "print('LogisticRegression (Acc, Prec, Recall):')\n",
    "print(accuracy_score(y_test, model.predict(X_test)), precision_score(y_test, model.predict(X_test)), recall_score(y_test, model.predict(X_test)))\n",
    "#y_dt_proba = model.predict(X_test)\n",
    "#y_rf_proba = model.predict(X_test)\n",
    "y_lr_proba = model.predict_proba(X_test)\n",
    "y_lr = model.predict(X_test)"
   ]
  },
  {
   "cell_type": "code",
   "execution_count": 887,
   "metadata": {},
   "outputs": [],
   "source": [
    "# Визуалищировать эти метрики всех моделей на одном графике (чтоб визуально посмотреть)\n",
    "\n",
    "## Your Code Here"
   ]
  },
  {
   "cell_type": "code",
   "execution_count": 888,
   "metadata": {},
   "outputs": [
    {
     "name": "stdout",
     "output_type": "stream",
     "text": [
      "DT score:\n",
      "0.8701554631048829\n",
      "RF score:\n",
      "0.8712502737026494\n",
      "LR score:\n",
      "0.8725640464199693\n"
     ]
    },
    {
     "data": {
      "image/png": "[encoded data removed]",
      "text/plain": [
       "<matplotlib.figure.Figure at 0x22adf490080>"
      ]
     },
     "metadata": {},
     "output_type": "display_data"
    }
   ],
   "source": [
    "# Потроить roc-кривые всех моделей на одном графике\n",
    "# Вывести roc_auc каждой моделе\n",
    "# y_dt_proba = model.predict_proba(X_test)\n",
    "# y_rf_proba = model.predict_proba(X_test)\n",
    "# y_lr_proba = model.predict_proba(X_test)\n",
    "from sklearn.metrics import precision_recall_curve, roc_curve, roc_auc_score\n",
    "\n",
    "fpr, tpr, thresholds = roc_curve(y_test, y_dt_proba[:,1])\n",
    "fpr2, tpr2, thresholds2 = roc_curve(y_test, y_rf_proba[:,1])\n",
    "fpr3, tpr3, thresholds3 = roc_curve(y_test, y_lr_proba[:,1])\n",
    "\n",
    "plt.figure(figsize=(5, 5))\n",
    "plt.plot(fpr, tpr, label=\"DT\")\n",
    "plt.plot(fpr2, tpr2, label=\"RF\")\n",
    "plt.plot(fpr3, tpr3, label=\"LR\")\n",
    "plt.legend(bbox_to_anchor=(1.05, 1), loc=2, borderaxespad=0.)\n",
    "plt.plot([0, 1], [0, 1])\n",
    "plt.ylabel('tpr')\n",
    "plt.xlabel('fpr')\n",
    "plt.grid(True)\n",
    "plt.title('ROC curve')\n",
    "plt.xlim((-0.01, 1.01))\n",
    "plt.ylim((-0.01, 1.01))\n",
    "\n",
    "print('DT score:')\n",
    "print(accuracy_score(y_test, y_dt))\n",
    "print('RF score:')\n",
    "print(accuracy_score(y_test, y_rf))\n",
    "print('LR score:')\n",
    "print(accuracy_score(y_test, y_lr))"
   ]
  },
  {
   "cell_type": "markdown",
   "metadata": {},
   "source": [
    "# Лучшая модель - логистическая регрессия"
   ]
  },
  {
   "cell_type": "code",
   "execution_count": 889,
   "metadata": {},
   "outputs": [
    {
     "name": "stdout",
     "output_type": "stream",
     "text": [
      "LogisticRegression (Acc, Prec, Recall):\n",
      "0.8820846468576028 0.4 0.009142857142857144\n"
     ]
    }
   ],
   "source": [
    "# Взять лучшую модель и сделать predict (с вероятностями (!!!)) для test выборки\n",
    "\n",
    "C=0.001\n",
    "model = Pipeline([\n",
    "       ('scaler', StandardScaler()),\n",
    "       ('clf', LogisticRegression(penalty='l2', fit_intercept=True, C=C))\n",
    "   ])\n",
    "model.fit(X_, y_)\n",
    "print('LogisticRegression (Acc, Prec, Recall):')\n",
    "print(accuracy_score(y_check, model.predict(X_check)), precision_score(y_check, model.predict(X_check)), \\\n",
    "      recall_score(y_check, model.predict(X_check)))\n",
    "y_lr_proba = model.predict_proba(X_check)\n",
    "y_lr = model.predict(X_check)"
   ]
  },
  {
   "cell_type": "code",
   "execution_count": 890,
   "metadata": {},
   "outputs": [
    {
     "name": "stdout",
     "output_type": "stream",
     "text": [
      "LR score:\n",
      "0.8820846468576028\n"
     ]
    },
    {
     "data": {
      "image/png": "[encoded data removed]",
      "text/plain": [
       "<matplotlib.figure.Figure at 0x22ad79d0e80>"
      ]
     },
     "metadata": {},
     "output_type": "display_data"
    }
   ],
   "source": [
    "# Померить roc_auc на тесте\n",
    "fpr3, tpr3, thresholds3 = roc_curve(y_check, y_lr_proba[:,1])\n",
    "\n",
    "plt.figure(figsize=(5, 5))\n",
    "plt.plot(fpr3, tpr3, label=\"LR\")\n",
    "plt.legend(bbox_to_anchor=(1.05, 1), loc=2, borderaxespad=0.)\n",
    "plt.plot([0, 1], [0, 1])\n",
    "plt.ylabel('tpr')\n",
    "plt.xlabel('fpr')\n",
    "plt.grid(True)\n",
    "plt.title('ROC curve')\n",
    "plt.xlim((-0.01, 1.01))\n",
    "plt.ylim((-0.01, 1.01))\n",
    "\n",
    "print('LR score:')\n",
    "print(accuracy_score(y_check, y_lr))"
   ]
  },
  {
   "cell_type": "code",
   "execution_count": null,
   "metadata": {},
   "outputs": [],
   "source": []
  }
 ],
 "metadata": {
  "anaconda-cloud": {},
  "kernelspec": {
   "display_name": "Python 3",
   "language": "python",
   "name": "python3"
  },
  "language_info": {
   "codemirror_mode": {
    "name": "ipython",
    "version": 3
   },
   "file_extension": ".py",
   "mimetype": "text/x-python",
   "name": "python",
   "nbconvert_exporter": "python",
   "pygments_lexer": "ipython3",
   "version": "3.6.4"
  },
  "toc": {
   "colors": {
    "hover_highlight": "#DAA520",
    "navigate_num": "#000000",
    "navigate_text": "#333333",
    "running_highlight": "#FF0000",
    "selected_highlight": "#FFD700",
    "sidebar_border": "#EEEEEE",
    "wrapper_background": "#FFFFFF"
   },
   "moveMenuLeft": true,
   "nav_menu": {
    "height": "31px",
    "width": "253px"
   },
   "navigate_menu": true,
   "number_sections": false,
   "sideBar": true,
   "threshold": 4,
   "toc_cell": false,
   "toc_section_display": "block",
   "toc_window_display": false,
   "widenNotebook": false
  }
 },
 "nbformat": 4,
 "nbformat_minor": 2
}
